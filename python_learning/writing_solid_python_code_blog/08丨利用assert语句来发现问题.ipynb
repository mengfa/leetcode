{
 "cells": [
  {
   "cell_type": "markdown",
   "metadata": {},
   "source": [
    "---\n",
    "title: 08丨利用assert语句来发现问题.\n",
    "date: 2020-04-09 20:01:07\n",
    "tags:\n",
    "- python\n",
    "- 编写高质量代码91个建议\n",
    "categories:\n",
    "- python\n",
    "---"
   ]
  },
  {
   "cell_type": "markdown",
   "metadata": {},
   "source": [
    "### 断言的正确用法.\n",
    "\n",
    "断言只在需要确定.否则不能运行的地方,加入.印证确定代码无误.\n",
    "并不是代码中实际编写的部分.\n",
    "基本语法:\n",
    "\n",
    "```\n",
    "assert expression1 [\",\" expression2]\n",
    "```\n",
    "\n",
    "运行脚本加入 -O标志,忽略与断言相关的语句.\n"
   ]
  },
  {
   "cell_type": "code",
   "execution_count": null,
   "metadata": {},
   "outputs": [],
   "source": [
    "x = 1\n",
    "y = 2\n",
    "# assert 如果不符合条件.抛出异常.\n",
    "assert x == y, \"not equals\"\n",
    "# 上下等价.\n",
    "if __debug__ and not x == y:\n",
    "    raise AssertionError(\"not equals\")"
   ]
  },
  {
   "cell_type": "code",
   "execution_count": null,
   "metadata": {},
   "outputs": [],
   "source": [
    "# 模板代码.如果input不是list.抛异常.\n",
    "assert isinstance(input, list), 'input must be type of list'"
   ]
  }
 ],
 "metadata": {
  "kernelspec": {
   "display_name": "Python 3",
   "language": "python",
   "name": "python3"
  },
  "language_info": {
   "codemirror_mode": {
    "name": "ipython",
    "version": 3
   },
   "file_extension": ".py",
   "mimetype": "text/x-python",
   "name": "python",
   "nbconvert_exporter": "python",
   "pygments_lexer": "ipython3",
   "version": "3.7.1"
  }
 },
 "nbformat": 4,
 "nbformat_minor": 2
}
