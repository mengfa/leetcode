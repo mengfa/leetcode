{
 "cells": [
  {
   "cell_type": "markdown",
   "metadata": {},
   "source": [
    "---\n",
    "title: 09丨数据交换的时候不推荐使用中间变量\n",
    "date: 2020-04-09 21:01:07\n",
    "tags:\n",
    "- python\n",
    "- 编写高质量代码91个建议\n",
    "categories:\n",
    "- python\n",
    "---"
   ]
  },
  {
   "cell_type": "code",
   "execution_count": 2,
   "metadata": {},
   "outputs": [
    {
     "name": "stdout",
     "output_type": "stream",
     "text": [
      "0.03795892000198364\n",
      "0.03163973399205133\n"
     ]
    }
   ],
   "source": [
    "from timeit import Timer\n",
    "\n",
    "print(Timer('temp = x;x = y;y = temp', 'x=2;y=3').timeit())\n",
    "\n",
    "print(Timer('x, y = y, x', 'x=2;y=3').timeit())\n"
   ]
  },
  {
   "cell_type": "markdown",
   "metadata": {},
   "source": [
    "表达式赋值是从右到左,对于x,y=y,x,在内存中:\n",
    "1. 创建元祖(y,x), 其标识符和值分别为y,x及其对应的值.\n",
    "2. 计算表达式左边的值并进行赋值,元组被依次分配给左边的标识符,通过解压unpacking.赋值交换."
   ]
  },
  {
   "cell_type": "code",
   "execution_count": 1,
   "metadata": {},
   "outputs": [
    {
     "name": "stdout",
     "output_type": "stream",
     "text": [
      "swap1():\n",
      "  4           0 LOAD_CONST               1 (2)\n",
      "              2 STORE_FAST               0 (x)\n",
      "\n",
      "  5           4 LOAD_CONST               2 (3)\n",
      "              6 STORE_FAST               1 (y)\n",
      "\n",
      "  6           8 LOAD_FAST                1 (y)\n",
      "             10 LOAD_FAST                0 (x)\n",
      "             12 ROT_TWO\n",
      "             14 STORE_FAST               0 (x)\n",
      "             16 STORE_FAST               1 (y)\n",
      "             18 LOAD_CONST               0 (None)\n",
      "             20 RETURN_VALUE\n",
      "swap2():\n",
      "  9           0 LOAD_CONST               1 (2)\n",
      "              2 STORE_FAST               0 (x)\n",
      "\n",
      " 10           4 LOAD_CONST               2 (3)\n",
      "              6 STORE_FAST               1 (y)\n",
      "\n",
      " 11           8 LOAD_FAST                0 (x)\n",
      "             10 STORE_FAST               2 (temp)\n",
      "\n",
      " 12          12 LOAD_FAST                1 (y)\n",
      "             14 STORE_FAST               0 (x)\n",
      "\n",
      " 13          16 LOAD_FAST                2 (temp)\n",
      "             18 STORE_FAST               1 (y)\n",
      "             20 LOAD_CONST               0 (None)\n",
      "             22 RETURN_VALUE\n"
     ]
    }
   ],
   "source": [
    "import dis\n",
    "\n",
    "def swap1():\n",
    "    x = 2\n",
    "    y = 3\n",
    "    x, y = y, x\n",
    "\n",
    "def swap2():\n",
    "    x = 2\n",
    "    y = 3\n",
    "    temp = x\n",
    "    x = y\n",
    "    y = temp\n",
    "\n",
    "print(\"swap1():\")\n",
    "dis.dis(swap1)\n",
    "print(\"swap2():\")\n",
    "dis.dis(swap2)"
   ]
  },
  {
   "cell_type": "code",
   "execution_count": null,
   "metadata": {},
   "outputs": [],
   "source": []
  }
 ],
 "metadata": {
  "kernelspec": {
   "display_name": "Python 3",
   "language": "python",
   "name": "python3"
  },
  "language_info": {
   "codemirror_mode": {
    "name": "ipython",
    "version": 3
   },
   "file_extension": ".py",
   "mimetype": "text/x-python",
   "name": "python",
   "nbconvert_exporter": "python",
   "pygments_lexer": "ipython3",
   "version": "3.7.1"
  }
 },
 "nbformat": 4,
 "nbformat_minor": 2
}
