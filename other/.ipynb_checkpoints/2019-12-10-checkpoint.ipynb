{
 "cells": [
  {
   "cell_type": "markdown",
   "metadata": {},
   "source": [
    "捡起来算法,第一题,反转链表,看到leetcode上我8个月零3周提交的回答我百味陈杂.如果坚持刷leetcode我现在牛逼了吧.\n",
    "\n",
    "反转链表好难啊,搜索一下,基本有思路了.\n",
    "\n",
    "撒花庆祝我的blog,有了评论,有了leetcode类别."
   ]
  },
  {
   "cell_type": "code",
   "execution_count": null,
   "metadata": {},
   "outputs": [],
   "source": []
  }
 ],
 "metadata": {
  "kernelspec": {
   "display_name": "Python 3",
   "language": "python",
   "name": "python3"
  },
  "language_info": {
   "codemirror_mode": {
    "name": "ipython",
    "version": 3
   },
   "file_extension": ".py",
   "mimetype": "text/x-python",
   "name": "python",
   "nbconvert_exporter": "python",
   "pygments_lexer": "ipython3",
   "version": "3.7.1"
  }
 },
 "nbformat": 4,
 "nbformat_minor": 2
}
