{
 "cells": [
  {
   "cell_type": "markdown",
   "metadata": {},
   "source": [
    "\n",
    "### 179. 最大数"
   ]
  },
  {
   "cell_type": "markdown",
   "metadata": {},
   "source": [
    "给定一组非负整数，重新排列它们的顺序使之组成一个最大的整数。\n",
    "\n",
    "示例 1:\n",
    "```\n",
    "输入: [10,2]\n",
    "输出: 210\n",
    "```\n",
    "示例 2:\n",
    "```\n",
    "输入: [3,30,34,5,9]\n",
    "输出: 9534330\n",
    "说明: 输出结果可能非常大，所以你需要返回一个字符串而不是整数。\n",
    "```"
   ]
  },
  {
   "cell_type": "code",
   "execution_count": null,
   "metadata": {},
   "outputs": [],
   "source": [
    "# 执行用时为 28 ms 的范例\n",
    "class Solution:\n",
    "    def largestNumber(self, nums):\n",
    "        \"\"\"\n",
    "        :type nums: List[int]\n",
    "        :rtype: str\n",
    "        \"\"\"\n",
    "        nums = map(str,nums)\n",
    "        nums.sort(cmp=lambda a,b: 1 if a+b<b+a else -1)\n",
    "        nums = ''.join(nums)\n",
    "        return '0' if nums[0] == '0' else nums"
   ]
  },
  {
   "cell_type": "code",
   "execution_count": null,
   "metadata": {},
   "outputs": [],
   "source": [
    "# 执行用时为 32 ms 的范例\n",
    "class Solution(object):\n",
    "    def largestNumber(self, nums):\n",
    "        \"\"\"\n",
    "        :type nums: List[int]\n",
    "        :rtype: str\n",
    "        \"\"\"\n",
    "        comp = lambda a,b: 1 if a+b > b+a else -1\n",
    "        nums = map(str, nums)\n",
    "        nums.sort(cmp=comp, reverse=True)\n",
    "        return '0' if nums[0] == '0' else ''.join(nums)"
   ]
  }
 ],
 "metadata": {
  "kernelspec": {
   "display_name": "Python 3",
   "language": "python",
   "name": "python3"
  },
  "language_info": {
   "codemirror_mode": {
    "name": "ipython",
    "version": 3
   },
   "file_extension": ".py",
   "mimetype": "text/x-python",
   "name": "python",
   "nbconvert_exporter": "python",
   "pygments_lexer": "ipython3",
   "version": "3.7.1"
  }
 },
 "nbformat": 4,
 "nbformat_minor": 2
}
