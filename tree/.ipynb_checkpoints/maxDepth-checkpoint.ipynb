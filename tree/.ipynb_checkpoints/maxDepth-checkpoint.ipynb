{
 "cells": [
  {
   "cell_type": "markdown",
   "metadata": {},
   "source": [
    "## 二叉树的最大深度"
   ]
  },
  {
   "cell_type": "markdown",
   "metadata": {},
   "source": [
    "给定一个二叉树，找出其最大深度。\n",
    "\n",
    "二叉树的深度为根节点到最远叶子节点的最长路径上的节点数。\n",
    "\n",
    "说明: 叶子节点是指没有子节点的节点。\n",
    "\n",
    "示例：\n",
    "```\n",
    "给定二叉树 [3,9,20,null,null,15,7]，\n",
    "\n",
    "    3\n",
    "   / \\\n",
    "  9  20\n",
    "    /  \\\n",
    "   15   7\n",
    "```\n",
    "返回它的最大深度 3 。"
   ]
  },
  {
   "cell_type": "code",
   "execution_count": null,
   "metadata": {},
   "outputs": [],
   "source": [
    "执行用时为 32 ms 的范例\n",
    "# Definition for a binary tree node.\n",
    "# class TreeNode(object):\n",
    "#     def __init__(self, x):\n",
    "#         self.val = x\n",
    "#         self.left = None\n",
    "#         self.right = None\n",
    "\n",
    "class Solution(object):\n",
    "    def maxDepth(self, root):\n",
    "        \"\"\"\n",
    "        :type root: TreeNode\n",
    "        :rtype: int\n",
    "        \"\"\"\n",
    "        \n",
    "        def calc(root, max_depth, depth):\n",
    "            if not root:\n",
    "                return max(max_depth, depth)\n",
    "            max_depth = calc(root.left, max_depth, depth+1)\n",
    "            max_depth = calc(root.right, max_depth, depth+1)\n",
    "            return max_depth\n",
    "        \n",
    "        if not root:\n",
    "            return 0\n",
    "        \n",
    "        max_depth = 1\n",
    "        depth = 0\n",
    "        return calc(root, max_depth, depth)"
   ]
  },
  {
   "cell_type": "code",
   "execution_count": null,
   "metadata": {},
   "outputs": [],
   "source": [
    "# 执行用时为 40 ms 的范例\n",
    "class Solution(object):\n",
    "    def maxDepth(self, root):\n",
    "        \"\"\"\n",
    "        :type root: TreeNode\n",
    "        :rtype: int\n",
    "        \"\"\"\n",
    "        if root is None:\n",
    "            return 0\n",
    "        depth = max(self.maxDepth(root.left),self.maxDepth(root.right))+1\n",
    "        return depth"
   ]
  }
 ],
 "metadata": {
  "kernelspec": {
   "display_name": "Python 3",
   "language": "python",
   "name": "python3"
  },
  "language_info": {
   "codemirror_mode": {
    "name": "ipython",
    "version": 3
   },
   "file_extension": ".py",
   "mimetype": "text/x-python",
   "name": "python",
   "nbconvert_exporter": "python",
   "pygments_lexer": "ipython3",
   "version": "3.7.1"
  }
 },
 "nbformat": 4,
 "nbformat_minor": 2
}
