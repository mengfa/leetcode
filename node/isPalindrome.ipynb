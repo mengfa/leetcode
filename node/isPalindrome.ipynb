{
 "cells": [
  {
   "cell_type": "markdown",
   "metadata": {},
   "source": [
    "## 回文链表"
   ]
  },
  {
   "cell_type": "markdown",
   "metadata": {},
   "source": [
    "请判断一个链表是否为回文链表。\n",
    "\n",
    "示例 1:\n",
    "```\n",
    "输入: 1->2\n",
    "输出: false\n",
    "```\n",
    "示例 2:\n",
    "```\n",
    "输入: 1->2->2->1\n",
    "输出: true\n",
    "```\n",
    "进阶：\n",
    "你能否用 O(n) 时间复杂度和 O(1) 空间复杂度解决此题？"
   ]
  },
  {
   "cell_type": "code",
   "execution_count": 1,
   "metadata": {},
   "outputs": [
    {
     "name": "stdout",
     "output_type": "stream",
     "text": [
      "0 -->1 -->2 -->NULL\n",
      "False\n"
     ]
    }
   ],
   "source": [
    "# Definition for singly-linked list.\n",
    "class ListNode(object):\n",
    "    def __init__(self, x):\n",
    "        self.val = x\n",
    "        self.next = None\n",
    "\n",
    "class Solution:\n",
    "    def isPalindrome(self, head):\n",
    "        \"\"\"\n",
    "        :type head: ListNode\n",
    "        :rtype: bool\n",
    "        \"\"\"\n",
    "        if head == None or head.next == None:\n",
    "            return True\n",
    "\n",
    "        lat = head.next\n",
    "        pre = head\n",
    "        while lat != None and lat.next != None:\n",
    "            lat = lat.next.next\n",
    "            pre = pre.next\n",
    "\n",
    "        cur = pre.next\n",
    "        pre.next = None\n",
    "        p = None\n",
    "        while cur != None:\n",
    "            q = cur.next\n",
    "            cur.next = p\n",
    "            p = cur\n",
    "            cur = q\n",
    "\n",
    "        while p != None and head != None:\n",
    "            if p.val != head.val:\n",
    "                return False\n",
    "            p = p.next\n",
    "            head = head.next\n",
    "\n",
    "        return True\n",
    "\n",
    "\n",
    "def createList():\n",
    "    head = ListNode(0)\n",
    "    cur = head\n",
    "    for i in range(1, 3):\n",
    "        cur.next = ListNode(i)\n",
    "        cur = cur.next\n",
    "    return head\n",
    "            \n",
    "def printList(head):\n",
    "    cur = head\n",
    "    while cur != None:\n",
    "        print(cur.val, '-->', end='')\n",
    "        cur = cur.next\n",
    "\n",
    "    print('NULL')\n",
    "\n",
    "if __name__ == \"__main__\":\n",
    "    head = createList()\n",
    "    printList(head)\n",
    "    res = Solution().isPalindrome(head)\n",
    "    print(res)"
   ]
  },
  {
   "cell_type": "code",
   "execution_count": null,
   "metadata": {},
   "outputs": [],
   "source": []
  }
 ],
 "metadata": {
  "kernelspec": {
   "display_name": "Python 3",
   "language": "python",
   "name": "python3"
  },
  "language_info": {
   "codemirror_mode": {
    "name": "ipython",
    "version": 3
   },
   "file_extension": ".py",
   "mimetype": "text/x-python",
   "name": "python",
   "nbconvert_exporter": "python",
   "pygments_lexer": "ipython3",
   "version": "3.7.1"
  }
 },
 "nbformat": 4,
 "nbformat_minor": 2
}
