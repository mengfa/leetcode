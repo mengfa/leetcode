{
 "cells": [
  {
   "cell_type": "markdown",
   "metadata": {},
   "source": [
    "## 反转链表"
   ]
  },
  {
   "cell_type": "markdown",
   "metadata": {},
   "source": [
    "反转一个单链表。\n",
    "\n",
    "示例:\n",
    "```\n",
    "输入: 1->2->3->4->5->NULL\n",
    "输出: 5->4->3->2->1->NULL\n",
    "```\n",
    "进阶:\n",
    "你可以迭代或递归地反转链表。你能否用两种方法解决这道题？"
   ]
  },
  {
   "cell_type": "code",
   "execution_count": 1,
   "metadata": {},
   "outputs": [
    {
     "name": "stdout",
     "output_type": "stream",
     "text": [
      "0 -->1 -->2 -->3 -->4 -->5 -->6 -->7 -->8 -->9 -->NULL\n",
      "--------\n",
      "1 -->2 -->3 -->4 -->5 -->6 -->7 -->8 -->9 -->NULL\n",
      "0 -->NULL\n",
      "--------\n",
      "2 -->3 -->4 -->5 -->6 -->7 -->8 -->9 -->NULL\n",
      "1 -->0 -->NULL\n",
      "--------\n",
      "3 -->4 -->5 -->6 -->7 -->8 -->9 -->NULL\n",
      "2 -->1 -->0 -->NULL\n",
      "--------\n",
      "4 -->5 -->6 -->7 -->8 -->9 -->NULL\n",
      "3 -->2 -->1 -->0 -->NULL\n",
      "--------\n",
      "5 -->6 -->7 -->8 -->9 -->NULL\n",
      "4 -->3 -->2 -->1 -->0 -->NULL\n",
      "--------\n",
      "6 -->7 -->8 -->9 -->NULL\n",
      "5 -->4 -->3 -->2 -->1 -->0 -->NULL\n",
      "--------\n",
      "7 -->8 -->9 -->NULL\n",
      "6 -->5 -->4 -->3 -->2 -->1 -->0 -->NULL\n",
      "--------\n",
      "8 -->9 -->NULL\n",
      "7 -->6 -->5 -->4 -->3 -->2 -->1 -->0 -->NULL\n",
      "--------\n",
      "9 -->NULL\n",
      "8 -->7 -->6 -->5 -->4 -->3 -->2 -->1 -->0 -->NULL\n",
      "--------\n",
      "NULL\n",
      "9 -->8 -->7 -->6 -->5 -->4 -->3 -->2 -->1 -->0 -->NULL\n",
      "9 -->8 -->7 -->6 -->5 -->4 -->3 -->2 -->1 -->0 -->NULL\n"
     ]
    }
   ],
   "source": [
    "# -*- coding: utf-8 -*-\n",
    "\n",
    "#    File Name：       reverseList\n",
    "#    Description :\n",
    "#    Author :          LvYang\n",
    "#    date：            2019/3/21\n",
    "#    Change Activity:  2019/3/21:\n",
    "\n",
    "# Definition for singly-linked list.\n",
    "class ListNode:\n",
    "    def __init__(self, x):\n",
    "        self.val = x\n",
    "        self.next = None\n",
    "\n",
    "\n",
    "class Solution:\n",
    "    def reverseList(self, head):\n",
    "        \"\"\"\n",
    "        :type head: ListNode\n",
    "        :rtype: ListNode\n",
    "        \"\"\"\n",
    "        pre = None\n",
    "        cur = head\n",
    "\n",
    "        while cur != None:\n",
    "            print(\"--------\")\n",
    "            lat = cur.next\n",
    "            cur.next = pre\n",
    "            pre = cur\n",
    "            cur = lat\n",
    "            printList(cur)\n",
    "\n",
    "            printList(pre)\n",
    "\n",
    "\n",
    "        return pre\n",
    "\n",
    "\n",
    "def createList():\n",
    "    head = ListNode(0)\n",
    "    cur = head\n",
    "    for i in range(1, 10):\n",
    "        cur.next = ListNode(i)\n",
    "        cur = cur.next\n",
    "    return head\n",
    "\n",
    "\n",
    "def printList(head):\n",
    "    cur = head\n",
    "    while cur != None:\n",
    "        print(cur.val, '-->', end='')\n",
    "        cur = cur.next\n",
    "\n",
    "    print('NULL')\n",
    "\n",
    "\n",
    "if __name__ == \"__main__\":\n",
    "    head = createList()\n",
    "    printList(head)\n",
    "    res = Solution().reverseList(head)\n",
    "    printList(res)\n"
   ]
  },
  {
   "cell_type": "code",
   "execution_count": null,
   "metadata": {},
   "outputs": [],
   "source": []
  }
 ],
 "metadata": {
  "kernelspec": {
   "display_name": "Python 3",
   "language": "python",
   "name": "python3"
  },
  "language_info": {
   "codemirror_mode": {
    "name": "ipython",
    "version": 3
   },
   "file_extension": ".py",
   "mimetype": "text/x-python",
   "name": "python",
   "nbconvert_exporter": "python",
   "pygments_lexer": "ipython3",
   "version": "3.7.1"
  }
 },
 "nbformat": 4,
 "nbformat_minor": 2
}
