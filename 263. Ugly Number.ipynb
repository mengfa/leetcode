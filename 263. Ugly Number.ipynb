{
 "cells": [
  {
   "cell_type": "markdown",
   "metadata": {},
   "source": [
    "## 263. 丑数"
   ]
  },
  {
   "cell_type": "markdown",
   "metadata": {},
   "source": [
    "编写一个程序判断给定的数是否为丑数。\n",
    "\n",
    "丑数就是只包含质因数 2, 3, 5 的正整数。\n",
    "\n",
    "示例 1:\n",
    "```\n",
    "输入: 6\n",
    "输出: true\n",
    "解释: 6 = 2 × 3\n",
    "```\n",
    "示例 2:\n",
    "```\n",
    "输入: 8\n",
    "输出: true\n",
    "解释: 8 = 2 × 2 × 2\n",
    "```\n",
    "示例 3:\n",
    "```\n",
    "输入: 14\n",
    "输出: false \n",
    "解释: 14 不是丑数，因为它包含了另外一个质因数 7。\n",
    "```\n",
    "说明：\n",
    "\n",
    "1 是丑数。\n",
    "```\n",
    "输入不会超过 32 位有符号整数的范围: [−231,  231 − 1]。\n",
    "```"
   ]
  },
  {
   "cell_type": "code",
   "execution_count": null,
   "metadata": {},
   "outputs": [],
   "source": []
  }
 ],
 "metadata": {
  "kernelspec": {
   "display_name": "Python 3",
   "language": "python",
   "name": "python3"
  },
  "language_info": {
   "codemirror_mode": {
    "name": "ipython",
    "version": 3
   },
   "file_extension": ".py",
   "mimetype": "text/x-python",
   "name": "python",
   "nbconvert_exporter": "python",
   "pygments_lexer": "ipython3",
   "version": "3.7.1"
  }
 },
 "nbformat": 4,
 "nbformat_minor": 2
}
