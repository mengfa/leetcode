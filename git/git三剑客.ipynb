{
 "cells": [
  {
   "cell_type": "markdown",
   "metadata": {},
   "source": [
    "\n",
    "\n",
    "20 | 怎么比较工作区和暂存区所含文件的差异？\n",
    "21 | 如何让暂存区恢复成和HEAD的一样？\n",
    "22 | 如何让工作区的文件恢复为和暂存区一样？\n",
    "23 | 怎样取消暂存区部分文件的更改？\n",
    "24 | 消除最近的几次提交\n",
    "25 | 看看不同提交的指定文件的差异\n",
    "26 | 正确删除文件的方法\n",
    "27 | 开发中临时加塞了紧急任务怎么处理？\n",
    "\n",
    "28 | 如何指定不需要Git管理的文件？\n",
    "29 | 如何将Git仓库备份到本地？\n",
    "第三章：Git与GitHub的简单同步 (4讲)\n",
    "\n",
    "\n",
    "30 | 注册一个GitHub账号\n",
    "31 | 配置公私钥\n",
    "32 | 在GitHub上创建个人仓库\n",
    "33 | 把本地仓库同步到GitHub\n",
    "第四章：Git多人单分支集成协作时的常见场景 (5讲)\n",
    "\n",
    "\n",
    "34 | 不同人修改了不同文件如何处理？\n",
    "35 | 不同人修改了同文件的不同区域如何处理？\n",
    "36 | 不同人修改了同文件的同一区域如何处理？\n",
    "37 | 同时变更了文件名和文件内容如何处理？\n",
    "38 | 把同一文件改成了不同的文件名如何处理？\n",
    "第五章：Git集成使用禁忌 (2讲)\n",
    "\n",
    "\n",
    "39 | 禁止向集成分支执行push -f操作\n",
    "40 | 禁止向集成分支执行变更历史的操作\n",
    "第六章：初识GitHub (6讲)\n",
    "\n",
    "\n",
    "41 | GitHub为什么会火？\n",
    "42 | GitHub都有哪些核心功能？\n",
    "免费\n",
    "43 | 怎么快速淘到感兴趣的开源项目?\n",
    "44 | 怎样在GitHub上搭建个人博客\n",
    "45 | 开源项目怎么保证代码质量？\n",
    "46 | 为何需要组织类型的仓库？\n",
    "第七章：使用GitHub进行团队协作 (10讲)\n",
    "\n",
    "\n",
    "47 | 创建团队的项目\n",
    "48 | 怎样选择适合自己团队的工作流？\n",
    "49 | 如何挑选合适的分支集成策略？\n",
    "50 | 启用issue跟踪需求和任务\n",
    "51 | 如何用project管理issue？\n",
    "52 | 项目内部怎么实施code review？\n",
    "53 | 团队协作时如何做多分支的集成？\n",
    "54 | 怎样保证集成的质量？\n",
    "55 | 怎样把产品包发布到GitHub上？\n",
    "56 | 怎么给项目增加详细的指导文档？\n",
    "第八章：GitLab实践 (6讲)\n",
    "\n",
    "\n",
    "57 | 国内互联网企业为什么喜欢GitLab？\n",
    "免费\n",
    "58 | GitLab有哪些核心的功能？\n",
    "59 | GitLab上怎么做项目管理？\n",
    "60 | GitLab上怎么做code review？\n",
    "61 | GitLab上怎么保证集成的质量？\n",
    "62 | 怎么把应用部署到AWS上？\n"
   ]
  },
  {
   "cell_type": "code",
   "execution_count": null,
   "metadata": {},
   "outputs": [],
   "source": []
  },
  {
   "cell_type": "code",
   "execution_count": null,
   "metadata": {},
   "outputs": [],
   "source": []
  },
  {
   "cell_type": "code",
   "execution_count": null,
   "metadata": {},
   "outputs": [],
   "source": []
  },
  {
   "cell_type": "code",
   "execution_count": null,
   "metadata": {},
   "outputs": [],
   "source": []
  },
  {
   "cell_type": "markdown",
   "metadata": {},
   "source": [
    "## 17 | 怎样把连续的多个commit整理成1个？\n",
    "```\n",
    "git rebase -i <conmmit 需要合并的上一个>\n",
    "```\n",
    "\n",
    "* 留第一个pick. 把下面的pick需要合并的改成s. wq!保存.\n",
    "\n",
    "* 弹窗写入新的commit描述.\n",
    "```\n",
    "git rebase --abort\n",
    "```\n",
    "我把第一个pick改成s,使用abort可以恢复."
   ]
  },
  {
   "cell_type": "markdown",
   "metadata": {},
   "source": [
    "## 18 | 怎样把间隔的几个commit整理成1个？\n",
    "```\n",
    "git rebase -i <conmmit 需要合并的上一个>\n",
    "```\n",
    "\n",
    "* 留第一个pick. 把下面间隔的pick需要合并的改成s. 提到第一个pick下面. wq!保存.\n",
    "\n",
    "```\n",
    "git rebase --continue\n",
    "```\n",
    "\n",
    "* 写入新的commit描述.\n",
    "```\n",
    "git rebase --abort\n",
    "```\n",
    "我把第一个pick改成s,使用abort可以恢复."
   ]
  },
  {
   "cell_type": "markdown",
   "metadata": {},
   "source": [
    "## 19 | 怎么比较暂存区和HEAD所含文件的差异？\n",
    "```\n",
    "git diff --cached\n",
    "```"
   ]
  },
  {
   "cell_type": "markdown",
   "metadata": {},
   "source": [
    "## 20 | 怎么比较工作区和暂存区所含文件的差异？\n",
    "\n",
    "```\n",
    "git diff\n",
    "```\n",
    "\n"
   ]
  },
  {
   "cell_type": "markdown",
   "metadata": {},
   "source": [
    "## 21 | 如何让暂存区恢复成和HEAD的一样？\n",
    "\n",
    "```\n",
    "git reset HEAD\n",
    "```"
   ]
  },
  {
   "cell_type": "markdown",
   "metadata": {},
   "source": [
    "## 22 | 如何让工作区的文件恢复为和暂存区一样？\n"
   ]
  },
  {
   "cell_type": "code",
   "execution_count": null,
   "metadata": {},
   "outputs": [],
   "source": []
  },
  {
   "cell_type": "code",
   "execution_count": null,
   "metadata": {},
   "outputs": [],
   "source": []
  },
  {
   "cell_type": "code",
   "execution_count": null,
   "metadata": {},
   "outputs": [],
   "source": []
  },
  {
   "cell_type": "code",
   "execution_count": null,
   "metadata": {},
   "outputs": [],
   "source": []
  },
  {
   "cell_type": "code",
   "execution_count": null,
   "metadata": {},
   "outputs": [],
   "source": []
  },
  {
   "cell_type": "code",
   "execution_count": null,
   "metadata": {},
   "outputs": [],
   "source": []
  }
 ],
 "metadata": {
  "kernelspec": {
   "display_name": "Python 3",
   "language": "python",
   "name": "python3"
  },
  "language_info": {
   "codemirror_mode": {
    "name": "ipython",
    "version": 3
   },
   "file_extension": ".py",
   "mimetype": "text/x-python",
   "name": "python",
   "nbconvert_exporter": "python",
   "pygments_lexer": "ipython3",
   "version": "3.7.3"
  }
 },
 "nbformat": 4,
 "nbformat_minor": 2
}
