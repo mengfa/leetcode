{
 "cells": [
  {
   "cell_type": "markdown",
   "metadata": {},
   "source": [
    "## 387. 字符串中的第一个唯一字符"
   ]
  },
  {
   "cell_type": "markdown",
   "metadata": {},
   "source": [
    "给定一个字符串，找到它的第一个不重复的字符，并返回它的索引。如果不存在，则返回 -1。\n",
    "\n",
    "案例:\n",
    "```\n",
    "s = \"leetcode\"\n",
    "返回 0.\n",
    "\n",
    "\n",
    "s = \"loveleetcode\",\n",
    "返回 2.\n",
    "```"
   ]
  },
  {
   "cell_type": "code",
   "execution_count": null,
   "metadata": {},
   "outputs": [],
   "source": [
    "#执行用时为 28 ms 的范例\n",
    "class Solution(object):\n",
    "    def firstUniqChar(self, s):\n",
    "        \"\"\"\n",
    "        :type s: str\n",
    "        :rtype: int\n",
    "        \"\"\"\n",
    "        # lowercase = 'abcdefghijklmnopqrstuvwxyz'\n",
    "        # res = [s.index(label) for label in lowercase if s.count(label) == 1]\n",
    "        # if len(res):\n",
    "        #     return min(res)\n",
    "        # return -1\n",
    "\n",
    "        if s == '':\n",
    "            return -1\n",
    "        length = len(s)\n",
    "        p = length\n",
    "        alphabet = \"abcdefghijklmnopqrstuvwxyz\"\n",
    "        for char in alphabet:\n",
    "            start = s.find(char)\n",
    "            end = s.rfind(char)\n",
    "            if start != -1 and start == end:\n",
    "                p = min(p,start)\n",
    "        if p == length:\n",
    "            return -1\n",
    "        return p"
   ]
  },
  {
   "cell_type": "code",
   "execution_count": null,
   "metadata": {},
   "outputs": [],
   "source": [
    "#执行用时为 32 ms 的范例\n",
    "class Solution(object):\n",
    "    def firstUniqChar(self, s):\n",
    "        \"\"\"\n",
    "        :type s: str\n",
    "        :rtype: int\n",
    "        \"\"\"\n",
    "        \n",
    "        # for i in range(len(s)):\n",
    "        #     number=s.count(s[i])\n",
    "        #     if number==1:\n",
    "        #         return i\n",
    "        # return -1\n",
    "        if s == '':\n",
    "            return -1\n",
    "        length = len(s)\n",
    "        p = length\n",
    "        alphabet = \"abcdefghijklmnopqrstuvwxyz\"\n",
    "        for char in alphabet:\n",
    "            start = s.find(char)\n",
    "            end = s.rfind(char)\n",
    "            if start != -1 and start == end:\n",
    "                p = min(p, start)\n",
    "        if p == length:\n",
    "            return -1\n",
    "        return p\n",
    "     "
   ]
  },
  {
   "cell_type": "code",
   "execution_count": null,
   "metadata": {},
   "outputs": [],
   "source": [
    "#自己提交的-\n",
    "class Solution(object):\n",
    "    def firstUniqChar(self, s):\n",
    "        \"\"\"\n",
    "        :type s: str\n",
    "        :rtype: int\n",
    "        \"\"\"\n",
    "      \n",
    "        \n",
    "        for i in s:\n",
    "            if s.find(i) == s.rfind(i):\n",
    "                return s.find(i)\n",
    "            \n",
    "        return -1"
   ]
  }
 ],
 "metadata": {
  "kernelspec": {
   "display_name": "Python 3",
   "language": "python",
   "name": "python3"
  },
  "language_info": {
   "codemirror_mode": {
    "name": "ipython",
    "version": 3
   },
   "file_extension": ".py",
   "mimetype": "text/x-python",
   "name": "python",
   "nbconvert_exporter": "python",
   "pygments_lexer": "ipython3",
   "version": "3.7.1"
  }
 },
 "nbformat": 4,
 "nbformat_minor": 2
}
