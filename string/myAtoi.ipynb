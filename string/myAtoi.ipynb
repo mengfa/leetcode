{
 "cells": [
  {
   "cell_type": "markdown",
   "metadata": {},
   "source": [
    "## 字符串转换整数 (atoi)"
   ]
  },
  {
   "cell_type": "markdown",
   "metadata": {},
   "source": [
    "请你来实现一个 atoi 函数，使其能将字符串转换成整数。\n",
    "\n",
    "首先，该函数会根据需要丢弃无用的开头空格字符，直到寻找到第一个非空格的字符为止。\n",
    "\n",
    "当我们寻找到的第一个非空字符为正或者负号时，则将该符号与之后面尽可能多的连续数字组合起来，作为该整数的正负号；假如第一个非空字符是数字，则直接将其与之后连续的数字字符组合起来，形成整数。\n",
    "\n",
    "该字符串除了有效的整数部分之后也可能会存在多余的字符，这些字符可以被忽略，它们对于函数不应该造成影响。\n",
    "\n",
    "注意：假如该字符串中的第一个非空格字符不是一个有效整数字符、字符串为空或字符串仅包含空白字符时，则你的函数不需要进行转换。\n",
    "\n",
    "在任何情况下，若函数不能进行有效的转换时，请返回 0。\n",
    "\n",
    "说明：\n",
    "\n",
    "假设我们的环境只能存储 32 位大小的有符号整数，那么其数值范围为 [−231,  231 − 1]。如果数值超过这个范围，qing返回  INT_MAX (231 − 1) 或 INT_MIN (−231) 。\n",
    "\n",
    "示例 1:\n",
    "```\n",
    "输入: \"42\"\n",
    "输出: 42\n",
    "```\n",
    "示例 2:\n",
    "```\n",
    "输入: \"   -42\"\n",
    "输出: -42\n",
    "解释: 第一个非空白字符为 '-', 它是一个负号。\n",
    "     我们尽可能将负号与后面所有连续出现的数字组合起来，最后得到 -42 。\n",
    "        ```\n",
    "示例 3:\n",
    "```\n",
    "输入: \"4193 with words\"\n",
    "输出: 4193\n",
    "解释: 转换截止于数字 '3' ，因为它的下一个字符不为数字。\n",
    "    ```\n",
    "示例 4:\n",
    "```\n",
    "输入: \"words and 987\"\n",
    "输出: 0\n",
    "解释: 第一个非空字符是 'w', 但它不是数字或正、负号。\n",
    "     因此无法执行有效的转换。\n",
    "```\n",
    "示例 5:\n",
    "```\n",
    "输入: \"-91283472332\"\n",
    "输出: -2147483648\n",
    "解释: 数字 \"-91283472332\" 超过 32 位有符号整数范围。 \n",
    "     因此返回 INT_MIN (−231) 。\n",
    "```"
   ]
  },
  {
   "cell_type": "code",
   "execution_count": 5,
   "metadata": {},
   "outputs": [
    {
     "name": "stdout",
     "output_type": "stream",
     "text": [
      "0\n"
     ]
    }
   ],
   "source": [
    "# 我自己写的.击败8%\n",
    "class Solution(object):\n",
    "    def myAtoi(self, str):\n",
    "        \"\"\"\n",
    "        :type str: str\n",
    "        :rtype: int\n",
    "        \"\"\"\n",
    "        str = str.strip()\n",
    "        if str == \"\":\n",
    "            return 0\n",
    "        if str == \"-\":\n",
    "            return 0\n",
    "        num = \"\"\n",
    "        if str[0] == \"-\":\n",
    "            for i in range(1, len(str)):\n",
    "                if str[i].isdigit():\n",
    "                    num = num + str[i]\n",
    "                else:\n",
    "                    break\n",
    "            if num == \"\":\n",
    "                return 0\n",
    "\n",
    "            print(num)\n",
    "            num = int(num)\n",
    "            num = -1 * num\n",
    "            if num < -2 ** 31:\n",
    "                return -2 ** 31\n",
    "            return num\n",
    "        elif str[0] == \"+\":\n",
    "            for i in range(1, len(str)):\n",
    "                if str[i].isdigit():\n",
    "                    num = num + str[i]\n",
    "                else:\n",
    "                    break\n",
    "            if num == \"\":\n",
    "                return 0\n",
    "            num = int(num)\n",
    "            if num > 2 ** 31-1:\n",
    "                return 2 ** 31-1\n",
    "            return num\n",
    "        elif str[0].isdigit():\n",
    "            for i in range(len(str)):\n",
    "                if str[i].isdigit():\n",
    "                    num = num + str[i]\n",
    "                else:\n",
    "                    break\n",
    "\n",
    "            if int(num) > 2 ** 31 - 1:\n",
    "                return 2 ** 31 - 1\n",
    "            return int(num)\n",
    "        else:\n",
    "            return 0\n",
    "input = \"-+1\"\n",
    "solu = Solution()\n",
    "b = solu.myAtoi(input)\n",
    "print(b)"
   ]
  },
  {
   "cell_type": "code",
   "execution_count": 13,
   "metadata": {},
   "outputs": [
    {
     "name": "stdout",
     "output_type": "stream",
     "text": [
      "False\n",
      "0\n"
     ]
    }
   ],
   "source": [
    "# 执行用时为 36 ms 的范例\n",
    "class Solution(object):\n",
    "    def myAtoi(self, str_):\n",
    "        \"\"\"\n",
    "        :type str: str\n",
    "        :rtype: int\n",
    "        \"\"\"\n",
    "        str_ = str_.strip()\n",
    "        print(bool(str_))\n",
    "        if not str_:\n",
    "            \n",
    "            return 0\n",
    "        \n",
    "        min_ = -2147483648\n",
    "        max_ = 2147483647\n",
    "        #这里是把不符合条件的字母,       \n",
    "        tag = 0\n",
    "        if str_[0] in [\"-\",\"+\"]:\n",
    "            tag = 1\n",
    "        \n",
    "        i = tag\n",
    "        for w in str_[tag:]:\n",
    "            if not w.isdigit():\n",
    "                break\n",
    "            i+=1\n",
    "        print(\"tag:{}\".format(tag))\n",
    "        print(i)\n",
    "        if i == tag :\n",
    "            return 0\n",
    "        \n",
    "        res = int(str_[:i])\n",
    "        if res > max_:\n",
    "            return max_\n",
    "        \n",
    "        if res < min_:\n",
    "            return min_\n",
    "        \n",
    "        return res\n",
    "input = \"\"\n",
    "solu = Solution()\n",
    "b = solu.myAtoi(input)\n",
    "print(b)"
   ]
  },
  {
   "cell_type": "markdown",
   "metadata": {},
   "source": [
    "* \"\"空字符串,转bool值是False\n",
    "* min_ = -2147483648 max_ = 2147483647\n",
    "* str.isdigit() 判断是否是数字\n",
    "#### best解法思路总结\n",
    "1. 去空格判断空,返回0\n",
    "2. 去除符号,记录有效位数,然后切字符串转int\n",
    "3. 判断取值范围.\n"
   ]
  },
  {
   "cell_type": "code",
   "execution_count": 2,
   "metadata": {},
   "outputs": [
    {
     "name": "stdout",
     "output_type": "stream",
     "text": [
      "222\n"
     ]
    }
   ],
   "source": [
    "# 执行用时为 40 ms 的范例\n",
    "import re\n",
    "class Solution(object):\n",
    "    def myAtoi(self, str):\n",
    "        \"\"\"\n",
    "        :type str: str\n",
    "        :rtype: int\n",
    "        \"\"\"\n",
    "        str = str.strip()\n",
    "        try:\n",
    "            res = re.search('(^[\\+\\-]?\\d+)', str).group()\n",
    "            res = int(res)\n",
    "            res = res if res <= 2147483647 else 2147483647\n",
    "            res = res if res >= -2147483648 else -2147483648\n",
    "        except:\n",
    "            res = 0\n",
    "        return res\n",
    "    \n",
    "input = \"+222\"\n",
    "solu = Solution()\n",
    "b = solu.myAtoi(input)\n",
    "print(b)"
   ]
  },
  {
   "cell_type": "markdown",
   "metadata": {},
   "source": [
    "#### 正则真的好屌\n",
    "* '(^[\\+\\-]?\\d+)'  ^开头必须是+或-,?表示前面的出现一次或零次,\\d是数字, +号表示出现1次或多次.\n",
    "#### 思路\n",
    "1. 正则就匹配出来可以转字符串的数字了.\n",
    "2. 转字符串,然后判断范围."
   ]
  },
  {
   "cell_type": "code",
   "execution_count": 19,
   "metadata": {},
   "outputs": [
    {
     "ename": "SyntaxError",
     "evalue": "unexpected EOF while parsing (<ipython-input-19-30f99c32822a>, line 28)",
     "output_type": "error",
     "traceback": [
      "\u001b[0;36m  File \u001b[0;32m\"<ipython-input-19-30f99c32822a>\"\u001b[0;36m, line \u001b[0;32m28\u001b[0m\n\u001b[0;31m    if m>2**31-1:\u001b[0m\n\u001b[0m                 ^\u001b[0m\n\u001b[0;31mSyntaxError\u001b[0m\u001b[0;31m:\u001b[0m unexpected EOF while parsing\n"
     ]
    }
   ],
   "source": [
    "# 执行用时为 44 ms 的范例 最多提交.\n",
    "class Solution(object):\n",
    "    def myAtoi(self, s):\n",
    "        \"\"\"\n",
    "        :type s: str\n",
    "        :rtype: int\n",
    "        \"\"\"\n",
    "        if len(s)==0:\n",
    "        \treturn 0\n",
    "        for i in range(len(s)):\n",
    "        \tif s[i]!=' ':\n",
    "        \t\tbreak        \t\t\n",
    "        s=s[i:]+'ab'\n",
    "        if len(s)==2:\n",
    "        \treturn 0        \n",
    "        comp='+-0123456789'                \n",
    "        if s[0] not in comp:\n",
    "        \treturn 0        \n",
    "        for i in range(1,len(s)):\n",
    "        \tif s[i] not in comp[2:]:\n",
    "        \t\tbreak\n",
    "        m=s[:i]\n",
    "        if len(m)==1 and (m[0]=='+' or m[0]=='-'):\n",
    "        \treturn 0        \n",
    "        m=int(m)\n",
    "        if m<-2**31:\n",
    "        \treturn -2**31\n",
    "        if m>2**31-1:"
   ]
  },
  {
   "cell_type": "code",
   "execution_count": null,
   "metadata": {},
   "outputs": [],
   "source": []
  }
 ],
 "metadata": {
  "kernelspec": {
   "display_name": "Python 3",
   "language": "python",
   "name": "python3"
  },
  "language_info": {
   "codemirror_mode": {
    "name": "ipython",
    "version": 3
   },
   "file_extension": ".py",
   "mimetype": "text/x-python",
   "name": "python",
   "nbconvert_exporter": "python",
   "pygments_lexer": "ipython3",
   "version": "3.7.1"
  }
 },
 "nbformat": 4,
 "nbformat_minor": 2
}
