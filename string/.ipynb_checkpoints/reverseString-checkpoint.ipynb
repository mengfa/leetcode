{
 "cells": [
  {
   "cell_type": "markdown",
   "metadata": {},
   "source": [
    "## 344. 反转字符串"
   ]
  },
  {
   "cell_type": "markdown",
   "metadata": {},
   "source": [
    "\n",
    "\n",
    "\n",
    "编写一个函数，其作用是将输入的字符串反转过来。输入字符串以字符数组 char[] 的形式给出。\n",
    "\n",
    "不要给另外的数组分配额外的空间，你必须原地修改输入数组、使用 O(1) 的额外空间解决这一问题。\n",
    "\n",
    "你可以假设数组中的所有字符都是 ASCII 码表中的可打印字符。\n",
    "\n",
    " \n",
    "\n",
    "示例 1：\n",
    "\n",
    "输入：[\"h\",\"e\",\"l\",\"l\",\"o\"]\n",
    "输出：[\"o\",\"l\",\"l\",\"e\",\"h\"]\n",
    "示例 2：\n",
    "\n",
    "输入：[\"H\",\"a\",\"n\",\"n\",\"a\",\"h\"]\n",
    "输出：[\"h\",\"a\",\"n\",\"n\",\"a\",\"H\"]"
   ]
  },
  {
   "cell_type": "code",
   "execution_count": 2,
   "metadata": {},
   "outputs": [
    {
     "name": "stdout",
     "output_type": "stream",
     "text": [
      "['o', 'l', 'l', 'e', 'h']\n"
     ]
    }
   ],
   "source": [
    "# 执行用时为 24 ms 的范例\n",
    "class Solution(object):\n",
    "    def reverseString(self, s):\n",
    "        \"\"\"\n",
    "        :type s: str\n",
    "        :rtype: str\n",
    "        \"\"\"\n",
    "        \n",
    "        result = s[::-1]\n",
    "        return result\n",
    "    \n",
    "input = [\"h\",\"e\",\"l\",\"l\",\"o\"] \n",
    "solution = Solution()\n",
    "output = solution.reverseString(input)\n",
    "print(output)"
   ]
  },
  {
   "cell_type": "code",
   "execution_count": null,
   "metadata": {},
   "outputs": [],
   "source": [
    "#执行用时为 40 ms 的范例\n",
    "class Solution(object):\n",
    "    def reverseString(self, s):\n",
    "        r = list(s)\n",
    "        i, j  = 0, len(r) - 1\n",
    "        while i < j:\n",
    "            r[i], r[j] = r[j], r[i]\n",
    "            i += 1\n",
    "            j -= 1\n",
    "\n",
    "        return \"\".join(r)\n",
    "            "
   ]
  },
  {
   "cell_type": "code",
   "execution_count": 4,
   "metadata": {},
   "outputs": [
    {
     "name": "stdout",
     "output_type": "stream",
     "text": [
      "['o', 'l', 'l', 'e', 'h']\n",
      "olleh\n"
     ]
    }
   ],
   "source": [
    "#执行用时为 48 ms 的范例\n",
    "class Solution(object):\n",
    "    def reverseString(self, s):\n",
    "        \"\"\"\n",
    "        :type s: str\n",
    "        :rtype: str\n",
    "        \"\"\"\n",
    "        temp = []\n",
    "        i = len(s) - 1\n",
    "        while i>=0:\n",
    "            temp.append(s[i])\n",
    "            i -= 1\n",
    "        print(temp)\n",
    "        return \"\".join(temp)\n",
    "    \n",
    "input = [\"h\",\"e\",\"l\",\"l\",\"o\"] \n",
    "solution = Solution()\n",
    "output = solution.reverseString(input)\n",
    "print(output)"
   ]
  },
  {
   "cell_type": "markdown",
   "metadata": {},
   "source": [
    "用于的符号\n",
    "```\n",
    "a[::-1]\n",
    "```\n",
    "表示对于给定的字符串/列表/元组，您可以使用该格式对所述对象进行切片\n",
    "```\n",
    "\n",
    "<object_name>[<start_index>, <stop_index>, <step>]\n",
    "\n",
    "```\n",
    "这意味着该对象将从给定的起始索引切换每个“步”索引，直到停止索引（不包括停止索引）并将其返回给您。\n",
    "\n",
    "如果缺少起始索引或停止索引，它将占用默认值作为给定字符串/列表/元组的起始索引和停止索引。如果该步骤留空，则它采用默认值1，即它通过每个索引。\n",
    "\n",
    "所以，\n",
    "```\n",
    "\n",
    "a = '1234'\n",
    "\n",
    "print a[::2]\n",
    "```\n",
    "会打印\n",
    "```\n",
    "\n",
    "13\n",
    "```\n",
    "现在索引在这里也是步数，支持负数。因此，如果给出-1索引，则转换为len（a）-1索引。如果你给-x作为步数，那么它将从起始索引开始每个第x个值，直到反向的停止索引。例如\n",
    "```\n",
    "\n",
    "a = '1234'\n",
    "print a[3:0:-1]\n",
    "```\n",
    "这会回来\n",
    "```\n",
    "432\n",
    "```\n",
    "注意，它不返回4321因为，不包括停止索引。\n",
    "\n",
    "现在在你的情况下，\n",
    "```\n",
    "str(int(a[::-1]))\n",
    "```\n",
    "只会反转存储在字符串中的给定整数，然后将其转换回字符串\n",
    "```\n",
    "即“1234” - >“4321” - > 4321 - >“4321”\n",
    "```\n",
    "如果你要做的只是反转给定的字符串，那么只需一个[:: - 1]即可。"
   ]
  },
  {
   "cell_type": "code",
   "execution_count": null,
   "metadata": {},
   "outputs": [],
   "source": []
  }
 ],
 "metadata": {
  "kernelspec": {
   "display_name": "Python 3",
   "language": "python",
   "name": "python3"
  },
  "language_info": {
   "codemirror_mode": {
    "name": "ipython",
    "version": 3
   },
   "file_extension": ".py",
   "mimetype": "text/x-python",
   "name": "python",
   "nbconvert_exporter": "python",
   "pygments_lexer": "ipython3",
   "version": "3.7.1"
  }
 },
 "nbformat": 4,
 "nbformat_minor": 2
}
