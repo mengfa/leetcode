{
 "cells": [
  {
   "cell_type": "markdown",
   "metadata": {},
   "source": [
    "---\n",
    "title: 00 | 你为什么需要数据分析能力？\n",
    "date: 2019-12-10 23:13:07\n",
    "tags:\n",
    "- 数据分析\n",
    "- 极客时间\n",
    "categories:\n",
    "- 数据分析实战45讲\n",
    "---"
   ]
  },
  {
   "cell_type": "markdown",
   "metadata": {},
   "source": [
    "### 数据分析的功能\n",
    "* 通过数据分析，我们可以更好地了解用户画像，为企业做留存率、流失率等指标分析，进而精细化产品运营。\n",
    "\n",
    "* 如果你关注比特币，数据分析可以帮助你预测比特币的走势。\n",
    "\n",
    "* 面对生活中遇到的种种麻烦，数据分析也可以提供解决方案，比如信用卡反欺诈，自动屏蔽垃圾邮件等。"
   ]
  },
  {
   "cell_type": "markdown",
   "metadata": {},
   "source": [
    "### 如何学习\n",
    "总结一下，就是他找到了高效的学习方法，我把它称为MAS 方法。\n",
    "\n",
    "* Multi-Dimension：想要掌握一个事物，就要从多个角度去认识它。\n",
    "\n",
    "* Ask：不懂就问，程序员大多都很羞涩，突破这一点，不懂就问最重要。\n",
    "\n",
    "* Sharing：最好的学习就是分享。用自己的语言讲出来，是对知识的进一步梳理。\n",
    "\n",
    "\n",
    "### 多维度连接\n",
    "怎么和数据分析建立多维度连接呢？我特意把内容分成了三个大类。\n",
    "\n",
    "* 第一类是基础概念。这是我们学习的基础，一定不能落下。\n",
    "\n",
    "* 第二类是工具。这个部分可以很好地锻炼你的实操能力。\n",
    "\n",
    "* 第三类是题库。题库的作用是帮你查漏补缺，在这个过程中，你会情不自禁地进行思考。\n",
    "\n",
    "**学习数据分析的核心就是培养数据思维，掌握挖掘工具，熟练实践并积累经验。**"
   ]
  }
 ],
 "metadata": {
  "kernelspec": {
   "display_name": "Python 3",
   "language": "python",
   "name": "python3"
  },
  "language_info": {
   "codemirror_mode": {
    "name": "ipython",
    "version": 3
   },
   "file_extension": ".py",
   "mimetype": "text/x-python",
   "name": "python",
   "nbconvert_exporter": "python",
   "pygments_lexer": "ipython3",
   "version": "3.7.1"
  }
 },
 "nbformat": 4,
 "nbformat_minor": 2
}
