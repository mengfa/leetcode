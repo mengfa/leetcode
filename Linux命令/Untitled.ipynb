{
 "cells": [
  {
   "cell_type": "markdown",
   "metadata": {},
   "source": [
    "### sed"
   ]
  },
  {
   "cell_type": "markdown",
   "metadata": {},
   "source": [
    "* mac下a追加和linux有区别.\n",
    "```\n",
    "sed \"$line a\\ (注意此处有空格,要在下一行添加文本)  \n",
    "$value(如果想换行要把\"写到下一行)  \n",
    "\" $file  \n",
    "```"
   ]
  },
  {
   "cell_type": "code",
   "execution_count": null,
   "metadata": {},
   "outputs": [],
   "source": []
  }
 ],
 "metadata": {
  "kernelspec": {
   "display_name": "Python 3",
   "language": "python",
   "name": "python3"
  },
  "language_info": {
   "codemirror_mode": {
    "name": "ipython",
    "version": 3
   },
   "file_extension": ".py",
   "mimetype": "text/x-python",
   "name": "python",
   "nbconvert_exporter": "python",
   "pygments_lexer": "ipython3",
   "version": "3.7.1"
  }
 },
 "nbformat": 4,
 "nbformat_minor": 2
}
