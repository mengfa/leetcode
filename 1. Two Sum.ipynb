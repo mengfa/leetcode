{
 "cells": [
  {
   "cell_type": "markdown",
   "metadata": {},
   "source": [
    "## 1. 两数之和"
   ]
  },
  {
   "cell_type": "markdown",
   "metadata": {},
   "source": [
    "给定一个整数数组 nums 和一个目标值 target，请你在该数组中找出和为目标值的那 两个 整数，并返回他们的数组下标。\n",
    "\n",
    "你可以假设每种输入只会对应一个答案。但是，你不能重复利用这个数组中同样的元素。\n",
    "\n",
    "示例:\n",
    "```\n",
    "给定 nums = [2, 7, 11, 15], target = 9\n",
    "\n",
    "因为 nums[0] + nums[1] = 2 + 7 = 9\n",
    "所以返回 [0, 1]\n",
    "```\n"
   ]
  },
  {
   "cell_type": "code",
   "execution_count": 17,
   "metadata": {},
   "outputs": [
    {
     "name": "stdout",
     "output_type": "stream",
     "text": [
      "<enumerate object at 0x104c5e9d8>\n",
      "d: {2: 0}, type: <class 'dict'>\n",
      "<enumerate object at 0x104c5e9d8>\n",
      "d: {2: 0, 11: 1}, type: <class 'dict'>\n",
      "<enumerate object at 0x104c5e9d8>\n",
      "(0, 2)\n",
      "True\n"
     ]
    }
   ],
   "source": [
    "# 执行用时为 20 ms 的范例\n",
    "\n",
    "nums = [2, 11, 7, 15]\n",
    "target = 9\n",
    "\n",
    "class Solution:\n",
    "    # @return a tuple, (index1, index2)\n",
    "    # 8:42\n",
    "    def twoSum(self, nums, target):\n",
    "        d={}\n",
    "        for i,num in enumerate(nums):\n",
    "            print(enumerate(nums))\n",
    "            if target-num in d:\n",
    "                return d[target-num], i\n",
    "            d[num]=i\n",
    "            print(\"d: {}, type: {}\".format(d, type(d)))\n",
    "            \n",
    "            \n",
    "solution = Solution()\n",
    "print(solution.twoSum(nums, target))\n",
    "\n",
    "\n",
    "a = {2: 0, 11: 1}\n",
    "print(11 in a)"
   ]
  },
  {
   "cell_type": "code",
   "execution_count": null,
   "metadata": {},
   "outputs": [],
   "source": [
    "# 执行用时为 28 ms 的范例\n",
    "class Solution(object):\n",
    "    def twoSum(self, nums, target):\n",
    "        \"\"\"\n",
    "        :type nums: List[int]\n",
    "        :type target: int\n",
    "        :rtype: List[int]\n",
    "        \"\"\"\n",
    "        if len(nums)<=1:\n",
    "            return None\n",
    "        buff={}\n",
    "        for i in range(len(nums)):\n",
    "            if nums[i] in buff:\n",
    "                return [i,buff[nums[i]]]\n",
    "            else:\n",
    "                buff[target-nums[i]]=i"
   ]
  },
  {
   "cell_type": "code",
   "execution_count": 16,
   "metadata": {},
   "outputs": [
    {
     "name": "stdout",
     "output_type": "stream",
     "text": [
      "(0, 2)\n"
     ]
    }
   ],
   "source": [
    "\n",
    "nums = [2, 11, 7, 100]\n",
    "target = 9\n",
    "def solution(nums, target):\n",
    "    d = {}\n",
    "    for i, num in enumerate(nums):\n",
    "        if (target - num) in d:\n",
    "            return d[target-num], i\n",
    "        d[num] = i\n",
    "        \n",
    "print(solution(nums, target))"
   ]
  },
  {
   "cell_type": "code",
   "execution_count": null,
   "metadata": {},
   "outputs": [],
   "source": []
  }
 ],
 "metadata": {
  "kernelspec": {
   "display_name": "Python 3",
   "language": "python",
   "name": "python3"
  },
  "language_info": {
   "codemirror_mode": {
    "name": "ipython",
    "version": 3
   },
   "file_extension": ".py",
   "mimetype": "text/x-python",
   "name": "python",
   "nbconvert_exporter": "python",
   "pygments_lexer": "ipython3",
   "version": "3.7.1"
  }
 },
 "nbformat": 4,
 "nbformat_minor": 2
}
