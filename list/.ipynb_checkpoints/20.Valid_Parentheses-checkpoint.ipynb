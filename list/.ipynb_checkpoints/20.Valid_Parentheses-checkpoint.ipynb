{
 "cells": [
  {
   "cell_type": "markdown",
   "metadata": {},
   "source": [
    "## 20. 有效的括号"
   ]
  },
  {
   "cell_type": "markdown",
   "metadata": {},
   "source": [
    "给定一个只包括 '('，')'，'{'，'}'，'['，']' 的字符串，判断字符串是否有效。\n",
    "\n",
    "有效字符串需满足：\n",
    "\n",
    "左括号必须用相同类型的右括号闭合。\n",
    "左括号必须以正确的顺序闭合。\n",
    "注意空字符串可被认为是有效字符串。\n",
    "```\n",
    "示例 1:\n",
    "\n",
    "输入: \"()\"\n",
    "输出: true\n",
    "```\n",
    "示例 2:\n",
    "```\n",
    "输入: \"()[]{}\"\n",
    "输出: true\n",
    "```\n",
    "示例 3:\n",
    "```\n",
    "输入: \"(]\"\n",
    "输出: false\n",
    "```\n",
    "示例 4:\n",
    "```\n",
    "输入: \"([)]\"\n",
    "输出: false\n",
    "```\n",
    "示例 5:\n",
    "```\n",
    "输入: \"{[]}\"\n",
    "输出: true\n",
    "```"
   ]
  },
  {
   "cell_type": "code",
   "execution_count": 1,
   "metadata": {},
   "outputs": [
    {
     "name": "stdout",
     "output_type": "stream",
     "text": [
      "True\n"
     ]
    }
   ],
   "source": [
    "# 极客时间解法\n",
    "class Solution(object):\n",
    "    def isValid(self, s):\n",
    "        \"\"\"\n",
    "        :type s: str\n",
    "        :rtype: bool\n",
    "        \"\"\"\n",
    "        stack = []\n",
    "        paren_map = {')': '(', ']': '[', '}': '{'}\n",
    "        for c in s:\n",
    "            if c not in paren_map:\n",
    "                stack.append(c)\n",
    "            elif not stack or paren_map[c] != stack.pop():\n",
    "                return False\n",
    "        return not stack\n",
    "    \n",
    "input = \"()[]{}\"\n",
    "\n",
    "so = Solution()\n",
    "result = so.isValid(input)\n",
    "print(result)"
   ]
  },
  {
   "cell_type": "markdown",
   "metadata": {},
   "source": [
    "* 思路: 循环进入字符串如果没有在statck里面就存入stack. elif是stack不为空,并且stack拿出来和传入的不能配对.返回False. \n",
    "* True.是stack.pop()和append()全都配对.stack为空."
   ]
  },
  {
   "cell_type": "code",
   "execution_count": null,
   "metadata": {},
   "outputs": [],
   "source": [
    "执行用时为 20 ms 的范例\n",
    "class Solution(object):\n",
    "    def isValid(self, s):\n",
    "        \"\"\"\n",
    "        :type s: str\n",
    "        :rtype: bool\n",
    "        \"\"\"\n",
    "        if len(s)==0:\n",
    "            return True\n",
    "        if len(s)%2==1: # 如果是奇数个字符，直接错误\n",
    "            return False\n",
    "        \n",
    "        index = 0 # 记录位置\n",
    "        dicts = {'}':'{',\n",
    "                 ']':'[',\n",
    "                 ')':'('} # 建立字典索引，如果遇到右半边，就看看左边的最后一个是不是能对应上\n",
    "        record = [] #用来记录左边的，这是一个栈\n",
    "        while index<len(s):\n",
    "            if s[index] not in dicts: \n",
    "                record.append(s[index])\n",
    "            else:\n",
    "                if len(record)==0: # 如果有了右边的，却没有左边的，就错误了\n",
    "                    return False\n",
    "                left_char = record.pop() # 返回最左边的，用来对应\n",
    "                if left_char != dicts[s[index]]: # 如果对应不上，就错了\n",
    "                    return False\n",
    "            index += 1\n",
    "        return True if len(record)==0 else False"
   ]
  }
 ],
 "metadata": {
  "kernelspec": {
   "display_name": "Python 3",
   "language": "python",
   "name": "python3"
  },
  "language_info": {
   "codemirror_mode": {
    "name": "ipython",
    "version": 3
   },
   "file_extension": ".py",
   "mimetype": "text/x-python",
   "name": "python",
   "nbconvert_exporter": "python",
   "pygments_lexer": "ipython3",
   "version": "3.7.1"
  }
 },
 "nbformat": 4,
 "nbformat_minor": 2
}
