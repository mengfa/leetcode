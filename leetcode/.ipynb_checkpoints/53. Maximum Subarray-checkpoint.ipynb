{
 "cells": [
  {
   "cell_type": "markdown",
   "metadata": {},
   "source": [
    "### 53. 最大子序和\n",
    "给定一个整数数组 nums ，找到一个具有最大和的连续子数组（子数组最少包含一个元素），返回其最大和。\n",
    "\n",
    "示例:\n",
    "```\n",
    "输入: [-2,1,-3,4,-1,2,1,-5,4],\n",
    "输出: 6\n",
    "解释: 连续子数组 [4,-1,2,1] 的和最大，为 6。\n",
    "```\n",
    "进阶:\n",
    "\n",
    "如果你已经实现复杂度为 O(n) 的解法，尝试使用更为精妙的分治法求解。"
   ]
  },
  {
   "cell_type": "code",
   "execution_count": null,
   "metadata": {},
   "outputs": [],
   "source": [
    "执行用时为 20 ms 的范例\n",
    "class Solution(object):\n",
    "    def maxSubArray(self, nums):\n",
    "        maxSum = 0;\n",
    "        maxNow = 0;\n",
    "        ok = 1\n",
    "        for i in range(len(nums)):\n",
    "            if nums[i]>0:\n",
    "                ok = 0\n",
    "                break\n",
    "        if ok == 1:\n",
    "            return max(nums)\n",
    "\n",
    "        for i in range(len(nums)):\n",
    "            if maxNow<0:\n",
    "                maxNow = 0\n",
    "            maxNow+=nums[i]\n",
    "            if maxNow>maxSum:\n",
    "                maxSum = maxNow\n",
    "        return maxSum\n",
    "#A = Solution()\n",
    "#print A.maxSubArray([-1])"
   ]
  },
  {
   "cell_type": "code",
   "execution_count": null,
   "metadata": {},
   "outputs": [],
   "source": [
    "执行用时为 24 ms 的范例\n",
    "class Solution(object):\n",
    "    def maxSubArray(self, nums):\n",
    "        \"\"\"\n",
    "        :type nums: List[int]\n",
    "        :rtype: int\n",
    "        \"\"\"\n",
    "        \n",
    "        res, tmpSum = [nums[0]], nums[0]\n",
    "        \n",
    "        for x in nums[1:]:\n",
    "            tmpSum = max(x, tmpSum + x) #start form this idx or merge idx before\n",
    "            res.append(tmpSum)\n",
    "\n",
    "        return max(res)"
   ]
  },
  {
   "cell_type": "code",
   "execution_count": null,
   "metadata": {},
   "outputs": [],
   "source": [
    "# 执行用时为 48 ms 的范例\n",
    "class Solution(object):\n",
    "    def maxSubArray(self, nums):\n",
    "        \"\"\"\n",
    "        :type nums: List[int]\n",
    "        :rtype: int\n",
    "        \"\"\"\n",
    "        \"\"\"\n",
    "        sum[n] = max(sum[n-1]+a[n]. a[n])\n",
    "        res记录最大和\n",
    "        sum_负责记录过程中的字串和\n",
    "        \"\"\"\n",
    "        length = len(nums)\n",
    "        res = nums[0]\n",
    "        if nums == []:\n",
    "            return 0\n",
    "        sum_ = nums[0]\n",
    "        for i in range(1, length):\n",
    "            if sum_ > 0:\n",
    "                sum_ += nums[i]\n",
    "            else:\n",
    "                sum_ = nums[i]\n",
    "            if sum_ > res:\n",
    "                res = sum_"
   ]
  },
  {
   "cell_type": "code",
   "execution_count": null,
   "metadata": {},
   "outputs": [],
   "source": [
    "执行用时为 28 ms 的范例\n",
    "class Solution(object):\n",
    "    def maxSubArray(self, nums):\n",
    "        \"\"\"\n",
    "        :type nums: List[int]\n",
    "        :rtype: int\n",
    "        \"\"\"\n",
    "        sum=0\n",
    "        max_sub_sum=nums[0]\n",
    "        for num in nums:\n",
    "            sum=sum+num\n",
    "            if sum >max_sub_sum:\n",
    "                max_sub_sum=sum\n",
    "            if sum<0:\n",
    "                sum=0\n",
    "        return max_sub_sum"
   ]
  },
  {
   "cell_type": "code",
   "execution_count": null,
   "metadata": {},
   "outputs": [],
   "source": [
    "执行用时为 32 ms 的范例\n",
    "class Solution(object):\n",
    "    def maxSubArray(self, nums):\n",
    "        \"\"\"\n",
    "        :type nums: List[int]\n",
    "        :rtype: int\n",
    "        \"\"\"\n",
    "        n=len(nums)\n",
    "        for i in range(1,n):\n",
    "            nums[i]=max(nums[i]+nums[i-1],nums[i])\n",
    "        return(max(nums))"
   ]
  }
 ],
 "metadata": {
  "kernelspec": {
   "display_name": "Python 3",
   "language": "python",
   "name": "python3"
  },
  "language_info": {
   "codemirror_mode": {
    "name": "ipython",
    "version": 3
   },
   "file_extension": ".py",
   "mimetype": "text/x-python",
   "name": "python",
   "nbconvert_exporter": "python",
   "pygments_lexer": "ipython3",
   "version": "3.7.1"
  }
 },
 "nbformat": 4,
 "nbformat_minor": 2
}
