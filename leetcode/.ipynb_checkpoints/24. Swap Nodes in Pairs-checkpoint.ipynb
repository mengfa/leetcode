{
 "cells": [
  {
   "cell_type": "markdown",
   "metadata": {},
   "source": [
    "---\n",
    "title: 24. Swap Nodes in Pairs\n",
    "date: 2019-12-14 10:15:07\n",
    "tags:\n",
    "- 数组&链表\n",
    "categories:\n",
    "- leetcode\n",
    "---"
   ]
  },
  {
   "cell_type": "markdown",
   "metadata": {},
   "source": [
    "### 英文题目\n",
    "Given a linked list, swap every two adjacent nodes and return its head.\n",
    "\n",
    "You may not modify the values in the list's nodes, only nodes itself may be changed.\n",
    "\n",
    " \n",
    "\n",
    "Example:\n",
    "```\n",
    "Given 1->2->3->4, you should return the list as 2->1->4->3.\n",
    "```"
   ]
  },
  {
   "cell_type": "markdown",
   "metadata": {},
   "source": [
    "### 中文题目\n",
    "给定一个链表，两两交换其中相邻的节点，并返回交换后的链表。\n",
    "\n",
    "你不能只是单纯的改变节点内部的值，而是需要实际的进行节点交换。\n",
    "\n",
    " \n",
    "\n",
    "示例:\n",
    "```\n",
    "给定 1->2->3->4, 你应该返回 2->1->4->3.\n",
    "```"
   ]
  },
  {
   "cell_type": "markdown",
   "metadata": {},
   "source": [
    "### 思路\n",
    "给定一个链表，两两交换其中相邻的节点，并返回交换后的链表。\n",
    "\n",
    "示例:\n",
    "```\n",
    "给定 1->2->3->4, 你应该返回 2->1->4->3.\n",
    "```\n",
    "说明:\n",
    "\n",
    "* 你的算法只能使用常数的额外空间。\n",
    "* 你不能只是单纯的改变节点内部的值，而是需要实际的进行节点交换。\n",
    "\n",
    "解题思路:\n",
    "\n",
    "我们首先需要建立pre、node1、node2和lat四个指针即可。\n",
    "```\n",
    "pre   node1  node2   lat\n",
    " h  ->  1  ->  2  ->  3  ->  4\n",
    " ```\n",
    " \n",
    " 然后pre->next=node2;node2.next=node1;node1.next=lat\n",
    " \n",
    " ```\n",
    "      -----------\n",
    "     |         |\n",
    "h    1 <- 2 -> 3 -> 4\n",
    "|         |\n",
    "-----------\n",
    "\n",
    "```\n",
    "\n",
    "```\n",
    "2->1->4->3.\n",
    "```"
   ]
  },
  {
   "cell_type": "markdown",
   "metadata": {},
   "source": [
    "### 图解\n",
    "![jupyter](./img/24.webp)\n",
    "### 代码"
   ]
  },
  {
   "cell_type": "code",
   "execution_count": 1,
   "metadata": {},
   "outputs": [
    {
     "name": "stdout",
     "output_type": "stream",
     "text": [
      "1 -->2 -->3 -->4 -->NULL\n",
      "2 -->1 -->4 -->3 -->NULL\n"
     ]
    }
   ],
   "source": [
    "class ListNode:\n",
    "    def __init__(self, x):\n",
    "        self.val = x\n",
    "        self.next = None\n",
    "\n",
    "\n",
    "def createList():\n",
    "    head = ListNode(1)\n",
    "    cur = head\n",
    "\n",
    "    for i in range(2, 5):\n",
    "        cur.next = ListNode(i)\n",
    "        cur = cur.next\n",
    "    return head\n",
    "\n",
    "\n",
    "def printList(head):\n",
    "    cur = head\n",
    "    while cur != None:\n",
    "        print(cur.val, '-->', end='')\n",
    "        cur = cur.next\n",
    "    print('NULL')\n",
    "\n",
    "\n",
    "class Solution:\n",
    "    def swapPairs(self, head):\n",
    "        \"\"\"\n",
    "        :type head: ListNode\n",
    "        :rtype: ListNode\n",
    "        \"\"\"\n",
    "        h = ListNode(-1)\n",
    "        h.next = head\n",
    "        pre = h\n",
    "        while pre.next != None and pre.next.next != None:\n",
    "            # 定位node1， node2.\n",
    "            node1 = pre.next\n",
    "            node2 = node1.next\n",
    "            lat = node2.next\n",
    "            #交换\n",
    "            pre.next = node2\n",
    "            node2.next = node1\n",
    "            node1.next = lat\n",
    "\n",
    "            pre = node1\n",
    "\n",
    "        return h.next\n",
    "\n",
    "\n",
    "if __name__ == \"__main__\":\n",
    "    head = createList()\n",
    "    printList(head)\n",
    "    res = Solution().swapPairs(head)\n",
    "    printList(res)\n"
   ]
  }
 ],
 "metadata": {
  "kernelspec": {
   "display_name": "Python 3",
   "language": "python",
   "name": "python3"
  },
  "language_info": {
   "codemirror_mode": {
    "name": "ipython",
    "version": 3
   },
   "file_extension": ".py",
   "mimetype": "text/x-python",
   "name": "python",
   "nbconvert_exporter": "python",
   "pygments_lexer": "ipython3",
   "version": "3.7.4"
  }
 },
 "nbformat": 4,
 "nbformat_minor": 2
}
