{
 "cells": [
  {
   "cell_type": "markdown",
   "metadata": {},
   "source": [
    "---\n",
    "title: 25. Reverse Nodes in k-Group\n",
    "date: 2019-12-15 10:15:07\n",
    "tags:\n",
    "- 数组&链表\n",
    "categories:\n",
    "- leetcode\n",
    "---"
   ]
  },
  {
   "cell_type": "markdown",
   "metadata": {},
   "source": [
    "Given a linked list, reverse the nodes of a linked list k at a time and return its modified list.\n",
    "\n",
    "k is a positive integer and is less than or equal to the length of the linked list. If the number of nodes is not a multiple of k then left-out nodes in the end should remain as it is.\n",
    "\n",
    "Example:\n",
    "\n",
    "Given this linked list: 1->2->3->4->5\n",
    "\n",
    "For k = 2, you should return: 2->1->4->3->5\n",
    "\n",
    "For k = 3, you should return: 3->2->1->4->5\n",
    "\n",
    "Note:\n",
    "\n",
    "Only constant extra memory is allowed.\n",
    "You may not alter the values in the list's nodes, only nodes itself may be changed.\n"
   ]
  },
  {
   "cell_type": "markdown",
   "metadata": {},
   "source": [
    "给你一个链表，每 k 个节点一组进行翻转，请你返回翻转后的链表。\n",
    "\n",
    "k 是一个正整数，它的值小于或等于链表的长度。\n",
    "\n",
    "如果节点总数不是 k 的整数倍，那么请将最后剩余的节点保持原有顺序。\n",
    "\n",
    "示例 :\n",
    "```\n",
    "给定这个链表：1->2->3->4->5\n",
    "\n",
    "当 k = 2 时，应当返回: 2->1->4->3->5\n",
    "\n",
    "当 k = 3 时，应当返回: 3->2->1->4->5\n",
    "```\n",
    "说明 :\n",
    "\n",
    "* 你的算法只能使用常数的额外空间。\n",
    "* 你不能只是单纯的改变节点内部的值，而是需要实际的进行节点交换。\n",
    "\n"
   ]
  },
  {
   "cell_type": "code",
   "execution_count": null,
   "metadata": {},
   "outputs": [],
   "source": [
    "class Solution:\n",
    "    def _reverseGroup(self, pre, lat):\n",
    "        lpre = pre.next\n",
    "        cur = lpre.next\n",
    "        while cur != lat:\n",
    "            lpre.next = cur.next\n",
    "            cur.next = pre.next\n",
    "            pre.next = cur\n",
    "            cur = lpre.next\n",
    "\n",
    "        return lpre\n",
    "\n",
    "    def reverseKGroup(self, head, k):\n",
    "        \"\"\"\n",
    "        :type head: ListNode\n",
    "        :type k: int\n",
    "        :rtype: ListNode\n",
    "        \"\"\"\n",
    "        h = ListNode(-1)\n",
    "        h.next = head\n",
    "        pre = h\n",
    "        cur = head\n",
    "        \n",
    "        t = 1\n",
    "        while cur != None:\n",
    "            if t % k == 0:\n",
    "                pre = self._reverseGroup(pre, cur.next)\n",
    "                cur = pre.next\n",
    "            else:\n",
    "                cur = cur.next\n",
    "            t += 1\n",
    "           \n",
    "        return h.next\n"
   ]
  }
 ],
 "metadata": {
  "kernelspec": {
   "display_name": "Python 3",
   "language": "python",
   "name": "python3"
  },
  "language_info": {
   "codemirror_mode": {
    "name": "ipython",
    "version": 3
   },
   "file_extension": ".py",
   "mimetype": "text/x-python",
   "name": "python",
   "nbconvert_exporter": "python",
   "pygments_lexer": "ipython3",
   "version": "3.7.4"
  }
 },
 "nbformat": 4,
 "nbformat_minor": 2
}
