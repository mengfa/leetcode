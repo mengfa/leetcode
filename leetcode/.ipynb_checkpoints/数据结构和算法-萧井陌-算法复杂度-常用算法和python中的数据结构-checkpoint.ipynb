{
 "cells": [
  {
   "cell_type": "markdown",
   "metadata": {},
   "source": [
    "### 算法的时间复杂度\n",
    "\n",
    "#### 大 O 记法，是描述算法复杂度的符号\n",
    "* O(1)\n",
    "```\n",
    "常数复杂度，最快速的算法。\n",
    "取数组第 1000000 个元素\n",
    "字典和集合的存取都是 O(1)\n",
    "数组的存取是 O(1)\n",
    "```\n",
    "* O(lgN)\n",
    "```\n",
    "对数复杂度\n",
    "假设有一个有序数组，以二分法查找\n",
    "```\n",
    "* O(n)\n",
    "```\n",
    "线性复杂度\n",
    "假设有一个数组，以遍历的方式在其中查找元素\n",
    "```\n",
    "* O(nlgn)\n",
    "```\n",
    "求两个数组交集，其中一个是有序数组\n",
    "A 数组每一个元素都要在 B 数组中进行查找操作\n",
    "每次查找如果使用二分法则复杂度是 lgN\n",
    "```\n",
    "* O(N^2)\n",
    "```\n",
    "平方复杂度\n",
    "求两个无序数组的交集\n",
    "```"
   ]
  },
  {
   "cell_type": "code",
   "execution_count": null,
   "metadata": {},
   "outputs": [],
   "source": []
  },
  {
   "cell_type": "code",
   "execution_count": null,
   "metadata": {},
   "outputs": [],
   "source": []
  },
  {
   "cell_type": "code",
   "execution_count": null,
   "metadata": {},
   "outputs": [],
   "source": []
  }
 ],
 "metadata": {
  "kernelspec": {
   "display_name": "Python 3",
   "language": "python",
   "name": "python3"
  },
  "language_info": {
   "codemirror_mode": {
    "name": "ipython",
    "version": 3
   },
   "file_extension": ".py",
   "mimetype": "text/x-python",
   "name": "python",
   "nbconvert_exporter": "python",
   "pygments_lexer": "ipython3",
   "version": "3.7.1"
  }
 },
 "nbformat": 4,
 "nbformat_minor": 2
}
