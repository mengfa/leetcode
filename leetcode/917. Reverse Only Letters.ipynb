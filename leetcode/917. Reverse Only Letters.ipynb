{
 "cells": [
  {
   "cell_type": "markdown",
   "metadata": {},
   "source": [
    "## 917. 仅仅反转字母"
   ]
  },
  {
   "cell_type": "markdown",
   "metadata": {},
   "source": [
    "给定一个字符串 S，返回 “反转后的” 字符串，其中不是字母的字符都保留在原地，而所有字母的位置发生反转。\n",
    "\n",
    " \n",
    "\n",
    "示例 1：\n",
    "```\n",
    "输入：\"ab-cd\"\n",
    "输出：\"dc-ba\"\n",
    "```\n",
    "示例 2：\n",
    "```\n",
    "输入：\"a-bC-dEf-ghIj\"\n",
    "输出：\"j-Ih-gfE-dCba\"\n",
    "```\n",
    "示例 3：\n",
    "```\n",
    "输入：\"Test1ng-Leet=code-Q!\"\n",
    "输出：\"Qedo1ct-eeLg=ntse-T!\"\n",
    " ```\n",
    "\n",
    "提示：\n",
    "\n",
    "S.length <= 100\n",
    "33 <= S[i].ASCIIcode <= 122 \n",
    "S 中不包含 \\ or \""
   ]
  },
  {
   "cell_type": "code",
   "execution_count": 2,
   "metadata": {},
   "outputs": [
    {
     "name": "stdout",
     "output_type": "stream",
     "text": [
      "dc-ba\n"
     ]
    }
   ],
   "source": [
    "# 我自己的解法,双指针.\n",
    "class Solution(object):\n",
    "    def reverseOnlyLetters(self, S):\n",
    "        \"\"\"\n",
    "        :type S: str\n",
    "        :rtype: str\n",
    "        \"\"\"\n",
    "        l = 0\n",
    "        r = len(S) - 1\n",
    "        S = list(S)\n",
    "        while l < r:\n",
    "            if not S[l].isalpha():\n",
    "                l += 1\n",
    "                continue\n",
    "\n",
    "            if not S[r].isalpha():\n",
    "                r -= 1\n",
    "                continue\n",
    "\n",
    "            S[l], S[r] = S[r], S[l]\n",
    "            l += 1\n",
    "            r -= 1\n",
    "        return ''.join(S)\n",
    "\n",
    "input= \"ab-cd\"\n",
    "s = Solution()\n",
    "res = s.reverseOnlyLetters(input)\n",
    "print(res)"
   ]
  },
  {
   "cell_type": "code",
   "execution_count": null,
   "metadata": {},
   "outputs": [],
   "source": [
    "# 执行用时为 24 ms 的范例\n",
    "class Solution(object):\n",
    "    def reverseOnlyLetters(self, S):\n",
    "        \"\"\"\n",
    "        :type S: str\n",
    "        :rtype: str\n",
    "        \"\"\"\n",
    "        s=list(S)\n",
    "        lst=[]\n",
    "        indexs=[]\n",
    "        for i in range(len(s)):\n",
    "            if 97 <= ord(s[i]) <=122 or 65 <= ord(s[i]) <= 90:\n",
    "                lst.append(s[i])\n",
    "                indexs.append(i)\n",
    "            else:\n",
    "                continue\n",
    "        lst.reverse()\n",
    "        for j in range(len(lst)):\n",
    "            s[indexs[j]] = lst[j]\n",
    "        res=''.join(s)\n",
    "        return res"
   ]
  },
  {
   "cell_type": "code",
   "execution_count": null,
   "metadata": {},
   "outputs": [],
   "source": [
    "# 执行用时为 28 ms 的范例\n",
    "class Solution(object):\n",
    "    def reverseOnlyLetters(self, S):\n",
    "        \"\"\"\n",
    "        :type S: str\n",
    "        :rtype: str\n",
    "        \"\"\"\n",
    "        dic = {}\n",
    "        temp_dic = {}\n",
    "        [dic.setdefault(item, []).append(index) for index, item in enumerate(S) if not item.isalpha()]\n",
    "        temp = [i for i in S if i.isalpha()][::-1]\n",
    "        [temp_dic.setdefault(index, item) for index, item in enumerate(S) if not item.isalpha()]\n",
    "        for i in sorted(temp_dic.keys()):\n",
    "            temp.insert(i, temp_dic[i][0])\n",
    "        return ''.join(temp)"
   ]
  }
 ],
 "metadata": {
  "kernelspec": {
   "display_name": "Python 3",
   "language": "python",
   "name": "python3"
  },
  "language_info": {
   "codemirror_mode": {
    "name": "ipython",
    "version": 3
   },
   "file_extension": ".py",
   "mimetype": "text/x-python",
   "name": "python",
   "nbconvert_exporter": "python",
   "pygments_lexer": "ipython3",
   "version": "3.7.1"
  }
 },
 "nbformat": 4,
 "nbformat_minor": 2
}
