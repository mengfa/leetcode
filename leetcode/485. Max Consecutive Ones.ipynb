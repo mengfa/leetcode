{
 "cells": [
  {
   "cell_type": "markdown",
   "metadata": {},
   "source": [
    "## 485. 最大连续1的个数"
   ]
  },
  {
   "cell_type": "markdown",
   "metadata": {},
   "source": [
    "给定一个二进制数组， 计算其中最大连续1的个数。\n",
    "\n",
    "示例 1:\n",
    "```\n",
    "输入: [1,1,0,1,1,1]\n",
    "输出: 3\n",
    "\n",
    "解释: 开头的两位和最后的三位都是连续1，所以最大连续1的个数是 3.\n",
    "注意：\n",
    "```\n",
    "输入的数组只包含 0 和1。\n",
    "输入数组的长度是正整数，且不超过 10,000。"
   ]
  },
  {
   "cell_type": "code",
   "execution_count": null,
   "metadata": {},
   "outputs": [],
   "source": [
    "# 执行用时为 48 ms 的范例\n",
    "class Solution(object):\n",
    "    def findMaxConsecutiveOnes(self, nums):\n",
    "        \"\"\"\n",
    "        :type nums: List[int]\n",
    "        :rtype: int\n",
    "        \"\"\"\n",
    "        maxnum=count=0\n",
    "        for num in nums:\n",
    "            if num==1:\n",
    "                count=count+1\n",
    "            else:\n",
    "                if count > maxnum:\n",
    "                    maxnum=count\n",
    "                count=0\n",
    "\n",
    "        return max(maxnum,count)"
   ]
  },
  {
   "cell_type": "code",
   "execution_count": null,
   "metadata": {},
   "outputs": [],
   "source": [
    "执行用时为 44 ms 的范例\n",
    "class Solution(object):\n",
    "    def findMaxConsecutiveOnes(self, nums):\n",
    "        \"\"\"\n",
    "        :type nums: List[int]\n",
    "        :rtype: int\n",
    "        \"\"\"\n",
    "        \n",
    "        nums.append(0)\n",
    "        result_count=[]\n",
    "        count=0\n",
    "        for x in nums:\n",
    "\n",
    "            if x==1:\n",
    "                count+=1\n",
    "            else:\n",
    "                result_count.append(count)\n",
    "                count=0\n",
    "\n",
    "        return max(result_count)"
   ]
  },
  {
   "cell_type": "code",
   "execution_count": null,
   "metadata": {},
   "outputs": [],
   "source": [
    "# 执行用时为 52 ms 的范例\n",
    "class Solution(object):\n",
    "    def findMaxConsecutiveOnes(self, nums):\n",
    "        \"\"\"\n",
    "        :type nums: List[int]\n",
    "        :rtype: int\n",
    "        \"\"\"\n",
    "        res = 0\n",
    "        _sum = 0\n",
    "        for i in xrange(len(nums)):\n",
    "            if nums[i] != 0:\n",
    "                _sum += 1\n",
    "            else:\n",
    "                if res<_sum:\n",
    "                    res = _sum\n",
    "                _sum = 0\n",
    "        return res if res>_sum else _sum"
   ]
  }
 ],
 "metadata": {
  "kernelspec": {
   "display_name": "Python 3",
   "language": "python",
   "name": "python3"
  },
  "language_info": {
   "codemirror_mode": {
    "name": "ipython",
    "version": 3
   },
   "file_extension": ".py",
   "mimetype": "text/x-python",
   "name": "python",
   "nbconvert_exporter": "python",
   "pygments_lexer": "ipython3",
   "version": "3.7.1"
  }
 },
 "nbformat": 4,
 "nbformat_minor": 2
}
