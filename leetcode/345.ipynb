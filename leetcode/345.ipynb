{
 "cells": [
  {
   "cell_type": "markdown",
   "metadata": {},
   "source": [
    "### 345. 反转字符串中的元音字母"
   ]
  },
  {
   "cell_type": "markdown",
   "metadata": {},
   "source": [
    "编写一个函数，以字符串作为输入，反转该字符串中的元音字母。\n",
    "\n",
    "示例 1:\n",
    "```\n",
    "输入: \"hello\"\n",
    "输出: \"holle\"\n",
    "```\n",
    "示例 2:\n",
    "```\n",
    "输入: \"leetcode\"\n",
    "输出: \"leotcede\"\n",
    "```\n",
    "说明:\n",
    "元音字母不包含字母\"y\"。"
   ]
  },
  {
   "cell_type": "code",
   "execution_count": 3,
   "metadata": {},
   "outputs": [
    {
     "name": "stdout",
     "output_type": "stream",
     "text": [
      "holle\n"
     ]
    }
   ],
   "source": [
    "class Solution:\n",
    "    def reverseVowels(self, s):\n",
    "        \"\"\"\n",
    "        :type s: str\n",
    "        :rtype: str\n",
    "        \"\"\"\n",
    "        vowels = ['a', 'u', 'e', 'i', 'o', 'A', 'U', 'E', 'I', 'O']\n",
    "        l = 0\n",
    "        r = len(s) - 1\n",
    "        s = list(s)\n",
    "        while l < r:\n",
    "            if s[l] not in vowels:\n",
    "                l += 1\n",
    "                continue\n",
    "\n",
    "            if s[r] not in vowels:\n",
    "                r -= 1\n",
    "                continue\n",
    "\n",
    "            s[l], s[r] = s[r], s[l]\n",
    "            l += 1\n",
    "            r -= 1\n",
    "        return ''.join(s)\n",
    "\n",
    "input = \"hello\"\n",
    "s = Solution()\n",
    "res=s.reverseVowels(input)\n",
    "print(res)"
   ]
  },
  {
   "cell_type": "code",
   "execution_count": null,
   "metadata": {},
   "outputs": [],
   "source": [
    "# 这个问题还有一种解题思路就是建立一个stack，遍历s，将s中的元音字母添加到stack中，然后再遍历一遍s，这个时候我们如果碰到元音字母的话，我们就将stack的尾部元素弹出，将它替换给遍历到的这个元素。\n",
    "\n",
    "class Solution:\n",
    "    def reverseVowels(self, s):\n",
    "        \"\"\"\n",
    "        :type s: str\n",
    "        :rtype: str\n",
    "        \"\"\"\n",
    "        stack = list()\n",
    "        vowels = set(['a', 'u', 'e', 'i', 'o', 'A', 'U', 'E', 'I', 'O'])\n",
    "        result = list()\n",
    "        for ch in s:\n",
    "            if ch in vowels:\n",
    "                stack.append(ch)\n",
    "            result.append(ch)\n",
    "        \n",
    "        for i, ch in enumerate(result):\n",
    "            if ch in vowels:\n",
    "                result[i] = stack.pop()\n",
    "             \n",
    "        return ''.join(result)\n"
   ]
  },
  {
   "cell_type": "code",
   "execution_count": null,
   "metadata": {},
   "outputs": [],
   "source": [
    "执行用时为 48 ms 的范例\n",
    "class Solution(object):\n",
    "    def reverseVowels(self, s):\n",
    "        \"\"\"\n",
    "        :type s: str\n",
    "        :rtype: str\n",
    "        \"\"\"\n",
    "        y = {'a','e','i','o','u','A','E','I','O','U'}\n",
    "        lis = list(s)\n",
    "        l = len(lis)\n",
    "        i = 0\n",
    "        j = l - 1\n",
    "        while True:\n",
    "            while i < l and lis[i] not in y:\n",
    "                i += 1\n",
    "            while j >= 0 and lis[j] not in y:\n",
    "                j -= 1\n",
    "            #print(i, j)\n",
    "            if i >= j:\n",
    "                break\n",
    "            lis[i], lis[j] = lis[j], lis[i]\n",
    "            i += 1\n",
    "            j -= 1\n",
    "            \n",
    "        return ''.join(lis)"
   ]
  },
  {
   "cell_type": "code",
   "execution_count": null,
   "metadata": {},
   "outputs": [],
   "source": [
    "执行用时为 52 ms 的范例\n",
    "class Solution(object):\n",
    "    def reverseVowels(self, s):\n",
    "        \"\"\"\n",
    "        :type s: str\n",
    "        :rtype: str\n",
    "        \"\"\"\n",
    "        \n",
    "        vowels = {'a', 'e', 'i', 'o', 'u', 'A', 'E', 'I', 'O', 'U'}\n",
    "        res = list(s)\n",
    "        \n",
    "        l, r = 0, len(s)-1\n",
    "        \n",
    "        while l < r:\n",
    "            while l < r and res[l] not in vowels:\n",
    "                l += 1\n",
    "            while l < r and res[r] not in vowels:\n",
    "                r -= 1\n",
    "            res[l], res[r] = res[r], res[l]\n",
    "            l += 1\n",
    "            r -= 1\n",
    "        return ''.join(res)\n",
    "        "
   ]
  },
  {
   "cell_type": "code",
   "execution_count": null,
   "metadata": {},
   "outputs": [],
   "source": [
    "https://blog.csdn.net/qq_17550379/article/details/80515302"
   ]
  }
 ],
 "metadata": {
  "kernelspec": {
   "display_name": "Python 3",
   "language": "python",
   "name": "python3"
  },
  "language_info": {
   "codemirror_mode": {
    "name": "ipython",
    "version": 3
   },
   "file_extension": ".py",
   "mimetype": "text/x-python",
   "name": "python",
   "nbconvert_exporter": "python",
   "pygments_lexer": "ipython3",
   "version": "3.7.1"
  }
 },
 "nbformat": 4,
 "nbformat_minor": 2
}
