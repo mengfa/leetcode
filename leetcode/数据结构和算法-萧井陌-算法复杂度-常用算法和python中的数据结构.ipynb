{
 "cells": [
  {
   "cell_type": "markdown",
   "metadata": {},
   "source": [
    "### 算法的时间复杂度\n",
    "\n",
    "#### 大 O 记法，是描述算法复杂度的符号\n",
    "* O(1)\n",
    "```\n",
    "常数复杂度，最快速的算法。\n",
    "取数组第 1000000 个元素\n",
    "字典和集合的存取都是 O(1)\n",
    "数组的存取是 O(1)\n",
    "```\n",
    "* O(lgN)\n",
    "```\n",
    "对数复杂度\n",
    "假设有一个有序数组，以二分法查找\n",
    "```\n",
    "* O(n)\n",
    "```\n",
    "线性复杂度\n",
    "假设有一个数组，以遍历的方式在其中查找元素\n",
    "```\n",
    "* O(nlgn)\n",
    "```\n",
    "求两个数组交集，其中一个是有序数组\n",
    "A 数组每一个元素都要在 B 数组中进行查找操作\n",
    "每次查找如果使用二分法则复杂度是 lgN\n",
    "```\n",
    "* O(N^2)\n",
    "```\n",
    "平方复杂度\n",
    "求两个无序数组的交集\n",
    "```"
   ]
  },
  {
   "cell_type": "markdown",
   "metadata": {},
   "source": [
    "### 针对常用的操作，我们发明了一套常用的数据结构\n",
    "#### 四大数据结构\n",
    "\n",
    "1. 数组\n",
    "```\n",
    "    连续的一块内存\n",
    "    读取元素时间是 O(1)\n",
    "    插入、删除是 O(n)\n",
    "```\n",
    "2. 链表\n",
    "```\n",
    "    手拉手的盒子，一个盒子只能访问左右手的盒子\n",
    "    以下标方式读取元素的时间是 O(n)\n",
    "    插入、删除是 O(1)\n",
    "    栈和队列是链表的改良型\n",
    "```\n",
    "3. 字典\n",
    "```\n",
    "    把字符串转为数字作为下标存储到数组中\n",
    "    字符串转化为数字的算法是 O(1)\n",
    "    所以字典的存取操作都是 O(1)\n",
    "    除非对数据有顺序要求，否则字典永远是最佳选择\n",
    "    字符串转化为数字的算法\n",
    "        1，确定数据规模，这样可以确定容器数组的大小 Size\n",
    "        2，把字符当作 N 进制数字得到结果\n",
    "            'gua' 被视为 g * 1 + u * 10 + a * 100 得到结果 n\n",
    "            n % Size 作为字符串在数组中的下标\n",
    "            通常 Size 会选一个 素数\n",
    "```            \n",
    "4. 搜索树（我们只用，不写，甚至只是隐含在用，你并不知道你用的是树）"
   ]
  },
  {
   "cell_type": "code",
   "execution_count": null,
   "metadata": {},
   "outputs": [],
   "source": []
  },
  {
   "cell_type": "code",
   "execution_count": null,
   "metadata": {},
   "outputs": [],
   "source": []
  },
  {
   "cell_type": "code",
   "execution_count": null,
   "metadata": {},
   "outputs": [],
   "source": []
  }
 ],
 "metadata": {
  "kernelspec": {
   "display_name": "Python 3",
   "language": "python",
   "name": "python3"
  },
  "language_info": {
   "codemirror_mode": {
    "name": "ipython",
    "version": 3
   },
   "file_extension": ".py",
   "mimetype": "text/x-python",
   "name": "python",
   "nbconvert_exporter": "python",
   "pygments_lexer": "ipython3",
   "version": "3.7.1"
  }
 },
 "nbformat": 4,
 "nbformat_minor": 2
}
