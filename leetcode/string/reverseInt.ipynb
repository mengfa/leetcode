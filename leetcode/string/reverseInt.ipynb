{
 "cells": [
  {
   "cell_type": "markdown",
   "metadata": {},
   "source": [
    "##整数反转"
   ]
  },
  {
   "cell_type": "markdown",
   "metadata": {},
   "source": [
    "给出一个 32 位的有符号整数，你需要将这个整数中每位上的数字进行反转。\n",
    "\n",
    "示例 1:\n",
    "```\n",
    "输入: 123\n",
    "输出: 321\n",
    "```\n",
    "示例 2:\n",
    "```\n",
    "输入: -123\n",
    "输出: -321\n",
    "```\n",
    "示例 3:\n",
    "```\n",
    "输入: 120\n",
    "输出: 21\n",
    "```\n",
    "注意:\n",
    "\n",
    "假设我们的环境只能存储得下 32 位的有符号整数，则其数值范围为 [−231,  231 − 1]。请根据这个假设，如果反转后整数溢出那么就返回 0。"
   ]
  },
  {
   "cell_type": "code",
   "execution_count": null,
   "metadata": {},
   "outputs": [],
   "source": [
    "#自己写的提交\n",
    "class Solution(object):\n",
    "    def reverse(self, x):\n",
    "        \"\"\"\n",
    "        :type x: int\n",
    "        :rtype: int\n",
    "        \"\"\"\n",
    "       \n",
    "        if -10<x<10:\n",
    "            return x\n",
    "        x = str(x)\n",
    "        if \"-\" in x:\n",
    "            x = x[1:]\n",
    "            x= int(\"-\"+x[::-1])\n",
    "        elif \"0\" in x:\n",
    "            while \"0\" in x[-1:]:\n",
    "                x = x[:-1]\n",
    "            x= int(x[::-1])\n",
    "        else:\n",
    "            x=int(x[::-1])\n",
    "        \n",
    "        return x if -2147483648 < x < 2147483647 else 0"
   ]
  },
  {
   "cell_type": "code",
   "execution_count": null,
   "metadata": {},
   "outputs": [],
   "source": [
    "#执行用时为 28 ms 的范例\n",
    "class Solution(object):\n",
    "    def reverse(self, x):\n",
    "        \"\"\"\n",
    "        :type x: int\n",
    "        :rtype: int\n",
    "        \"\"\"\n",
    "        if x>(2**31-1) or x<-1*(2**31):\n",
    "            return 0\n",
    "        a=[]\n",
    "        flag=True\n",
    "        b=0\n",
    "        \n",
    "        if x<0:\n",
    "            flag=False\n",
    "            x=-1*x\n",
    "            \n",
    "        while x>0:\n",
    "            a.append(x%10)\n",
    "            x=x/10\n",
    "        \n",
    "\n",
    "        \n",
    "        \n",
    "            \n",
    "        for i in range(len(a)):\n",
    "            b+=a[i]*(10**(len(a)-i-1))\n",
    "            \n",
    "        if flag==False:\n",
    "            b=-1*b\n",
    "        if b>(2**31-1) or b<-1*(2**31):\n",
    "            return 0\n",
    "        return b"
   ]
  },
  {
   "cell_type": "code",
   "execution_count": null,
   "metadata": {},
   "outputs": [],
   "source": [
    "#执行用时为 32 ms 的范例\n",
    "class Solution(object):\n",
    "    def reverse(self, x):\n",
    "        \"\"\"\n",
    "        :type x: int\n",
    "        :rtype: int\n",
    "        \"\"\"\n",
    "        output = 0\n",
    "        flag = -1 if x < 0 else 1\n",
    "        x = abs(x)\n",
    "        while x != 0:\n",
    "            res = x % 10\n",
    "            x = int(x/10)\n",
    "            output = output * 10 + res\n",
    "        if -2**31 < flag * output < 2**31-1:\n",
    "            return flag * output\n",
    "        else:\n",
    "            return 0"
   ]
  }
 ],
 "metadata": {
  "kernelspec": {
   "display_name": "Python 3",
   "language": "python",
   "name": "python3"
  },
  "language_info": {
   "codemirror_mode": {
    "name": "ipython",
    "version": 3
   },
   "file_extension": ".py",
   "mimetype": "text/x-python",
   "name": "python",
   "nbconvert_exporter": "python",
   "pygments_lexer": "ipython3",
   "version": "3.7.1"
  }
 },
 "nbformat": 4,
 "nbformat_minor": 2
}
