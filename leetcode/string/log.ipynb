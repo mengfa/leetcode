{
 "cells": [
  {
   "cell_type": "markdown",
   "metadata": {},
   "source": [
    "## 熟练度记录表"
   ]
  },
  {
   "cell_type": "markdown",
   "metadata": {},
   "source": [
    "* 字符串转换整数 (atoi) myAtoi\n",
    "* 思路完成\n",
    "* 练习\n",
    "* 知识点: 正则"
   ]
  },
  {
   "cell_type": "markdown",
   "metadata": {},
   "source": [
    "* strStr\n",
    "* 自己完成\n",
    "* 知识点: enumerate"
   ]
  },
  {
   "cell_type": "markdown",
   "metadata": {},
   "source": [
    "* countAndSay"
   ]
  },
  {
   "cell_type": "markdown",
   "metadata": {},
   "source": [
    "* longestCommonPrefix 最长公共前缀\n",
    "* 没做出来(用了2小时)"
   ]
  },
  {
   "cell_type": "markdown",
   "metadata": {},
   "source": [
    "* ListNode\n",
    "* 直接看答案\n"
   ]
  }
 ],
 "metadata": {
  "kernelspec": {
   "display_name": "Python 3",
   "language": "python",
   "name": "python3"
  },
  "language_info": {
   "codemirror_mode": {
    "name": "ipython",
    "version": 3
   },
   "file_extension": ".py",
   "mimetype": "text/x-python",
   "name": "python",
   "nbconvert_exporter": "python",
   "pygments_lexer": "ipython3",
   "version": "3.7.1"
  }
 },
 "nbformat": 4,
 "nbformat_minor": 2
}
