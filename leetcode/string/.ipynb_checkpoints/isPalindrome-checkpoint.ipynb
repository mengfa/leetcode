{
 "cells": [
  {
   "cell_type": "markdown",
   "metadata": {},
   "source": [
    "## 验证回文字符串"
   ]
  },
  {
   "cell_type": "markdown",
   "metadata": {},
   "source": [
    "给定一个字符串，验证它是否是回文串，只考虑字母和数字字符，可以忽略字母的大小写。\n",
    "\n",
    "说明：本题中，我们将空字符串定义为有效的回文串。\n",
    "\n",
    "示例 1:\n",
    "```\n",
    "输入: \"A man, a plan, a canal: Panama\"\n",
    "输出: true\n",
    "```\n",
    "示例 2:\n",
    "```\n",
    "输入: \"race a car\"\n",
    "输出: false\n",
    "```"
   ]
  },
  {
   "cell_type": "code",
   "execution_count": 3,
   "metadata": {},
   "outputs": [
    {
     "name": "stdout",
     "output_type": "stream",
     "text": [
      "True\n"
     ]
    }
   ],
   "source": [
    "# 自己写通过! 执行用时：12376 ms\n",
    "class Solution(object):\n",
    "    def isPalindrome(self, s):\n",
    "        \"\"\"\n",
    "        :type s: str\n",
    "        :rtype: bool\n",
    "        \"\"\"\n",
    "        if s == \"\":\n",
    "            return True\n",
    "        string =\"\"\n",
    "        for i in s:\n",
    "            if i.isalpha() or i.isdigit():\n",
    "                string = string+i\n",
    "                string = string.lower()\n",
    "        length = len(string)\n",
    "        for i in range(len(string)):\n",
    "            if string[i] != string[length-i-1]:\n",
    "                return False\n",
    "        return True\n",
    "    \n",
    "input = \"A man, a plan, a canal: Panama\"\n",
    "solu=Solution()\n",
    "result=solu.isPalindrome(input)\n",
    "print(result)"
   ]
  },
  {
   "cell_type": "code",
   "execution_count": 2,
   "metadata": {},
   "outputs": [
    {
     "name": "stdout",
     "output_type": "stream",
     "text": [
      "True\n"
     ]
    }
   ],
   "source": [
    "# 执行用时为 32 ms 的范例\n",
    "class Solution(object):\n",
    "    def isPalindrome(self, s):\n",
    "        \"\"\"\n",
    "        :type s: str\n",
    "        :rtype: bool\n",
    "        \"\"\"\n",
    "        \n",
    "        if not s:\n",
    "            return True\n",
    "        if len(s) > 100000:\n",
    "            return True\n",
    "        s = s.lower()\n",
    "        s1 = [s[i] for i in range(len(s)) if s[i].isalnum()]\n",
    "        print(s1[::-1])\n",
    "        return s1 == s1[::-1]\n",
    "input = \"A man, a plan, a canal: Panama\"\n",
    "solu=Solution()\n",
    "result=solu.isPalindrome(input)\n",
    "print(result)"
   ]
  },
  {
   "cell_type": "code",
   "execution_count": null,
   "metadata": {},
   "outputs": [],
   "source": [
    "执行用时为 36 ms 的范例\n",
    "class Solution(object):\n",
    "    def isPalindrome(self, s):\n",
    "        \"\"\"\n",
    "        :type s: str\n",
    "        :rtype: bool\n",
    "        \"\"\"\n",
    "        if not s:\n",
    "            return True\n",
    "        if len(s) > 100000:\n",
    "            return True\n",
    "        s = s.lower()\n",
    "        s = [char for char in s if (ord(char)>=97 and ord(char)<=122) or (ord(char)>=48 and ord(char)<=57)]\n",
    "        return s==s[::-1]"
   ]
  },
  {
   "cell_type": "code",
   "execution_count": null,
   "metadata": {},
   "outputs": [],
   "source": [
    "执行用时为 40 ms 的范例\n",
    "class Solution(object):\n",
    "    def isPalindrome(self, s):\n",
    "        \"\"\"\n",
    "        :type s: str\n",
    "        :rtype: bool\n",
    "        \"\"\"\n",
    "        s = list(filter(str.isalnum, str(s.lower())))\n",
    "        return s == s[::-1]\n",
    "        "
   ]
  },
  {
   "cell_type": "code",
   "execution_count": null,
   "metadata": {},
   "outputs": [],
   "source": [
    "# 执行用时为 44 ms 的范例\n",
    "import re\n",
    "\n",
    "class Solution(object):\n",
    "    def isPalindrome(self, s):\n",
    "        \"\"\"\n",
    "        :type s: str\n",
    "        :rtype: bool\n",
    "        \"\"\"\n",
    "        s = s.lower()\n",
    "        s = ''.join(re.findall(r'[0-9A-Za-z]', s))\n",
    "        reverse_s = s[::-1]\n",
    "        if reverse_s == s:\n",
    "            return True\n",
    "        else:\n",
    "            return False"
   ]
  }
 ],
 "metadata": {
  "kernelspec": {
   "display_name": "Python 3",
   "language": "python",
   "name": "python3"
  },
  "language_info": {
   "codemirror_mode": {
    "name": "ipython",
    "version": 3
   },
   "file_extension": ".py",
   "mimetype": "text/x-python",
   "name": "python",
   "nbconvert_exporter": "python",
   "pygments_lexer": "ipython3",
   "version": "3.7.1"
  }
 },
 "nbformat": 4,
 "nbformat_minor": 2
}
