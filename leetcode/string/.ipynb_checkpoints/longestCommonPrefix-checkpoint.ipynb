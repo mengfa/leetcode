{
 "cells": [
  {
   "cell_type": "markdown",
   "metadata": {},
   "source": [
    "## 最长公共前缀"
   ]
  },
  {
   "cell_type": "markdown",
   "metadata": {},
   "source": [
    "编写一个函数来查找字符串数组中的最长公共前缀。\n",
    "\n",
    "如果不存在公共前缀，返回空字符串 \"\"。\n",
    "\n",
    "示例 1:\n",
    "```\n",
    "输入: [\"flower\",\"flow\",\"flight\"]\n",
    "输出: \"fl\"\n",
    "```\n",
    "示例 2:\n",
    "```\n",
    "输入: [\"dog\",\"racecar\",\"car\"]\n",
    "输出: \"\"\n",
    "解释: 输入不存在公共前缀。\n",
    "```\n",
    "说明:\n",
    "\n",
    "所有输入只包含小写字母 a-z 。"
   ]
  },
  {
   "cell_type": "code",
   "execution_count": null,
   "metadata": {},
   "outputs": [],
   "source": [
    "#执行用时为 20 ms 的范例\n",
    "class Solution(object):\n",
    "    def longestCommonPrefix(self, strs):\n",
    "        \"\"\"\n",
    "        :type strs: List[str]\n",
    "        :rtype: str\n",
    "        \"\"\"\n",
    "        res = ''\n",
    "        if len(strs) == 0:\n",
    "            return res\n",
    "        if len(strs) == 1:\n",
    "            return strs[0]\n",
    "        min_length = len(strs[0])\n",
    "        for i in range(1, len(strs)):\n",
    "            if len(strs[i]) < min_length:\n",
    "                min_length = len(strs[i])\n",
    "        for i in range(min_length):\n",
    "            tmp_char = strs[0][i]\n",
    "            flag = 1\n",
    "            for j in range(1, len(strs)):\n",
    "               if strs[j][i] != tmp_char:\n",
    "                   flag = 0\n",
    "            if flag == 0:\n",
    "                break\n",
    "            res += tmp_char\n",
    "        return res"
   ]
  },
  {
   "cell_type": "code",
   "execution_count": null,
   "metadata": {},
   "outputs": [],
   "source": [
    "# 执行用时为 24 ms 的范例\n",
    "class Solution(object):\n",
    "    def longestCommonPrefix(self, strs):\n",
    "        \"\"\"\n",
    "        :type strs: List[str]\n",
    "        :rtype: str\n",
    "        \"\"\"\n",
    "        if not strs: return \"\"\n",
    "        if len(strs) == 1: return strs[0]\n",
    "        \n",
    "        strs.sort()\n",
    "        p = ''\n",
    "        for x, y in zip(strs[0], strs[-1]):\n",
    "            if x == y:\n",
    "                p += x\n",
    "            else:\n",
    "                break\n",
    "        return p\n",
    "                "
   ]
  },
  {
   "cell_type": "code",
   "execution_count": null,
   "metadata": {},
   "outputs": [],
   "source": [
    "# 执行用时为 28 ms 的范例\n",
    "class Solution(object):\n",
    "    def longestCommonPrefix(self, strs):\n",
    "        \"\"\"\n",
    "        :type strs: List[str]\n",
    "        :rtype: str\n",
    "        \"\"\"\n",
    "        if len(strs)==0:\n",
    "            return ''\n",
    "        if len(strs)==1:\n",
    "            return strs[0]\n",
    "        r=len(strs[0])\n",
    "        for x in strs:\n",
    "            if len(x)==0:\n",
    "                return ''\n",
    "            r=min(r,len(x))        \n",
    "        res=''        \n",
    "        for i in range(0,r):            \n",
    "            tmp,flag=strs[0][i],True            \n",
    "            for x in strs:\n",
    "                if x[i]!=tmp:\n",
    "                    flag=False\n",
    "                    break            \n",
    "            if flag:\n",
    "                res+=tmp                \n",
    "            else:\n",
    "                break\n",
    "        return res"
   ]
  }
 ],
 "metadata": {
  "kernelspec": {
   "display_name": "Python 3",
   "language": "python",
   "name": "python3"
  },
  "language_info": {
   "codemirror_mode": {
    "name": "ipython",
    "version": 3
   },
   "file_extension": ".py",
   "mimetype": "text/x-python",
   "name": "python",
   "nbconvert_exporter": "python",
   "pygments_lexer": "ipython3",
   "version": "3.7.1"
  }
 },
 "nbformat": 4,
 "nbformat_minor": 2
}
