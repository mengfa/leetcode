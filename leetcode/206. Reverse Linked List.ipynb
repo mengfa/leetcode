{
 "cells": [
  {
   "cell_type": "markdown",
   "metadata": {},
   "source": [
    "---\n",
    "title: 206. Reverse Linked List\n",
    "date: 2019-12-10 23:15:07\n",
    "tags:\n",
    "- 数组&链表\n",
    "categories:\n",
    "- leetcode\n",
    "---"
   ]
  },
  {
   "cell_type": "markdown",
   "metadata": {},
   "source": [
    "\n",
    "Reverse a singly linked list.\n",
    "\n",
    "**Example:**\n",
    "```\n",
    "Input: 1->2->3->4->5->NULL\n",
    "Output: 5->4->3->2->1->NULL\n",
    "```\n",
    "**Follow up:**\n",
    "\n",
    "A linked list can be reversed either iteratively or recursively. Could you implement both?\n",
    "\n",
    "来源：力扣（LeetCode）\n",
    "链接：https://leetcode-cn.com/problems/reverse-linked-list\n"
   ]
  },
  {
   "cell_type": "markdown",
   "metadata": {},
   "source": [
    "反转一个单链表。\n",
    "\n",
    "示例:\n",
    "```\n",
    "输入: 1->2->3->4->5->NULL\n",
    "输出: 5->4->3->2->1->NULL\n",
    "```\n",
    "进阶:\n",
    "你可以迭代或递归地反转链表。你能否用两种方法解决这道题？\n"
   ]
  },
  {
   "cell_type": "markdown",
   "metadata": {},
   "source": [
    "反转一个单链表。\n",
    "示例:"
   ]
  },
  {
   "cell_type": "code",
   "execution_count": null,
   "metadata": {},
   "outputs": [],
   "source": [
    "输入: 1->2->3->4->5->NULL\n",
    "输出: 5->4->3->2->1->NULL"
   ]
  },
  {
   "cell_type": "markdown",
   "metadata": {},
   "source": [
    "进阶:\n",
    "你可以迭代或递归地反转链表。你能否用两种方法解决这道题？\n",
    "\n",
    "解题思路\n",
    "\n",
    "很经典的问题，首先设置pre,cur,lat三个指针"
   ]
  },
  {
   "cell_type": "code",
   "execution_count": null,
   "metadata": {},
   "outputs": [],
   "source": [
    "pre   cur  lat\n",
    "null   1 -> 2 -> 3 -> 4 -> 5 -> null"
   ]
  },
  {
   "cell_type": "markdown",
   "metadata": {},
   "source": [
    "接着cur.next = pre"
   ]
  },
  {
   "cell_type": "code",
   "execution_count": null,
   "metadata": {},
   "outputs": [],
   "source": [
    "pre   cur  lat\n",
    "null <-1    2 -> 3 -> 4 -> 5 -> null"
   ]
  },
  {
   "cell_type": "markdown",
   "metadata": {},
   "source": [
    "接着pre = cur，cur = lat，lat = lat.next"
   ]
  },
  {
   "cell_type": "code",
   "execution_count": null,
   "metadata": {},
   "outputs": [],
   "source": [
    "      pre  cur  lat\n",
    "null <-1    2 -> 3 -> 4 -> 5 -> null"
   ]
  },
  {
   "cell_type": "markdown",
   "metadata": {},
   "source": [
    "重复上述操作直到lat=None。\n",
    "\n"
   ]
  },
  {
   "cell_type": "code",
   "execution_count": null,
   "metadata": {},
   "outputs": [],
   "source": [
    "                     pre  cur  lat\n",
    "null <-1 <- 2 <- 3 <- 4    5 -> null"
   ]
  },
  {
   "cell_type": "markdown",
   "metadata": {},
   "source": [
    "最后cur.next = pre即可。"
   ]
  },
  {
   "cell_type": "code",
   "execution_count": null,
   "metadata": {},
   "outputs": [],
   "source": [
    "class Solution:\n",
    "    def reverseList(self, head):\n",
    "        \"\"\"\n",
    "        :type head: ListNode\n",
    "        :rtype: ListNode\n",
    "        \"\"\"\n",
    "        pre = None\n",
    "        cur = head\n",
    "        lat = head.next\n",
    "\n",
    "        while lat != None:\n",
    "            cur.next = pre\n",
    "            pre = cur\n",
    "            cur = lat\n",
    "            lat = lat.next\n",
    "\n",
    "        cur.next = pre\n",
    "        return cur\n"
   ]
  },
  {
   "cell_type": "markdown",
   "metadata": {},
   "source": [
    "我们再回过头来看上述代码，这个代码其实有一个重大的bug。如果head=None，那么lat = cur.next就会出问题。\n",
    "\n",
    "其实我们可以这样写"
   ]
  },
  {
   "cell_type": "code",
   "execution_count": null,
   "metadata": {},
   "outputs": [],
   "source": [
    "class Solution:\n",
    "    def reverseList(self, head):\n",
    "        \"\"\"\n",
    "        :type head: ListNode\n",
    "        :rtype: ListNode\n",
    "        \"\"\"\n",
    "        pre = None\n",
    "        cur = head\n",
    "\n",
    "        while cur != None:\n",
    "            lat = cur.next\n",
    "            cur.next = pre\n",
    "            pre = cur\n",
    "            cur = lat\n",
    "\n",
    "        return pre\n"
   ]
  },
  {
   "cell_type": "markdown",
   "metadata": {},
   "source": [
    "这个问题使用递归就更简单了，我们知道reverseList(head)返回输入的链表反转后的head，那么如果reverseList(head.next)的话\n",
    "\n"
   ]
  },
  {
   "cell_type": "code",
   "execution_count": null,
   "metadata": {},
   "outputs": [],
   "source": [
    "head\n",
    "  1->2<-3<-4<-5\n",
    "              |\n",
    "             node\n"
   ]
  },
  {
   "cell_type": "markdown",
   "metadata": {},
   "source": [
    "我们此时只需要head.next.next=head，也就是先建立一个双向连接"
   ]
  },
  {
   "cell_type": "code",
   "execution_count": null,
   "metadata": {},
   "outputs": [],
   "source": [
    "head\n",
    "  1->2<-3<-4<-5\n",
    "   <-         |\n",
    "             node"
   ]
  },
  {
   "cell_type": "markdown",
   "metadata": {},
   "source": [
    "然后再head.next=None，返回node即可。"
   ]
  },
  {
   "cell_type": "code",
   "execution_count": null,
   "metadata": {},
   "outputs": [],
   "source": [
    "      head\n",
    "  null<-1<-2<-3<-4<-5\n",
    "                    |\n",
    "                   node"
   ]
  },
  {
   "cell_type": "markdown",
   "metadata": {},
   "source": [
    "代码如下"
   ]
  },
  {
   "cell_type": "code",
   "execution_count": null,
   "metadata": {},
   "outputs": [],
   "source": [
    "class Solution:\n",
    "    def reverseList(self, head):\n",
    "        \"\"\"\n",
    "        :type head: ListNode\n",
    "        :rtype: ListNode\n",
    "        \"\"\"\n",
    "        if head == None or head.next == None:\n",
    "            return head\n",
    "        node = self.reverseList(head.next)\n",
    "        head.next.next = head\n",
    "        head.next = None\n",
    "        return node"
   ]
  },
  {
   "cell_type": "code",
   "execution_count": 6,
   "metadata": {},
   "outputs": [
    {
     "name": "stdout",
     "output_type": "stream",
     "text": [
      "0 -->1 -->2 -->3 -->4 -->5 -->6 -->7 -->8 -->9 -->NULL\n",
      "9 -->8 -->7 -->6 -->5 -->4 -->3 -->2 -->1 -->0 -->NULL\n"
     ]
    }
   ],
   "source": [
    "# Definition for singly-linked list.\n",
    "class ListNode:\n",
    "    def __init__(self, x):\n",
    "        self.val = x\n",
    "        self.next = None\n",
    "\n",
    "\n",
    "class Solution:\n",
    "    def reverseList(self, head):\n",
    "        \"\"\"\n",
    "        :type head: ListNode\n",
    "        :rtype: ListNode\n",
    "        \"\"\"\n",
    "        pre = None\n",
    "        cur = head\n",
    "\n",
    "        while cur != None:\n",
    "            lat = cur.next\n",
    "            cur.next = pre\n",
    "            pre = cur\n",
    "            cur = lat\n",
    "        return pre\n",
    "\n",
    "\n",
    "def createList():\n",
    "    head = ListNode(0)\n",
    "    cur = head\n",
    "    for i in range(1, 10):\n",
    "        cur.next = ListNode(i)\n",
    "        cur = cur.next\n",
    "    return head\n",
    "\n",
    "\n",
    "def printList(head):\n",
    "    cur = head\n",
    "    while cur != None:\n",
    "        print(cur.val, '-->', end='')\n",
    "        cur = cur.next\n",
    "\n",
    "    print('NULL')\n",
    "\n",
    "\n",
    "if __name__ == \"__main__\":\n",
    "    head = createList()\n",
    "    printList(head)\n",
    "    res = Solution().reverseList(head)\n",
    "    printList(res)"
   ]
  },
  {
   "cell_type": "code",
   "execution_count": 5,
   "metadata": {},
   "outputs": [
    {
     "name": "stdout",
     "output_type": "stream",
     "text": [
      "0 -->1 -->2 -->3 -->4 -->5 -->6 -->7 -->8 -->9 -->NULL\n",
      "9 -->8 -->7 -->6 -->5 -->4 -->3 -->2 -->1 -->0 -->NULL\n",
      "<__main__.ListNode object at 0x10dc70160>\n"
     ]
    }
   ],
   "source": [
    "# Definition for singly-linked list.\n",
    "class ListNode:\n",
    "    def __init__(self, x):\n",
    "        self.val = x\n",
    "        self.next = None\n",
    "\n",
    "\n",
    "class Solution:\n",
    "    def reverseList(self, head):\n",
    "        \"\"\"\n",
    "        :type head: ListNode\n",
    "        :rtype: ListNode\n",
    "        \"\"\"\n",
    "        cur, prev = head, None\n",
    "        while cur:\n",
    "            cur.next, prev, cur = prev, cur, cur.next\n",
    "        return prev\n",
    "\n",
    "\n",
    "def createList():\n",
    "    head = ListNode(0)\n",
    "    cur = head\n",
    "    for i in range(1, 10):\n",
    "        cur.next = ListNode(i)\n",
    "        cur = cur.next\n",
    "    return head\n",
    "\n",
    "\n",
    "def printList(head):\n",
    "    cur = head\n",
    "    while cur != None:\n",
    "        print(cur.val, '-->', end='')\n",
    "        cur = cur.next\n",
    "\n",
    "    print('NULL')\n",
    "\n",
    "\n",
    "if __name__ == \"__main__\":\n",
    "    head = createList()\n",
    "    printList(head)\n",
    "    res = Solution().reverseList(head)\n",
    "    printList(res)"
   ]
  },
  {
   "cell_type": "code",
   "execution_count": null,
   "metadata": {},
   "outputs": [],
   "source": []
  }
 ],
 "metadata": {
  "kernelspec": {
   "display_name": "Python 3",
   "language": "python",
   "name": "python3"
  },
  "language_info": {
   "codemirror_mode": {
    "name": "ipython",
    "version": 3
   },
   "file_extension": ".py",
   "mimetype": "text/x-python",
   "name": "python",
   "nbconvert_exporter": "python",
   "pygments_lexer": "ipython3",
   "version": "3.7.4"
  }
 },
 "nbformat": 4,
 "nbformat_minor": 2
}
