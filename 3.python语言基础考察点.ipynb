{
 "cells": [
  {
   "cell_type": "markdown",
   "metadata": {},
   "source": [
    "#####  3-1 python语言特性"
   ]
  },
  {
   "cell_type": "markdown",
   "metadata": {},
   "source": [
    "* Python是静态还是动态类型?是强类型还是弱类型?\n",
    "\n",
    "* 动态强类型语言\n",
    "* 动态还是静态指的是编译期还是运行期确定类型\n",
    "* 强类型指的是不会发生隐式类型转换"
   ]
  },
  {
   "cell_type": "markdown",
   "metadata": {},
   "source": [
    "> 什么是鸭子类型?\n",
    "当一只鸟走起来像鸭子,游泳起来像鸭子,叫起来也像鸭子,那么这只鸟就可以被称为鸭子.\n",
    "\n",
    "关注点在对象的行为,而不是类型(duck typing)\n",
    "比如file,StingIO,socket对象都支持read/write方法(file like object)\n",
    "再比如定义了__iter__魔术方法的对象可以用for迭代\n"
   ]
  },
  {
   "cell_type": "code",
   "execution_count": 4,
   "metadata": {},
   "outputs": [
    {
     "name": "stdout",
     "output_type": "stream",
     "text": [
      "gua gua\n",
      "I am Person\n",
      "<class '__main__.Duck'>\n",
      "<class '__main__.Person'>\n",
      "True\n",
      "True\n"
     ]
    }
   ],
   "source": [
    "class Duck:\n",
    "    def quack(self):\n",
    "        print(\"gua gua\")\n",
    "\n",
    "class Person:\n",
    "    def quack(self):\n",
    "        print(\"I am Person\")\n",
    "        \n",
    "def in_the_forest(duck):\n",
    "    duck.quack()\n",
    "    \n",
    "def game():\n",
    "    donald = Duck()\n",
    "    john = Person()\n",
    "    in_the_forest(donald)\n",
    "    in_the_forest(john)\n",
    "    print(type(donald))\n",
    "    print(type(john))\n",
    "    print(isinstance(donald, Duck))\n",
    "    print(isinstance(john, Person))\n",
    "\n",
    "game()"
   ]
  },
  {
   "cell_type": "markdown",
   "metadata": {},
   "source": [
    "什么是monkey patch?哪些地方用到了?自己如何实现?\n",
    "动态语言猴子补丁\n",
    "所谓的monkey patch 就是运行时替换\n",
    "比如 gevent 库所需要修改内置的socket\n",
    "from gevent import monkey; monkey.path_socket()\n"
   ]
  },
  {
   "cell_type": "code",
   "execution_count": 6,
   "metadata": {},
   "outputs": [
    {
     "name": "stdout",
     "output_type": "stream",
     "text": [
      "<class 'socket.socket'>\n",
      "After monkey patch\n",
      "<class 'gevent._socket3.socket'>\n",
      "<built-in function select>\n",
      "After monkey patch\n",
      "<function select at 0x00000297A4F611E0>\n"
     ]
    }
   ],
   "source": [
    "import socket\n",
    "print(socket.socket)\n",
    "\n",
    "print(\"After monkey patch\")\n",
    "from gevent import monkey\n",
    "monkey.patch_socket()\n",
    "print(socket.socket)\n",
    "\n",
    "import select\n",
    "print(select.select)\n",
    "monkey.patch_select()\n",
    "print(\"After monkey patch\")\n",
    "print(select.select)"
   ]
  },
  {
   "cell_type": "markdown",
   "metadata": {},
   "source": [
    "什么是自省?\n",
    "Introspection\n",
    "运行时判断一个对象的类型的能力\n",
    "Python一切切对象,用type,id,isinstance获取对象类型信息\n",
    "Inspect模块提供了更多获取对象信息的函数\n"
   ]
  },
  {
   "cell_type": "code",
   "execution_count": 11,
   "metadata": {},
   "outputs": [
    {
     "name": "stdout",
     "output_type": "stream",
     "text": [
      "<class 'list'>\n",
      "<class 'dict'>\n",
      "True\n",
      "True\n",
      "3\n",
      "HEADtail\n",
      "2850330937608\n",
      "2850330913672\n",
      "False\n",
      "True\n"
     ]
    }
   ],
   "source": [
    "ll = [1,2,3]\n",
    "d = dict(a=1)\n",
    "\n",
    "print(type(ll))\n",
    "print(type(d))\n",
    "\n",
    "print(isinstance(ll, list))\n",
    "print(isinstance(d, dict))\n",
    "\n",
    "\n",
    "def add(a, b):\n",
    "    if isinstance(a, int):\n",
    "        return a + b\n",
    "    elif isinstance(a, str):\n",
    "        return a.upper() + b\n",
    "print(add(1, 2))\n",
    "print(add('head', 'tail'))\n",
    "\n",
    "\n",
    "print(id(ll))\n",
    "print(id(d))\n",
    "\n",
    "print(ll is d)\n",
    "print(None is None)"
   ]
  },
  {
   "cell_type": "markdown",
   "metadata": {},
   "source": [
    "* == 和 is 的区别?\n",
    "== 对比值相同\n",
    "is对比地址相同\n",
    "None 是单例 is None. 判断."
   ]
  },
  {
   "cell_type": "code",
   "execution_count": 16,
   "metadata": {},
   "outputs": [
    {
     "name": "stdout",
     "output_type": "stream",
     "text": [
      "True\n",
      "False\n"
     ]
    }
   ],
   "source": [
    "a1 = [1,2,3]\n",
    "a2 = [1,2,3]\n",
    "\n",
    "print(a1 == a2)\n",
    "print(a1 is a2)\n",
    "print(id(a1))\n",
    "print(id(a2))"
   ]
  },
  {
   "cell_type": "markdown",
   "metadata": {},
   "source": [
    "什么是列表和字典推导?\n",
    "List Comprehension\n",
    "* 比如返回0到9所有偶数的数字 [i for i in range(10) if i%2==0]\n",
    "* 用来快速生成list/dict/set的方式.用来替代map/filter等\n",
    "(i for i in range(10) if i%2==0)返回生成器节省内存"
   ]
  },
  {
   "cell_type": "code",
   "execution_count": 17,
   "metadata": {},
   "outputs": [
    {
     "data": {
      "text/plain": [
       "[0, 2, 4, 6, 8]"
      ]
     },
     "execution_count": 17,
     "metadata": {},
     "output_type": "execute_result"
    }
   ],
   "source": [
    "[i for i in range(10) if i%2==0]"
   ]
  },
  {
   "cell_type": "code",
   "execution_count": 18,
   "metadata": {},
   "outputs": [
    {
     "data": {
      "text/plain": [
       "<generator object <genexpr> at 0x00000297A4F4DC50>"
      ]
     },
     "execution_count": 18,
     "metadata": {},
     "output_type": "execute_result"
    }
   ],
   "source": [
    "(i for i in range(10) if i%2==0)"
   ]
  },
  {
   "cell_type": "code",
   "execution_count": 19,
   "metadata": {},
   "outputs": [
    {
     "name": "stdout",
     "output_type": "stream",
     "text": [
      "{'a': 1, 'b': 2, 'c': 3}\n"
     ]
    }
   ],
   "source": [
    "a = ['a','b','c']\n",
    "b = [1,2,3]\n",
    "# 生成 d = {'a': 1 , 'b':2, 'c':3}\n",
    "\n",
    "d = {k: v for k, v in zip(a, b)}\n",
    "print(d)\n",
    "\n"
   ]
  },
  {
   "cell_type": "markdown",
   "metadata": {},
   "source": [
    "#####  3-2 python2/3常见差异"
   ]
  },
  {
   "cell_type": "markdown",
   "metadata": {},
   "source": [
    "##### python3改进\n",
    "* print 成为函数\n",
    "* 编码问题. Python3不再有 Unicode对象, 默认str就是unicode\n",
    "* 除法变化. PYthon3除号返回浮点数"
   ]
  },
  {
   "cell_type": "code",
   "execution_count": 20,
   "metadata": {},
   "outputs": [
    {
     "name": "stdout",
     "output_type": "stream",
     "text": [
      "a|b\n"
     ]
    }
   ],
   "source": [
    "print('a', 'b', sep='|')"
   ]
  },
  {
   "cell_type": "code",
   "execution_count": 21,
   "metadata": {},
   "outputs": [
    {
     "data": {
      "text/plain": [
       "'ABC'"
      ]
     },
     "execution_count": 21,
     "metadata": {},
     "output_type": "execute_result"
    }
   ],
   "source": [
    "def 大写(s): return s.upper()\n",
    "大写('abc')"
   ]
  },
  {
   "cell_type": "markdown",
   "metadata": {},
   "source": [
    "传输字符串,人看unicode."
   ]
  },
  {
   "cell_type": "markdown",
   "metadata": {},
   "source": [
    "python2 5/2 = 2\n",
    "python3 5/2 = 2.5\n",
    "python3 5//2 = 2"
   ]
  },
  {
   "cell_type": "markdown",
   "metadata": {},
   "source": [
    "* 类型注解(type hint). 帮助IDE实现类型检查.\n",
    "* 优化的super()方便直接调用父类函数\n",
    "* 高级解包操作. a,b,*rest=range(10)"
   ]
  },
  {
   "cell_type": "code",
   "execution_count": 24,
   "metadata": {},
   "outputs": [
    {
     "data": {
      "text/plain": [
       "'hello laolv'"
      ]
     },
     "execution_count": 24,
     "metadata": {},
     "output_type": "execute_result"
    }
   ],
   "source": [
    "def hello(name: str) -> str:\n",
    "    return 'hello'+ name\n",
    "\n",
    "hello(' laolv')"
   ]
  },
  {
   "cell_type": "code",
   "execution_count": null,
   "metadata": {},
   "outputs": [],
   "source": [
    "python2\n",
    "super().hello()\n",
    "python3\n",
    "class C(Base):\n",
    "    def hello(self):\n",
    "        super(C, self).hello()\n",
    "        "
   ]
  },
  {
   "cell_type": "code",
   "execution_count": 25,
   "metadata": {},
   "outputs": [
    {
     "data": {
      "text/plain": [
       "[2, 3, 4, 5, 6, 7, 8, 9]"
      ]
     },
     "execution_count": 25,
     "metadata": {},
     "output_type": "execute_result"
    }
   ],
   "source": [
    "a,b, *c = range(10)\n",
    "c"
   ]
  },
  {
   "cell_type": "markdown",
   "metadata": {},
   "source": [
    "* Keyword only arguments. 限定关键字参数.\n",
    "\n",
    "* Chained exceptions. Python3重新抛出异常不会丢失栈信息\n",
    "* 一切返回迭代器range,zip,map,dict.values,etc. are all iterators."
   ]
  },
  {
   "cell_type": "code",
   "execution_count": null,
   "metadata": {},
   "outputs": [],
   "source": [
    "dict.items()"
   ]
  },
  {
   "cell_type": "markdown",
   "metadata": {},
   "source": [
    "* yield from 链接子生成器\n",
    "* asyncio内置库, async/await原生协程支持异步编程\n",
    "* 新的内置库enum,mock,asyncio,ipaddress,concurrent.futures等\n",
    "* 生成pyc文件统一放到__pycache__\n",
    "* 一些内置库的修改.urllib,selector等.\n",
    "### 熟悉一些兼容2/3的工具\n",
    "* six模块\n",
    "* 2to3等工具转换代码\n",
    "\n",
    "\n",
    "\n"
   ]
  },
  {
   "cell_type": "markdown",
   "metadata": {},
   "source": [
    "### 3-3Python函数"
   ]
  },
  {
   "cell_type": "markdown",
   "metadata": {},
   "source": [
    "* 传参类型,可变和不可变类型\n",
    "* 不可变对象bool/int/float/tuple/str/frozenset\n",
    "* 可变对象list/set/dict"
   ]
  },
  {
   "cell_type": "code",
   "execution_count": 27,
   "metadata": {},
   "outputs": [
    {
     "name": "stdout",
     "output_type": "stream",
     "text": [
      "[0]\n",
      "[0, 0]\n",
      "helloa\n",
      "helloa\n"
     ]
    }
   ],
   "source": [
    "# 可变类型作为参数\n",
    "def flist(l):\n",
    "    l.append(0)\n",
    "    print(l)\n",
    "    \n",
    "l = []\n",
    "flist(l)\n",
    "flist(l)\n",
    "# 不可变类型作为参数\n",
    "def fstr(s):\n",
    "    s += 'a'\n",
    "    print(s)\n",
    "    \n",
    "s = 'hello'\n",
    "fstr(s)\n",
    "fstr(s)"
   ]
  },
  {
   "cell_type": "code",
   "execution_count": 28,
   "metadata": {},
   "outputs": [
    {
     "name": "stdout",
     "output_type": "stream",
     "text": [
      "[1, 2, 3]\n"
     ]
    }
   ],
   "source": [
    "# 一个小例题,请问这段代码会输出什么结果?\n",
    "def clear_list(l):\n",
    "    l = []\n",
    "ll = [1,2,3]\n",
    "clear_list(ll)\n",
    "print(ll)"
   ]
  },
  {
   "cell_type": "markdown",
   "metadata": {},
   "source": [
    "* 默认参数只计算一次."
   ]
  },
  {
   "cell_type": "code",
   "execution_count": 29,
   "metadata": {},
   "outputs": [
    {
     "name": "stdout",
     "output_type": "stream",
     "text": [
      "[1, [...]]\n",
      "[1, [...], [...]]\n"
     ]
    }
   ],
   "source": [
    "def flist(l=[1]):\n",
    "    l.append(l)\n",
    "    print(l)\n",
    "flist()\n",
    "flist()"
   ]
  },
  {
   "cell_type": "markdown",
   "metadata": {},
   "source": [
    "##### 函数传递中 *args, ** kwargs含义是什么?\n",
    "* 用来传递可变参数\n",
    "* *args被打包成tuple\n",
    "* **kwargs被打包成dict"
   ]
  },
  {
   "cell_type": "code",
   "execution_count": 33,
   "metadata": {},
   "outputs": [
    {
     "name": "stdout",
     "output_type": "stream",
     "text": [
      "<class 'tuple'> ('a', 'b')\n",
      "0 a\n",
      "1 b\n",
      "<class 'dict'> {'a': 1, 'b': 2}\n",
      "a: 1\n",
      "b: 2\n"
     ]
    }
   ],
   "source": [
    "# 什么是args?\n",
    "def print_multiple_args(*args):\n",
    "    print(type(args), args)\n",
    "    for idx, val in enumerate(args):\n",
    "        print(idx, val)\n",
    "        \n",
    "print_multiple_args('a', 'b')\n",
    "\n",
    "\n",
    "def print_kwargs(**kwargs):\n",
    "    print(type(kwargs), kwargs)\n",
    "    for k, v in kwargs.items():\n",
    "        print(\"{}: {}\".format(k, v))\n",
    "        \n",
    "print_kwargs(a=1,b=2)"
   ]
  },
  {
   "cell_type": "markdown",
   "metadata": {},
   "source": [
    "### 3-4Python异常机制"
   ]
  },
  {
   "cell_type": "markdown",
   "metadata": {},
   "source": [
    "* BaseException\n",
    "* \n",
    "##### 什么时候处理异常\n",
    "* 网络请求(超时,连接错误等)\n",
    "* 资源访问(权限问题,资源不存在)\n",
    "* 代码逻辑(越界访问,KeyError等)"
   ]
  },
  {
   "cell_type": "code",
   "execution_count": null,
   "metadata": {},
   "outputs": [],
   "source": [
    "try:\n",
    "    #func\n",
    "except (Exception1, Exception2) as e:\n",
    "    #异常处理代码\n",
    "else:\n",
    "    pass\n",
    "finally:\n",
    "    pass"
   ]
  },
  {
   "cell_type": "markdown",
   "metadata": {},
   "source": [
    "##### 自定义异常\n",
    "* 基础Exception实现自定义异常(为什么不是BaseException)\n",
    "* BaseException包括KeyboardInterrupt,如果继承BaseException,按键盘ctrl+c就不能退出了.\n",
    "* 给异常加上一些附加信息\n",
    "* 处理一些业务相关的特定异常(raise MyException)\n"
   ]
  },
  {
   "cell_type": "markdown",
   "metadata": {},
   "source": [
    "### 3-5性能分析与优化,GIL常考题"
   ]
  },
  {
   "cell_type": "markdown",
   "metadata": {},
   "source": [
    "##### GIL,Global Interpreter Lock\n",
    "* Cpython解释器的内存管理并不是线程安全的\n",
    "* 保护多线程情况下对Python对象的访问\n",
    "* Cpython使用简单的锁机制避免多个线程同时执行字节码"
   ]
  },
  {
   "cell_type": "markdown",
   "metadata": {},
   "source": [
    "##### GIL影响,限制了程序的多核执行\n",
    "* 同一个时间只能有一个线程执行字节码\n",
    "* CPU密集程序难以利用多核优势\n",
    "* IO期间会释放GIL,对IO密集程序影响不大"
   ]
  },
  {
   "cell_type": "markdown",
   "metadata": {},
   "source": [
    "##### 区分CPU和IO密集程序\n",
    "* CPU密集可以使用多进程+进程池\n",
    "* IO密集使用多线程/协程\n",
    "* cython扩展"
   ]
  },
  {
   "cell_type": "code",
   "execution_count": 34,
   "metadata": {},
   "outputs": [
    {
     "ename": "NameError",
     "evalue": "name 'dis' is not defined",
     "output_type": "error",
     "traceback": [
      "\u001b[1;31m---------------------------------------------------------------------------\u001b[0m",
      "\u001b[1;31mNameError\u001b[0m                                 Traceback (most recent call last)",
      "\u001b[1;32m<ipython-input-34-0ad7d8776fbd>\u001b[0m in \u001b[0;36m<module>\u001b[1;34m()\u001b[0m\n\u001b[0;32m      2\u001b[0m     \u001b[0ml\u001b[0m\u001b[1;33m[\u001b[0m\u001b[1;36m0\u001b[0m\u001b[1;33m]\u001b[0m \u001b[1;33m+=\u001b[0m \u001b[1;36m1\u001b[0m\u001b[1;33m\u001b[0m\u001b[0m\n\u001b[0;32m      3\u001b[0m \u001b[1;33m\u001b[0m\u001b[0m\n\u001b[1;32m----> 4\u001b[1;33m \u001b[0mdis\u001b[0m\u001b[1;33m.\u001b[0m\u001b[0mdis\u001b[0m\u001b[1;33m(\u001b[0m\u001b[0mincr_list\u001b[0m\u001b[1;33m)\u001b[0m\u001b[1;33m\u001b[0m\u001b[0m\n\u001b[0m",
      "\u001b[1;31mNameError\u001b[0m: name 'dis' is not defined"
     ]
    }
   ],
   "source": [
    "def incr_list(l):\n",
    "    l[0] += 1\n",
    "    \n",
    "dis.dis(incr_list)"
   ]
  },
  {
   "cell_type": "code",
   "execution_count": null,
   "metadata": {},
   "outputs": [],
   "source": [
    "import threading\n",
    "lock = threading.lock()\n",
    "def foo():\n",
    "    with lock:\n",
    "        n[0] = n[0] +1\n",
    "        "
   ]
  },
  {
   "cell_type": "markdown",
   "metadata": {},
   "source": [
    "##### 如何剖析程序性能\n",
    "* 使用各种profile 工具\n",
    "* 二八定律,大部分时间耗时在少量代码上\n",
    "* 使用pyflame的火焰图工具"
   ]
  },
  {
   "cell_type": "markdown",
   "metadata": {},
   "source": [
    "##### 服务端性能优化措施\n",
    "* 数据结构与算法优化\n",
    "* 数据库层: 索引优化,慢查询消除,批量操作减少IO,NoSQL\n",
    "* 网络IO: 批量操作, pipeline操作减少IO \n",
    "* 缓存: 使用内存数据库 redis/memcached\n",
    "* 异步: asyncio, celery\n",
    "* 并发:gevent/多线程"
   ]
  },
  {
   "cell_type": "markdown",
   "metadata": {},
   "source": [
    "### 3-6生成器与协程\n"
   ]
  },
  {
   "cell_type": "markdown",
   "metadata": {},
   "source": [
    "##### Generator\n",
    "* 生成器就是可以生成值的函数\n",
    "* 当一个函数里有了yield关键字就成了生成器\n",
    "* 生成器可以挂起执行并且保存当前执行的状态"
   ]
  },
  {
   "cell_type": "code",
   "execution_count": 36,
   "metadata": {},
   "outputs": [
    {
     "name": "stdout",
     "output_type": "stream",
     "text": [
      "<class 'generator'>\n",
      "hello\n",
      "world\n"
     ]
    },
    {
     "ename": "StopIteration",
     "evalue": "",
     "output_type": "error",
     "traceback": [
      "\u001b[1;31m---------------------------------------------------------------------------\u001b[0m",
      "\u001b[1;31mStopIteration\u001b[0m                             Traceback (most recent call last)",
      "\u001b[1;32m<ipython-input-36-72607a2597da>\u001b[0m in \u001b[0;36m<module>\u001b[1;34m()\u001b[0m\n\u001b[0;32m      7\u001b[0m \u001b[0mprint\u001b[0m\u001b[1;33m(\u001b[0m\u001b[0mnext\u001b[0m\u001b[1;33m(\u001b[0m\u001b[0mgen\u001b[0m\u001b[1;33m)\u001b[0m\u001b[1;33m)\u001b[0m\u001b[1;33m\u001b[0m\u001b[0m\n\u001b[0;32m      8\u001b[0m \u001b[0mprint\u001b[0m\u001b[1;33m(\u001b[0m\u001b[0mnext\u001b[0m\u001b[1;33m(\u001b[0m\u001b[0mgen\u001b[0m\u001b[1;33m)\u001b[0m\u001b[1;33m)\u001b[0m\u001b[1;33m\u001b[0m\u001b[0m\n\u001b[1;32m----> 9\u001b[1;33m \u001b[0mprint\u001b[0m\u001b[1;33m(\u001b[0m\u001b[0mnext\u001b[0m\u001b[1;33m(\u001b[0m\u001b[0mgen\u001b[0m\u001b[1;33m)\u001b[0m\u001b[1;33m)\u001b[0m\u001b[1;33m\u001b[0m\u001b[0m\n\u001b[0m",
      "\u001b[1;31mStopIteration\u001b[0m: "
     ]
    }
   ],
   "source": [
    "def simple_gen():\n",
    "    yield 'hello'\n",
    "    yield 'world'\n",
    "\n",
    "gen = simple_gen()\n",
    "print(type(gen))\n",
    "print(next(gen))\n",
    "print(next(gen))\n",
    "print(next(gen))"
   ]
  },
  {
   "cell_type": "markdown",
   "metadata": {},
   "source": [
    "#### 3-7单元测试\n"
   ]
  },
  {
   "cell_type": "markdown",
   "metadata": {},
   "source": [
    "##### 什么是单元测试?\n",
    "* 针对程序模块进行正确性检验\n",
    "* 一个函数,一个类进行验证\n",
    "* 自底向上保证程序正确性\n",
    "* 三无代码不可取(无文档,无注册,无单测)\n",
    "* 保证代码逻辑的正确性\n",
    "* 单测影响设计,易测的代码往往是高内聚低耦合\n",
    "* 回归测试,防止该一处整个服务不可用\n",
    "##### 单元测试相关库\n",
    "* nose/pytest 较为常用\n",
    "* mock模块用来模拟替换网络请求等\n",
    "* coverage 统计测试覆盖率"
   ]
  },
  {
   "cell_type": "code",
   "execution_count": 40,
   "metadata": {},
   "outputs": [],
   "source": [
    "def binary_search(array, target):\n",
    "    if not array:\n",
    "        return -1\n",
    "    beg, end = 0, len(array)\n",
    "    while beg < end:\n",
    "        mid = beg + (end -beg) //2\n",
    "        if array[mid] == target:\n",
    "            return mid\n",
    "        elif array[mid] > target:\n",
    "            end = mid\n",
    "        else:\n",
    "            beg = mid +1\n",
    "    return -1\n",
    "\n",
    "\n",
    "def test():\n",
    "    # 正常值\n",
    "    assert binary_search([0,1,2,3,4,5], 1)==1\n",
    "    assert binary_search([0,1,2,3,4,5], 6)==-1\n",
    "    assert binary_search([0,1,2,3,4,5], -1)==-1\n",
    "    #  边界值\n",
    "    assert binary_search([0,1,2,3,4,5], 0)==0\n",
    "    assert binary_search([0,1,2,3,4,5], 5)==5\n",
    "    assert binary_search([0], 0)==0\n",
    "    #  异常值\n",
    "    assert binary_search([], 1)== -1"
   ]
  },
  {
   "cell_type": "markdown",
   "metadata": {},
   "source": [
    "* 测试用例 pytest库安装\n",
    "* pytest test.py\n"
   ]
  },
  {
   "cell_type": "markdown",
   "metadata": {},
   "source": [
    "### 3-8练习题"
   ]
  },
  {
   "cell_type": "markdown",
   "metadata": {},
   "source": [
    "##### 深拷贝与浅拷贝的区别\n",
    "* 什么是深拷贝?什么是浅拷贝?\n",
    "* 如何实现深拷贝?\n",
    "* python初始化二维数组?"
   ]
  },
  {
   "cell_type": "code",
   "execution_count": 42,
   "metadata": {},
   "outputs": [
    {
     "name": "stdout",
     "output_type": "stream",
     "text": [
      "[1, 2, 3]\n",
      "[1, 2, 3]\n"
     ]
    }
   ],
   "source": [
    "a = [1,2]\n",
    "b = a\n",
    "b.append(3)\n",
    "print(a)\n",
    "print(b)"
   ]
  },
  {
   "cell_type": "markdown",
   "metadata": {},
   "source": [
    "复制可变对象,指向同一个地址."
   ]
  }
 ],
 "metadata": {
  "kernelspec": {
   "display_name": "Python 3",
   "language": "python",
   "name": "python3"
  },
  "language_info": {
   "codemirror_mode": {
    "name": "ipython",
    "version": 3
   },
   "file_extension": ".py",
   "mimetype": "text/x-python",
   "name": "python",
   "nbconvert_exporter": "python",
   "pygments_lexer": "ipython3",
   "version": "3.6.4"
  }
 },
 "nbformat": 4,
 "nbformat_minor": 2
}
