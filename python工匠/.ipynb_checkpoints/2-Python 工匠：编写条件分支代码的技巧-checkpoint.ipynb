{
 "cells": [
  {
   "cell_type": "markdown",
   "metadata": {},
   "source": [
    "---\n",
    "title: Python 工匠：2-编写条件分支代码的技巧\n",
    "date: 2019-12-25 20:10:07\n",
    "tags:\n",
    "- python\n",
    "categories:\n",
    "- Python工匠\n",
    "---"
   ]
  },
  {
   "cell_type": "markdown",
   "metadata": {},
   "source": []
  },
  {
   "cell_type": "markdown",
   "metadata": {},
   "source": [
    "# Python 工匠：编写条件分支代码的技巧\n",
    "\n",
    "## 序言\n",
    "\n",
    "> 这是 “Python 工匠”系列的第 2 篇文章。[[查看系列所有文章]](https://github.com/piglei/one-python-craftsman)\n",
    "\n",
    "编写条件分支代码是编码过程中不可或缺的一部分。\n",
    "\n",
    "如果用道路来做比喻，现实世界中的代码从来都不是一条笔直的高速公路，而更像是由无数个岔路口组成的某个市区地图。我们编码者就像是驾驶员，需要告诉我们的程序，下个路口需要往左还是往右。\n",
    "\n",
    "编写优秀的条件分支代码非常重要，因为糟糕、复杂的分支处理非常容易让人困惑，从而降低代码质量。所以，这篇文章将会种重点谈谈在 Python 中编写分支代码应该注意的地方。\n",
    "\n",
    "### 内容目录\n",
    "\n",
    "* [最佳实践](#最佳实践)\n",
    "    * [1. 避免多层分支嵌套](#1-避免多层分支嵌套)\n",
    "    * [2. 封装那些过于复杂的逻辑判断](#2-封装那些过于复杂的逻辑判断)\n",
    "    * [3. 留意不同分支下的重复代码](#3-留意不同分支下的重复代码)\n",
    "    * [4. 谨慎使用三元表达式](#4-谨慎使用三元表达式)\n",
    "* [常见技巧](#常见技巧)\n",
    "    * [1. 使用“德摩根定律”](#1-使用德摩根定律)\n",
    "    * [2. 自定义对象的“布尔真假”](#2-自定义对象的布尔真假)\n",
    "    * [3. 在条件判断中使用 all() / any()](#3-在条件判断中使用-all--any)\n",
    "    * [4. 使用 try/while/for 中 else 分支](#4-使用-trywhilefor-中-else-分支)\n",
    "* [常见陷阱](#常见陷阱)\n",
    "    * [1. 与 None 值的比较](#1-与-none-值的比较)\n",
    "    * [2. 留意 and 和 or 的运算优先级](#2-留意-and-和-or-的运算优先级)\n",
    "* [结语](#结语)\n",
    "* [注解](#注解)\n",
    "\n",
    "### Python 里的分支代码\n",
    "\n",
    "Python 支持最为常见的 `if/else` 条件分支语句，不过它缺少在其他编程语言中常见的 `switch/case` 语句。\n",
    "\n",
    "除此之外，Python 还为 `for/while` 循环以及 `try/except` 语句提供了 else 分支，在一些特殊的场景下，它们可以大显身手。\n",
    "\n",
    "下面我会从 `最佳实践`、`常见技巧`、`常见陷阱` 三个方面讲一下如果编写优秀的条件分支代码。\n",
    "\n",
    "## 最佳实践\n",
    "\n",
    "### 1. 避免多层分支嵌套\n",
    "\n",
    "如果这篇文章只能删减成一句话就结束，那么那句话一定是**“要竭尽所能的避免分支嵌套”**。\n",
    "\n",
    "过深的分支嵌套是很多编程新手最容易犯的错误之一。假如有一位新手 JavaScript 程序员写了很多层分支嵌套，那么你可能会看到一层又一层的大括号：`if { if { if { ... }}}`。俗称*“嵌套 if 地狱（Nested If Statement Hell）”*。\n",
    "\n",
    "但是因为 Python 使用了缩进来代替 `{}`，所以过深的嵌套分支会产生比其他语言下更为严重的后果。比如过多的缩进层次很容易就会让代码超过 [PEP8](https://www.python.org/dev/peps/pep-0008/) 中规定的每行字数限制。让我们看看这段代码：\n",
    "\n"
   ]
  },
  {
   "cell_type": "code",
   "execution_count": 1,
   "metadata": {},
   "outputs": [],
   "source": [
    "def buy_fruit(nerd, store):\n",
    "    \"\"\"去水果店买苹果\n",
    "    \n",
    "    - 先得看看店是不是在营业\n",
    "    - 如果有苹果的话，就买 1 个\n",
    "    - 如果钱不够，就回家取钱再来\n",
    "    \"\"\"\n",
    "    if store.is_open():\n",
    "        if store.has_stocks(\"apple\"):\n",
    "            if nerd.can_afford(store.price(\"apple\", amount=1)):\n",
    "                nerd.buy(store, \"apple\", amount=1)\n",
    "                return\n",
    "            else:\n",
    "                nerd.go_home_and_get_money()\n",
    "                return buy_fruit(nerd, store)\n",
    "        else:\n",
    "            raise MadAtNoFruit(\"no apple in store!\")\n",
    "    else:\n",
    "        raise MadAtNoFruit(\"store is closed!\")"
   ]
  },
  {
   "cell_type": "markdown",
   "metadata": {},
   "source": [
    "上面这段代码最大的问题，就是过于直接翻译了原始的条件分支要求，导致短短十几行代码包含了有三层嵌套分支。\n",
    "\n",
    "这样的代码可读性和维护性都很差。不过我们可以用一个很简单的技巧：**“提前结束”** 来优化这段代码："
   ]
  },
  {
   "cell_type": "code",
   "execution_count": null,
   "metadata": {},
   "outputs": [],
   "source": [
    "def buy_fruit(nerd, store):\n",
    "    if not store.is_open():\n",
    "        raise MadAtNoFruit(\"store is closed!\")\n",
    "\n",
    "    if not store.has_stocks(\"apple\"):\n",
    "        raise MadAtNoFruit(\"no apple in store!\")\n",
    "\n",
    "    if nerd.can_afford(store.price(\"apple\", amount=1)):\n",
    "        nerd.buy(store, \"apple\", amount=1)\n",
    "        return\n",
    "    else:\n",
    "        nerd.go_home_and_get_money()\n",
    "        return buy_fruit(nerd, store)"
   ]
  },
  {
   "cell_type": "markdown",
   "metadata": {},
   "source": [
    "“提前结束”指：**在函数内使用 `return` 或 `raise` 等语句提前在分支内结束函数。**比如，在新的 `buy_fruit` 函数里，当分支条件不满足时，我们直接抛出异常，结束这段这代码分支。这样的代码没有嵌套分支，更直接也更易读。\n",
    "\n",
    "### 2. 封装那些过于复杂的逻辑判断\n",
    "\n",
    "如果条件分支里的表达式过于复杂，出现了太多的 `not/and/or`，那么这段代码的可读性就会大打折扣，比如下面这段代码："
   ]
  },
  {
   "cell_type": "code",
   "execution_count": null,
   "metadata": {},
   "outputs": [],
   "source": [
    "# 如果活动还在开放，并且活动剩余名额大于 10，为所有性别为女性，或者级别大于 3\n",
    "# 的活跃用户发放 10000 个金币\n",
    "if activity.is_active and activity.remaining > 10 and \\\n",
    "        user.is_active and (user.sex == 'female' or user.level > 3):\n",
    "    user.add_coins(10000)\n",
    "    return"
   ]
  },
  {
   "cell_type": "markdown",
   "metadata": {},
   "source": [
    "对于这样的代码，我们可以考虑将具体的分支逻辑封装成函数或者方法，来达到简化代码的目的："
   ]
  },
  {
   "cell_type": "code",
   "execution_count": null,
   "metadata": {},
   "outputs": [],
   "source": [
    "if activity.allow_new_user() and user.match_activity_condition():\n",
    "    user.add_coins(10000)\n",
    "    return"
   ]
  },
  {
   "cell_type": "markdown",
   "metadata": {},
   "source": [
    "事实上，将代码改写后，之前的注释文字其实也可以去掉了。**因为后面这段代码已经达到了自说明的目的。**至于具体的 *什么样的用户满足活动条件？* 这种问题，就应由具体的 `match_activity_condition()` 方法来回答了。\n",
    "\n",
    "> **Hint:** 恰当的封装不光直接改善了代码的可读性，事实上，如果上面的活动判断逻辑在代码中出现了不止一次的话，封装更是必须的。不然重复代码会极大的破坏这段逻辑的可维护性。\n",
    "\n",
    "### 3. 留意不同分支下的重复代码\n",
    "\n",
    "重复代码是代码质量的天敌，而条件分支语句又非常容易成为重复代码的重灾区。所以，当我们编写条件分支语句时，需要特别留意，不要生产不必要的重复代码。\n",
    "\n",
    "让我们看下这个例子："
   ]
  },
  {
   "cell_type": "code",
   "execution_count": null,
   "metadata": {},
   "outputs": [],
   "source": [
    "# 对于新用户，创建新的用户资料，否则更新旧资料\n",
    "if user.no_profile_exists:\n",
    "    create_user_profile(\n",
    "        username=user.username,\n",
    "        email=user.email,\n",
    "        age=user.age,\n",
    "        address=user.address,\n",
    "        # 对于新建用户，将用户的积分置为 0\n",
    "        points=0,\n",
    "        created=now(),\n",
    "    )\n",
    "else:\n",
    "    update_user_profile(\n",
    "        username=user.username,\n",
    "        email=user.email,\n",
    "        age=user.age,\n",
    "        address=user.address,\n",
    "        updated=now(),\n",
    "    )"
   ]
  },
  {
   "cell_type": "markdown",
   "metadata": {},
   "source": [
    "在上面的代码中，我们可以一眼看出，在不同的分支下，程序调用了不同的函数，做了不一样的事情。但是，因为那些重复代码的存在，**我们却很难简单的区分出，二者的不同点到底在哪。**\n",
    "\n",
    "其实，得益于 Python 的动态特性，我们可以简单的改写一下上面的代码，让可读性可以得到显著的提升："
   ]
  },
  {
   "cell_type": "code",
   "execution_count": null,
   "metadata": {},
   "outputs": [],
   "source": [
    "if user.no_profile_exists:\n",
    "    profile_func = create_user_profile\n",
    "    extra_args = {'points': 0, 'created': now()}\n",
    "else:\n",
    "    profile_func = update_user_profile\n",
    "    extra_args = {'updated': now()}\n",
    "\n",
    "profile_func(\n",
    "    username=user.username,\n",
    "    email=user.email,\n",
    "    age=user.age,\n",
    "    address=user.address,\n",
    "    **extra_args\n",
    ")"
   ]
  },
  {
   "cell_type": "markdown",
   "metadata": {},
   "source": [
    "当你编写分支代码时，请额外关注**由分支产生的重复代码块**，如果可以简单的消灭它们，那就不要迟疑。\n",
    "\n",
    "### 4. 谨慎使用三元表达式\n",
    "\n",
    "三元表达式是 Python 2.5 版本后才支持的语法。在那之前，Python 社区一度认为三元表达式没有必要，我们需要使用 `x and a or b` 的方式来模拟它。[[注]](#annot1)\n",
    "\n",
    "事实是，在很多情况下，使用普通的 `if/else` 语句的代码可读性确实更好。盲目追求三元表达式很容易诱惑你写出复杂、可读性差的代码。\n",
    "\n",
    "所以，请记得只用三元表达式处理简单的逻辑分支。"
   ]
  },
  {
   "cell_type": "code",
   "execution_count": null,
   "metadata": {},
   "outputs": [],
   "source": [
    "language = \"python\" if you.favor(\"dynamic\") else \"golang\""
   ]
  },
  {
   "cell_type": "markdown",
   "metadata": {},
   "source": [
    "对于绝大多数情况，还是使用普通的 `if/else` 语句吧。\n",
    "\n",
    "## 常见技巧\n",
    "\n",
    "### 1. 使用“德摩根定律”\n",
    "\n",
    "在做分支判断时，我们有时候会写成这样的代码："
   ]
  },
  {
   "cell_type": "code",
   "execution_count": null,
   "metadata": {},
   "outputs": [],
   "source": [
    "# 如果用户没有登录或者用户没有使用 chrome，拒绝提供服务\n",
    "if not user.has_logged_in or not user.is_from_chrome:\n",
    "    return \"our service is only available for chrome logged in user\""
   ]
  },
  {
   "cell_type": "markdown",
   "metadata": {},
   "source": [
    "第一眼看到代码时，是不是需要思考一会才能理解它想干嘛？这是因为上面的逻辑表达式里面出现了 2 个 `not` 和 1 个 `or`。而我们人类恰好不擅长处理过多的“否定”以及“或”这种逻辑关系。\n",
    "\n",
    "这个时候，就该 [德摩根定律](https://zh.wikipedia.org/wiki/%E5%BE%B7%E6%91%A9%E6%A0%B9%E5%AE%9A%E5%BE%8B) 出场了。通俗的说，德摩根定律就是 `not A or not B` 等价于 `not (A and B)`。通过这样的转换，上面的代码可以改写成这样："
   ]
  },
  {
   "cell_type": "markdown",
   "metadata": {},
   "source": [
    "if not (user.has_logged_in and user.is_from_chrome):\n",
    "    return \"our service is only available for chrome logged in user\""
   ]
  },
  {
   "cell_type": "markdown",
   "metadata": {},
   "source": [
    "怎么样，代码是不是易读了很多？记住德摩根定律，很多时候它对于简化条件分支里的代码逻辑非常有用。\n",
    "\n",
    "### 2. 自定义对象的“布尔真假”\n",
    "\n",
    "我们常说，在 Python 里，“万物皆对象”。其实，不光“万物皆对象”，我们还可以利用很多魔法方法*（文档中称为：[user-defined method](https://docs.python.org/3/reference/datamodel.html)）*，来自定义对象的各种行为。我们可以用很多在别的语言里面无法做到、有些魔法的方式来影响代码的执行。\n",
    "\n",
    "比如，Python 的所有对象都有自己的“布尔真假”：\n",
    "\n",
    "- 布尔值为假的对象：`None`, `0`, `False`, `[]`, `()`, `{}`, `set()`, `frozenset()`, ... ...\n",
    "- 布尔值为真的对象：非 `0` 的数值、`True`，非空的序列、元组，普通的用户类实例，... ...\n",
    "\n",
    "通过内建函数 `bool()`，你可以很方便的查看某个对象的布尔真假。而 Python 进行条件分支判断时用到的也是这个值："
   ]
  },
  {
   "cell_type": "code",
   "execution_count": null,
   "metadata": {},
   "outputs": [],
   "source": []
  }
 ],
 "metadata": {
  "kernelspec": {
   "display_name": "Python 3",
   "language": "python",
   "name": "python3"
  },
  "language_info": {
   "codemirror_mode": {
    "name": "ipython",
    "version": 3
   },
   "file_extension": ".py",
   "mimetype": "text/x-python",
   "name": "python",
   "nbconvert_exporter": "python",
   "pygments_lexer": "ipython3",
   "version": "3.7.1"
  }
 },
 "nbformat": 4,
 "nbformat_minor": 2
}
