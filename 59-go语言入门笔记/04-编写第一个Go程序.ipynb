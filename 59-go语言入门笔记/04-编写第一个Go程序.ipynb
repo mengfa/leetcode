{
 "cells": [
  {
   "cell_type": "markdown",
   "metadata": {},
   "source": [
    "### 基本程序结构\n",
    "```\n",
    "package main //包，表明代码所在的模块（包）\n",
    "import \"fmt\" //引⼊入代码依赖\n",
    "//功能实现\n",
    "func main() {\n",
    "fmt.Println(\"Hello World!\")\n",
    "}\n",
    "```\n",
    "\n",
    "\n",
    "### 应⽤用程序⼊入⼝口\n",
    "1. 必须是 main 包： package main\n",
    "2. 必须是 main ⽅方法： func main()\n",
    "3. ⽂文件名不不⼀一定是 main.go\n",
    "\n",
    "### 退出返回值\n",
    "与其他主要编程语⾔言的差异\n",
    "• Go 中 main 函数不不⽀支持任何返回值\n",
    "• 通过 os.Exit 来返回状态\n",
    "\n",
    "### 常量量定义\n",
    "```\n",
    "const (\n",
    "Monday = iota + 1\n",
    "Tuesday\n",
    "Wednesday\n",
    "Thursday\n",
    "Friday\n",
    "Saturday\n",
    "Sunday\n",
    ")\n",
    "const (\n",
    "Open = 1 << iota\n",
    "Close\n",
    "Pending\n",
    ")\n",
    "```\n",
    "* 快速设置连续值\n",
    "* 与其他主要编程语⾔言的差异\n",
    "\n",
    "### 基本数据类型\n",
    "```\n",
    "bool\n",
    "string\n",
    "int int8 int16 int32 int64\n",
    "uint uint8 uint16 uint32 uint64 uintptr\n",
    "byte // alias for uint8\n",
    "rune // alias for int32,represents a Unicode code point\n",
    "float32 float64\n",
    "complex64 complex128\n",
    "```\n",
    "\n",
    "### 类型转化\n",
    "1. Go 语⾔言不不允许隐式类型转换\n",
    "2. 别名和原有类型也不不能进⾏行行隐式类型转换"
   ]
  },
  {
   "cell_type": "markdown",
   "metadata": {},
   "source": []
  },
  {
   "cell_type": "markdown",
   "metadata": {},
   "source": [
    "### 获取命令行参数\n",
    "1. main函数不支持传入参数.\n",
    "2. 在程序中直接通过os.Args获取命令行参数."
   ]
  },
  {
   "cell_type": "code",
   "execution_count": 1,
   "metadata": {},
   "outputs": [
    {
     "ename": "SyntaxError",
     "evalue": "invalid syntax (<ipython-input-1-700ae7d43f68>, line 1)",
     "output_type": "error",
     "traceback": [
      "\u001b[0;36m  File \u001b[0;32m\"<ipython-input-1-700ae7d43f68>\"\u001b[0;36m, line \u001b[0;32m1\u001b[0m\n\u001b[0;31m    package main\u001b[0m\n\u001b[0m               ^\u001b[0m\n\u001b[0;31mSyntaxError\u001b[0m\u001b[0;31m:\u001b[0m invalid syntax\n"
     ]
    }
   ],
   "source": [
    "package main\n",
    "\n",
    "import (\n",
    "\t\"fmt\"\n",
    "\t\"os\"\n",
    ")\n",
    "\n",
    "func main() {\n",
    "\tif len(os.Args) > 1 {\n",
    "\t\tfmt.Println(\"Hello World\", os.Args[1])\n",
    "\t}\n",
    "}"
   ]
  },
  {
   "cell_type": "markdown",
   "metadata": {},
   "source": [
    "### 05-变量常量以及差异.\n",
    "1. 大写的方法是代表,包外可以访问.\n",
    "go 单元测试\n",
    "coverage: [no statements]\n",
    "\n",
    "单元测试命令:\n",
    "```\n",
    "go test -v first_test.go\n",
    "\n",
    "```\n",
    "自动识别*_test.go"
   ]
  },
  {
   "cell_type": "code",
   "execution_count": null,
   "metadata": {},
   "outputs": [],
   "source": []
  },
  {
   "cell_type": "code",
   "execution_count": null,
   "metadata": {},
   "outputs": [],
   "source": []
  },
  {
   "cell_type": "code",
   "execution_count": null,
   "metadata": {},
   "outputs": [],
   "source": []
  }
 ],
 "metadata": {
  "kernelspec": {
   "display_name": "Python 3",
   "language": "python",
   "name": "python3"
  },
  "language_info": {
   "codemirror_mode": {
    "name": "ipython",
    "version": 3
   },
   "file_extension": ".py",
   "mimetype": "text/x-python",
   "name": "python",
   "nbconvert_exporter": "python",
   "pygments_lexer": "ipython3",
   "version": "3.7.4"
  }
 },
 "nbformat": 4,
 "nbformat_minor": 2
}
