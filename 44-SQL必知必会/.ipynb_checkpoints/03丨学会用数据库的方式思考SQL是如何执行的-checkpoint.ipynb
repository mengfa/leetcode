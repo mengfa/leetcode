{
 "cells": [
  {
   "cell_type": "markdown",
   "metadata": {},
   "source": [
    "---\n",
    "title: 03丨学会用数据库的方式思考SQL是如何执行的\n",
    "date: 2019-12-13 22:10:07\n",
    "tags:\n",
    "- sql\n",
    "- 极客时间\n",
    "categories:\n",
    "- SQL必知必会\n",
    "---"
   ]
  },
  {
   "cell_type": "markdown",
   "metadata": {},
   "source": [
    "通过上一篇文章对不同的 DBMS 的介绍，你应该对它们有了一些基础的了解。虽然 SQL 是声明式语言，我们可以像使用英语一样使用它，不过在 RDBMS（关系型数据库管理系统）中，SQL 的实现方式还是有差别的。今天我们就从数据库的角度来思考一下 SQL 是如何被执行的。\n",
    "\n",
    "关于今天的内容，你会从以下几个方面进行学习：\n",
    "\n",
    "1. Oracle 中的 SQL 是如何执行的，什么是硬解析和软解析；\n",
    "2. MySQL 中的 SQL 是如何执行的，MySQL 的体系结构又是怎样的；\n",
    "3. 什么是存储引擎，MySQL 的存储引擎都有哪些？\n",
    "\n",
    "### Oracle 中的 SQL 是如何执行的\n",
    "\n",
    "我们先来看下 SQL 在 Oracle 中的执行过程："
   ]
  },
  {
   "cell_type": "markdown",
   "metadata": {},
   "source": [
    "```\n",
    "                     SQL语句\n",
    "                        |\n",
    "                        |                   硬解析\n",
    "语法检查---->语义检查---->权限检查---->共享池检查----->优化器\n",
    "                                     |             |\n",
    "                              软解析  |             |\n",
    "                                    执行-------------\n",
    "                                   \n",
    "```                                   "
   ]
  },
  {
   "cell_type": "markdown",
   "metadata": {},
   "source": [
    "从上面这张图中可以看出，SQL 语句在 Oracle 中经历了以下的几个步骤。\n",
    "\n",
    "1. 语法检查：检查 SQL 拼写是否正确，如果不正确，Oracle 会报语法错误。\n",
    "\n",
    "2. 语义检查：检查 SQL 中的访问对象是否存在。比如我们在写 SELECT 语句的时候，列名写错了，系统就会提示错误。语法检查和语义检查的作用是保证 SQL 语句没有错误。\n",
    "\n",
    "3. 权限检查：看用户是否具备访问该数据的权限。\n",
    "\n",
    "4. 共享池检查：共享池（Shared Pool）是一块内存池，最主要的作用是缓存 SQL 语句和该语句的执行计划。Oracle 通过检查共享池是否存在 SQL 语句的执行计划，来判断进行软解析，还是硬解析。那软解析和硬解析又该怎么理解呢？\n",
    "\n",
    "在共享池中，Oracle 首先对 SQL 语句进行 Hash 运算，然后根据 Hash 值在库缓存（Library Cache）中查找，如果存在 SQL 语句的执行计划，就直接拿来执行，直接进入“执行器”的环节，这就是软解析。\n",
    "\n",
    "如果没有找到 SQL 语句和执行计划，Oracle 就需要创建解析树进行解析，生成执行计划，进入“优化器”这个步骤，这就是硬解析。\n",
    "\n",
    "5. 优化器：优化器中就是要进行硬解析，也就是决定怎么做，比如创建解析树，生成执行计划。\n",
    "\n",
    "6. 执行器：当有了解析树和执行计划之后，就知道了 SQL 该怎么被执行，这样就可以在执行器中执行语句了。\n",
    "\n",
    "共享池是 Oracle 中的术语，包括了库缓存，数据字典缓冲区等。我们上面已经讲到了库缓存区，它主要缓存 SQL 语句和执行计划。而数据字典缓冲区存储的是 Oracle 中的对象定义，比如表、视图、索引等对象。当对 SQL 语句进行解析的时候，如果需要相关的数据，会从数据字典缓冲区中提取。\n",
    "\n",
    "库缓存这一个步骤，决定了 SQL 语句是否需要进行硬解析。为了提升 SQL 的执行效率，我们应该尽量避免硬解析，因为在 SQL 的执行过程中，创建解析树，生成执行计划是很消耗资源的。\n",
    "\n",
    "你可能会问，如何避免硬解析，尽量使用软解析呢？在 Oracle 中，绑定变量是它的一大特色。绑定变量就是在 SQL 语句中使用变量，通过不同的变量取值来改变 SQL 的执行结果。这样做的好处是能提升软解析的可能性，不足之处在于可能会导致生成的执行计划不够优化，因此是否需要绑定变量还需要视情况而定。\n",
    "\n",
    "举个例子，我们可以使用下面的查询语句："
   ]
  },
  {
   "cell_type": "code",
   "execution_count": null,
   "metadata": {},
   "outputs": [],
   "source": [
    "SQL> select * from player where player_id = 10001;\n"
   ]
  },
  {
   "cell_type": "markdown",
   "metadata": {},
   "source": [
    "你也可以使用绑定变量，如："
   ]
  },
  {
   "cell_type": "code",
   "execution_count": null,
   "metadata": {},
   "outputs": [],
   "source": [
    "SQL> select * from player where player_id = :player_id;\n"
   ]
  },
  {
   "cell_type": "markdown",
   "metadata": {},
   "source": [
    "这两个查询语句的效率在 Oracle 中是完全不同的。如果你在查询 player_id = 10001 之后，还会查询 10002、10003 之类的数据，那么每一次查询都会创建一个新的查询解析。而第二种方式使用了绑定变量，那么在第一次查询之后，在共享池中就会存在这类查询的执行计划，也就是软解析。\n",
    "\n",
    "因此我们可以通过使用绑定变量来减少硬解析，减少 Oracle 的解析工作量。但是这种方式也有缺点，使用动态 SQL 的方式，因为参数不同，会导致 SQL 的执行效率不同，同时 SQL 优化也会比较困难。\n",
    "\n",
    "### MySQL 中的 SQL 是如何执行的\n",
    "Oracle 中采用了共享池来判断 SQL 语句是否存在缓存和执行计划，通过这一步骤我们可以知道应该采用硬解析还是软解析。那么在 MySQL 中，SQL 是如何被执行的呢？\n",
    "\n",
    "首先 MySQL 是典型的 C/S 架构，即 Client/Server 架构，服务器端程序使用的 mysqld。整体的 MySQL 流程如下图所示："
   ]
  },
  {
   "cell_type": "markdown",
   "metadata": {},
   "source": [
    "你能看到 MySQL 由三层组成：\n",
    "\n",
    "1. 连接层：客户端和服务器端建立连接，客户端发送 SQL 至服务器端；\n",
    "2. SQL 层：对 SQL 语句进行查询处理；\n",
    "3. 存储引擎层：与数据库文件打交道，负责数据的存储和读取。\n",
    "\n",
    "其中 SQL 层与数据库文件的存储方式无关，我们来看下 SQL 层的结构："
   ]
  },
  {
   "cell_type": "code",
   "execution_count": null,
   "metadata": {},
   "outputs": [],
   "source": []
  },
  {
   "cell_type": "code",
   "execution_count": null,
   "metadata": {},
   "outputs": [],
   "source": []
  },
  {
   "cell_type": "code",
   "execution_count": null,
   "metadata": {},
   "outputs": [],
   "source": []
  }
 ],
 "metadata": {
  "kernelspec": {
   "display_name": "Python 3",
   "language": "python",
   "name": "python3"
  },
  "language_info": {
   "codemirror_mode": {
    "name": "ipython",
    "version": 3
   },
   "file_extension": ".py",
   "mimetype": "text/x-python",
   "name": "python",
   "nbconvert_exporter": "python",
   "pygments_lexer": "ipython3",
   "version": "3.7.1"
  }
 },
 "nbformat": 4,
 "nbformat_minor": 2
}
