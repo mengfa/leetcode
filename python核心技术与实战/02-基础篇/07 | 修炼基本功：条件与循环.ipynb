{
 "cells": [
  {
   "cell_type": "markdown",
   "metadata": {},
   "source": [
    "### 条件语句\n",
    "首先，我们一起来看一下 Python 的条件语句，用法很简单。比如，我想要表示 y=|x|这个函数，那么相应的代码便是："
   ]
  },
  {
   "cell_type": "code",
   "execution_count": 3,
   "metadata": {},
   "outputs": [
    {
     "name": "stdout",
     "output_type": "stream",
     "text": [
      "1\n"
     ]
    }
   ],
   "source": [
    "# y = |x|\n",
    "x = 1\n",
    "if x < 0:\n",
    "    y = -x\n",
    "else:\n",
    "    y = x\n",
    "print(y)"
   ]
  },
  {
   "cell_type": "markdown",
   "metadata": {},
   "source": [
    "由于 Python 不支持 switch 语句，因此，当存在多个条件判断时，我们需要用 else if 来实现，这在 Python 中的表达是elif。语法如下："
   ]
  },
  {
   "cell_type": "code",
   "execution_count": 5,
   "metadata": {},
   "outputs": [
    {
     "ename": "NameError",
     "evalue": "name 'condition_1' is not defined",
     "output_type": "error",
     "traceback": [
      "\u001b[0;31m---------------------------------------------------------------------------\u001b[0m",
      "\u001b[0;31mNameError\u001b[0m                                 Traceback (most recent call last)",
      "\u001b[0;32m<ipython-input-5-fefccca48302>\u001b[0m in \u001b[0;36m<module>\u001b[0;34m\u001b[0m\n\u001b[0;32m----> 1\u001b[0;31m \u001b[0;32mif\u001b[0m \u001b[0mcondition_1\u001b[0m\u001b[0;34m:\u001b[0m\u001b[0;34m\u001b[0m\u001b[0;34m\u001b[0m\u001b[0m\n\u001b[0m\u001b[1;32m      2\u001b[0m     \u001b[0mstatement_1\u001b[0m\u001b[0;34m\u001b[0m\u001b[0;34m\u001b[0m\u001b[0m\n\u001b[1;32m      3\u001b[0m \u001b[0;32melif\u001b[0m \u001b[0mcondition_2\u001b[0m\u001b[0;34m:\u001b[0m\u001b[0;34m\u001b[0m\u001b[0;34m\u001b[0m\u001b[0m\n\u001b[1;32m      4\u001b[0m     \u001b[0mstatement_2\u001b[0m\u001b[0;34m\u001b[0m\u001b[0;34m\u001b[0m\u001b[0m\n\u001b[1;32m      5\u001b[0m \u001b[0;32melif\u001b[0m \u001b[0mcondition_i\u001b[0m\u001b[0;34m:\u001b[0m\u001b[0;34m\u001b[0m\u001b[0;34m\u001b[0m\u001b[0m\n",
      "\u001b[0;31mNameError\u001b[0m: name 'condition_1' is not defined"
     ]
    }
   ],
   "source": [
    "if condition_1:\n",
    "    statement_1\n",
    "elif condition_2:\n",
    "    statement_2\n",
    "elif condition_i:\n",
    "    statement_i\n",
    "else:\n",
    "    statement_n\n"
   ]
  },
  {
   "cell_type": "markdown",
   "metadata": {},
   "source": [
    "整个条件语句是顺序执行的，如果遇到一个条件满足，比如 condition_i 满足时，在执行完 statement_i 后，便会退出整个 if、elif、else 条件语句，而不会继续向下执行。这个语句在工作中很常用，比如下面的这个例子。\n",
    "\n",
    "实际工作中，我们经常用 ID 表示一个事物的属性，然后进行条件判断并且输出。比如，在 integrity 的工作中，通常用 0、1、2 分别表示一部电影的色情暴力程度。其中，0 的程度最高，是 red 级别；1 其次，是 yellow 级别；2 代表没有质量问题，属于 green。\n",
    "\n",
    "如果给定一个 ID，要求输出某部电影的质量评级，则代码如下："
   ]
  },
  {
   "cell_type": "code",
   "execution_count": null,
   "metadata": {},
   "outputs": [],
   "source": [
    "if id == 0:\n",
    "    print('red')\n",
    "elif id == 1:\n",
    "    print('yellow')\n",
    "else:\n",
    "    print('green')  \n"
   ]
  },
  {
   "cell_type": "markdown",
   "metadata": {},
   "source": [
    "不过要注意，if 语句是可以单独使用的，但 elif、else 都必须和 if 成对使用。\n",
    "\n",
    "另外，在我们进行条件判断时， 不少人喜欢省略判断的条件，比如写成下面这样："
   ]
  },
  {
   "cell_type": "code",
   "execution_count": null,
   "metadata": {},
   "outputs": [],
   "source": [
    "if s: # s is a string\n",
    "    ...\n",
    "if l: # l is a list\n",
    "    ...\n",
    "if i: # i is an int\n",
    "    ...\n",
    "... "
   ]
  },
  {
   "cell_type": "markdown",
   "metadata": {},
   "source": [
    "不过，切记，在实际写代码时，我们鼓励，除了 boolean 类型的数据，条件判断最好是显性的。比如，在判断一个整型数是否为 0 时，我们最好写出判断的条件："
   ]
  },
  {
   "cell_type": "code",
   "execution_count": 10,
   "metadata": {},
   "outputs": [
    {
     "name": "stdout",
     "output_type": "stream",
     "text": [
      "1\n",
      "1\n",
      "string\n",
      "string\n",
      "[1, 2, 3]\n",
      "[1, 2, 3]\n"
     ]
    }
   ],
   "source": [
    "i = 1\n",
    "if i != 0:\n",
    "    print(i)\n",
    "# 而不是只写出变量名：\n",
    "if i:\n",
    "    print(i)\n",
    "s = \"string\"\n",
    "if s != 0:\n",
    "    print(s)\n",
    "# 而不是只写出变量名：\n",
    "if s:\n",
    "    print(s)\n",
    "    \n",
    "l = [1, 2, 3]    \n",
    "if l != 0:\n",
    "    print(l)\n",
    "# 而不是只写出变量名：\n",
    "if l:\n",
    "    print(l)"
   ]
  },
  {
   "cell_type": "markdown",
   "metadata": {},
   "source": [
    "### 循环语句\n",
    "讲完了条件语句，我们接着来看循环语句。所谓循环，顾名思义，本质上就是遍历集合中的元素。和其他语言一样，Python 中的循环一般通过 for 循环和 while 循环实现。\n",
    "\n",
    "比如，我们有一个列表，需要遍历列表中的所有元素并打印输出，代码如下："
   ]
  },
  {
   "cell_type": "code",
   "execution_count": null,
   "metadata": {},
   "outputs": [],
   "source": [
    "l = [1, 2, 3, 4]\n",
    "for item in l:\n",
    "    print(item)"
   ]
  },
  {
   "cell_type": "markdown",
   "metadata": {},
   "source": [
    "你看，是不是很简单呢？\n",
    "\n",
    "其实，Python 中的数据结构只要是可迭代的（iterable），比如列表、集合等等，那么都可以通过下面这种方式遍历："
   ]
  },
  {
   "cell_type": "code",
   "execution_count": null,
   "metadata": {},
   "outputs": [],
   "source": [
    "for item in <iterable>:\n",
    "    ..."
   ]
  },
  {
   "cell_type": "markdown",
   "metadata": {},
   "source": [
    "这里需要单独强调一下字典。字典本身只有键是可迭代的，如果我们要遍历它的值或者是键值对，就需要通过其内置的函数 values() 或者 items() 实现。其中，values() 返回字典的值的集合，items() 返回键值对的集合。"
   ]
  },
  {
   "cell_type": "code",
   "execution_count": 11,
   "metadata": {},
   "outputs": [
    {
     "name": "stdout",
     "output_type": "stream",
     "text": [
      "name\n",
      "dob\n",
      "gender\n",
      "jason\n",
      "2000-01-01\n",
      "male\n",
      "key: name, value: jason\n",
      "key: dob, value: 2000-01-01\n",
      "key: gender, value: male\n"
     ]
    }
   ],
   "source": [
    "d = {'name': 'jason', 'dob': '2000-01-01', 'gender': 'male'}\n",
    "for k in d: # 遍历字典的键\n",
    "    print(k)\n",
    " \n",
    "for v in d.values(): # 遍历字典的值\n",
    "    print(v)\n",
    " \n",
    "for k, v in d.items(): # 遍历字典的键值对\n",
    "    print('key: {}, value: {}'.format(k, v))\n"
   ]
  },
  {
   "cell_type": "markdown",
   "metadata": {},
   "source": [
    "看到这里你也许会问，有没有办法通过集合中的索引来遍历元素呢？当然可以，其实这种情况在实际工作中还是很常见的，甚至很多时候，我们还得根据索引来做一些条件判断。\n",
    "\n",
    "我们通常通过 range() 这个函数，拿到索引，再去遍历访问集合中的元素。比如下面的代码，遍历一个列表中的元素，当索引小于 5 时，打印输出："
   ]
  },
  {
   "cell_type": "code",
   "execution_count": null,
   "metadata": {},
   "outputs": [],
   "source": [
    "l = [1, 2, 3, 4, 5, 6, 7]\n",
    "for index in range(0, len(l)):\n",
    "    if index < 5:\n",
    "        print(l[index])  \n",
    "# enumerate 当我们同时需要索引和元素时，还有一种更简洁的方式，那就是通过 Python 内置的函数 enumerate()。\n",
    "# 用它来遍历集合，不仅返回每个元素，并且还返回其对应的索引，这样一来，上面的例子就可以写成:       \n",
    "l = [1, 2, 3, 4, 5, 6, 7]\n",
    "for index, item in enumerate(l):\n",
    "    if index < 5:\n",
    "        print(item)  "
   ]
  },
  {
   "cell_type": "markdown",
   "metadata": {},
   "source": [
    "在循环语句中，我们还常常搭配 continue 和 break 一起使用。所谓 continue，就是让程序跳过当前这层循环，继续执行下面的循环；而 break 则是指完全跳出所在的整个循环体。在循环中适当加入 continue 和 break，往往能使程序更加简洁、易读。\n",
    "\n",
    "比如，给定两个字典，分别是产品名称到价格的映射，和产品名称到颜色列表的映射。我们要找出价格小于 1000，并且颜色不是红色的所有产品名称和颜色的组合。如果不用 continue，代码应该是下面这样的："
   ]
  },
  {
   "cell_type": "code",
   "execution_count": null,
   "metadata": {},
   "outputs": [],
   "source": [
    "# name_price: 产品名称 (str) 到价格 (int) 的映射字典\n",
    "# name_color: 产品名字 (str) 到颜色 (list of str) 的映射字典\n",
    "for name, price in name_price.items():\n",
    "    if price < 1000:\n",
    "        if name in name_color:\n",
    "            for color in name_color[name]:\n",
    "                if color != 'red':\n",
    "                    print('name: {}, color: {}'.format(name, color))\n",
    "        else:\n",
    "            print('name: {}, color: {}'.format(name, 'None'))"
   ]
  },
  {
   "cell_type": "markdown",
   "metadata": {},
   "source": [
    "而加入 continue 后，代码显然清晰了很多："
   ]
  },
  {
   "cell_type": "code",
   "execution_count": null,
   "metadata": {},
   "outputs": [],
   "source": [
    "# name_price: 产品名称 (str) 到价格 (int) 的映射字典\n",
    "# name_color: 产品名字 (str) 到颜色 (list of str) 的映射字典\n",
    "for name, price in name_price.items():\n",
    "    if price >= 1000:\n",
    "        continue\n",
    "    if name not in name_color:\n",
    "        print('name: {}, color: {}'.format(name, 'None'))\n",
    "        continue\n",
    "    for color in name_color[name]:\n",
    "        if color == 'red':\n",
    "            continue\n",
    "        print('name: {}, color: {}'.format(name, color))\n"
   ]
  },
  {
   "cell_type": "markdown",
   "metadata": {},
   "source": [
    "我们可以看到，按照第一个版本的写法，从开始一直到打印输出符合条件的产品名称和颜色，共有 5 层 for 或者 if 的嵌套；但第二个版本加入了 continue 后，只有 3 层嵌套。\n",
    "\n",
    "显然，如果代码中出现嵌套里还有嵌套的情况，代码便会变得非常冗余、难读，也不利于后续的调试、修改。因此，我们要尽量避免这种多层嵌套的情况。\n",
    "\n",
    "前面讲了 for 循环，对于 while 循环，原理也是一样的。它表示当 condition 满足时，一直重复循环内部的操作，直到 condition 不再满足，就跳出循环体。"
   ]
  },
  {
   "cell_type": "code",
   "execution_count": null,
   "metadata": {},
   "outputs": [],
   "source": [
    "while condition:\n",
    "    ....\n"
   ]
  },
  {
   "cell_type": "markdown",
   "metadata": {},
   "source": [
    "很多时候，for 循环和 while 循环可以互相转换，比如要遍历一个列表，我们用 while 循环同样可以完成："
   ]
  },
  {
   "cell_type": "code",
   "execution_count": null,
   "metadata": {},
   "outputs": [],
   "source": [
    "l = [1, 2, 3, 4]\n",
    "index = 0\n",
    "while index < len(l):\n",
    "    print(l[index])\n",
    "    index += 1\n"
   ]
  },
  {
   "cell_type": "markdown",
   "metadata": {},
   "source": [
    "那么，两者的使用场景又有什么区别呢？\n",
    "\n",
    "通常来说，如果你只是遍历一个已知的集合，找出满足条件的元素，并进行相应的操作，那么使用 for 循环更加简洁。但如果你需要在满足某个条件前，不停地重复某些操作，并且没有特定的集合需要去遍历，那么一般则会使用 while 循环。\n",
    "\n",
    "比如，某个交互式问答系统，用户输入文字，系统会根据内容做出相应的回答。为了实现这个功能，我们一般会使用 while 循环，大致代码如下："
   ]
  },
  {
   "cell_type": "code",
   "execution_count": null,
   "metadata": {},
   "outputs": [],
   "source": [
    "while True:\n",
    "    try:\n",
    "        text = input('Please enter your questions, enter \"q\" to exit')\n",
    "        if text == 'q':\n",
    "            print('Exit system')\n",
    "            break\n",
    "        ...\n",
    "        ...\n",
    "        print(response)\n",
    "    except as err:\n",
    "        print('Encountered error: {}'.format(err))\n",
    "        break "
   ]
  },
  {
   "cell_type": "markdown",
   "metadata": {},
   "source": [
    "同时需要注意的是，for 循环和 while 循环的效率问题。比如下面的 while 循环："
   ]
  },
  {
   "cell_type": "code",
   "execution_count": null,
   "metadata": {},
   "outputs": [],
   "source": [
    "i = 0\n",
    "while i < 1000000:\n",
    "    i += 1\n",
    "# 将这个表达式分解开来，其实就等同于下面这样的嵌套结构：    \n",
    "for i in range(0, 1000000):\n",
    "    pass"
   ]
  },
  {
   "cell_type": "markdown",
   "metadata": {},
   "source": [
    "究竟哪个效率高呢？\n",
    "\n",
    "要知道，range() 函数是直接由 C 语言写的，调用它速度非常快。而 while 循环中的“i += 1”这个操作，得通过 Python 的解释器间接调用底层的 C 语言；并且这个简单的操作，又涉及到了对象的创建和删除（因为 i 是整型，是 immutable，i += 1 相当于 i = new int(i + 1)）。所以，显然，for 循环的效率更胜一筹。"
   ]
  },
  {
   "cell_type": "markdown",
   "metadata": {},
   "source": [
    "### 条件与循环的复用\n",
    "前面两部分讲了条件与循环的一些基本操作，接下来，我们重点来看它们的进阶操作，让程序变得更简洁高效。\n",
    "\n",
    "在阅读代码的时候，你应该常常会发现，有很多将条件与循环并做一行的操作，例如："
   ]
  },
  {
   "cell_type": "code",
   "execution_count": null,
   "metadata": {},
   "outputs": [],
   "source": [
    "expression1 if condition else expression2 for item in iterable"
   ]
  },
  {
   "cell_type": "markdown",
   "metadata": {},
   "source": [
    "将这个表达式分解开来，其实就等同于下面这样的嵌套结构："
   ]
  },
  {
   "cell_type": "code",
   "execution_count": null,
   "metadata": {},
   "outputs": [],
   "source": [
    "for item in iterable:\n",
    "    if condition:\n",
    "        expression1\n",
    "    else:\n",
    "        expression2\n"
   ]
  },
  {
   "cell_type": "markdown",
   "metadata": {},
   "source": [
    "而如果没有 else 语句，则需要写成："
   ]
  },
  {
   "cell_type": "code",
   "execution_count": null,
   "metadata": {},
   "outputs": [],
   "source": [
    "expression for item in iterable if condition\n"
   ]
  },
  {
   "cell_type": "markdown",
   "metadata": {},
   "source": [
    "举个例子，比如我们要绘制 y = 2*|x| + 5 的函数图像，给定集合 x 的数据点，需要计算出 y 的数据集合，那么只用一行代码，就可以很轻松地解决问题了："
   ]
  },
  {
   "cell_type": "code",
   "execution_count": null,
   "metadata": {},
   "outputs": [],
   "source": [
    "y = [value * 2 + 5 if value > 0 else -value * 2 + 5 for value in x]\n"
   ]
  },
  {
   "cell_type": "markdown",
   "metadata": {},
   "source": [
    "再比如我们在处理文件中的字符串时，常常遇到的一个场景：将文件中逐行读取的一个完整语句，按逗号分割单词，去掉首位的空字符，并过滤掉长度小于等于 3 的单词，最后返回由单词组成的列表。这同样可以简洁地表达成一行："
   ]
  },
  {
   "cell_type": "code",
   "execution_count": 14,
   "metadata": {},
   "outputs": [
    {
     "name": "stdout",
     "output_type": "stream",
     "text": [
      "['Today', 'Sunday']\n"
     ]
    }
   ],
   "source": [
    "text = ' Today,  is, Sunday'\n",
    "text_list = [s.strip() for s in text.split(',') if len(s.strip()) > 3]\n",
    "print(text_list)\n"
   ]
  },
  {
   "cell_type": "markdown",
   "metadata": {},
   "source": [
    "当然，这样的复用并不仅仅局限于一个循环。比如，给定两个列表 x、y，要求返回 x、y 中所有元素对组成的元祖，相等情况除外。那么，你也可以很容易表示出来："
   ]
  },
  {
   "cell_type": "code",
   "execution_count": null,
   "metadata": {},
   "outputs": [],
   "source": [
    "[(xx, yy) for xx in x for yy in y if xx != yy]\n"
   ]
  },
  {
   "cell_type": "markdown",
   "metadata": {},
   "source": [
    "这样的写法就等价于："
   ]
  },
  {
   "cell_type": "code",
   "execution_count": null,
   "metadata": {},
   "outputs": [],
   "source": [
    "l = []\n",
    "for xx in x:\n",
    "    for yy in y:\n",
    "        if xx != yy:\n",
    "            l.append((xx, yy))\n"
   ]
  },
  {
   "cell_type": "markdown",
   "metadata": {},
   "source": [
    "熟练之后，你会发现这种写法非常方便。当然，如果遇到逻辑很复杂的复用，你可能会觉得写成一行难以理解、容易出错。那种情况下，用正常的形式表达，也不失为一种好的规范和选择。"
   ]
  },
  {
   "cell_type": "markdown",
   "metadata": {},
   "source": [
    "### 总结\n",
    "今天这节课，我们一起学习了条件与循环的基本概念、进阶用法以及相应的应用。这里，我重点强调几个易错的地方。\n",
    "\n",
    "* 在条件语句中，if 可以单独使用，但是 elif 和 else 必须和 if 同时搭配使用；而 If 条件语句的判断，除了 boolean 类型外，其他的最好显示出来。\n",
    "\n",
    "* 在 for 循环中，如果需要同时访问索引和元素，你可以使用 enumerate() 函数来简化代码。\n",
    "\n",
    "* 写条件与循环时，合理利用 continue 或者 break 来避免复杂的嵌套，是十分重要的。\n",
    "\n",
    "* 要注意条件与循环的复用，简单功能往往可以用一行直接完成，极大地提高代码质量与效率。"
   ]
  },
  {
   "cell_type": "markdown",
   "metadata": {},
   "source": [
    "### 思考题\n",
    "最后给你留一个思考题。给定下面两个列表 attributes 和 values，要求针对 values 中每一组子列表 value，输出其和 attributes 中的键对应后的字典，最后返回字典组成的列表。"
   ]
  },
  {
   "cell_type": "code",
   "execution_count": 24,
   "metadata": {},
   "outputs": [
    {
     "data": {
      "text/plain": [
       "[{'name': 'jason', 'dob': '2000-01-01', 'gender': 'male'},\n",
       " {'name': 'mike', 'dob': '1999-01-01', 'gender': 'male'},\n",
       " {'name': 'nancy', 'dob': '2001-02-01', 'gender': 'female'}]"
      ]
     },
     "execution_count": 24,
     "metadata": {},
     "output_type": "execute_result"
    }
   ],
   "source": [
    "attributes = ['name', 'dob', 'gender']\n",
    "values = [['jason', '2000-01-01', 'male'], \n",
    "['mike', '1999-01-01', 'male'],\n",
    "['nancy', '2001-02-01', 'female']\n",
    "]\n",
    " \n",
    "# expected outout:\n",
    "[{'name': 'jason', 'dob': '2000-01-01', 'gender': 'male'}, \n",
    "{'name': 'mike', 'dob': '1999-01-01', 'gender': 'male'}, \n",
    "{'name': 'nancy', 'dob': '2001-02-01', 'gender': 'female'}]\n"
   ]
  },
  {
   "cell_type": "code",
   "execution_count": 20,
   "metadata": {},
   "outputs": [
    {
     "name": "stdout",
     "output_type": "stream",
     "text": [
      "[{'name': 'jason', 'dob': '2000-01-01', 'gender': 'male'}, {'name': 'mike', 'dob': '1999-01-01', 'gender': 'male'}, {'name': 'nancy', 'dob': '2001-02-01', 'gender': 'female'}]\n",
      "[{'name': 'jason', 'dob': '2000-01-01', 'gender': 'male'}, {'name': 'mike', 'dob': '1999-01-01', 'gender': 'male'}, {'name': 'nancy', 'dob': '2001-02-01', 'gender': 'female'}]\n"
     ]
    }
   ],
   "source": [
    "attributes = ['name', 'dob', 'gender']\n",
    "values = [['jason', '2000-01-01', 'male'], \n",
    "['mike', '1999-01-01', 'male'],\n",
    "['nancy', '2001-02-01', 'female']\n",
    "]\n",
    "result = [{attributes[index]:value[index] for index in range(len(attributes))} for value in values]\n",
    "print(result)\n",
    "\n",
    "result2 = [dict(zip(attributes,value)) for value in values]\n",
    "print(result2)"
   ]
  },
  {
   "cell_type": "code",
   "execution_count": 31,
   "metadata": {},
   "outputs": [
    {
     "ename": "SyntaxError",
     "evalue": "keyword can't be an expression (<ipython-input-31-88ea8d10853c>, line 4)",
     "output_type": "error",
     "traceback": [
      "\u001b[0;36m  File \u001b[0;32m\"<ipython-input-31-88ea8d10853c>\"\u001b[0;36m, line \u001b[0;32m4\u001b[0m\n\u001b[0;31m    b = dict('one'= 1)\u001b[0m\n\u001b[0m            ^\u001b[0m\n\u001b[0;31mSyntaxError\u001b[0m\u001b[0;31m:\u001b[0m keyword can't be an expression\n"
     ]
    }
   ],
   "source": [
    ">>>dict()                        # 创建空字典\n",
    "{}\n",
    ">>> dict(a='a', b='b', t='t')     # 传入关键字\n",
    "{'a': 'a', 'b': 'b', 't': 't'}\n",
    ">>> dict(zip(['one', 'two', 'three'], [1, 2, 3]))   # 映射函数方式来构造字典\n",
    "{'three': 3, 'two': 2, 'one': 1} \n",
    ">>> dict([('one', 1), ('two', 2), ('three', 3)])    # 可迭代对象方式来构造字典\n",
    "{'three': 3, 'two': 2, 'one': 1}"
   ]
  }
 ],
 "metadata": {
  "kernelspec": {
   "display_name": "Python 3",
   "language": "python",
   "name": "python3"
  },
  "language_info": {
   "codemirror_mode": {
    "name": "ipython",
    "version": 3
   },
   "file_extension": ".py",
   "mimetype": "text/x-python",
   "name": "python",
   "nbconvert_exporter": "python",
   "pygments_lexer": "ipython3",
   "version": "3.7.1"
  }
 },
 "nbformat": 4,
 "nbformat_minor": 2
}
