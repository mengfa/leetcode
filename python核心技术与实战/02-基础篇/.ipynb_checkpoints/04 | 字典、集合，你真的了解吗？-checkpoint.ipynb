{
 "cells": [
  {
   "cell_type": "markdown",
   "metadata": {},
   "source": [
    "## 字典（dict）和集合（set）"
   ]
  },
  {
   "cell_type": "markdown",
   "metadata": {},
   "source": [
    "### 字典和集合基础\n",
    "\n",
    "那究竟什么是字典，什么是集合呢？字典是一系列由键（key）和值（value）配对组成的元素的集合，在 Python3.7+，字典被确定为有序（注意：在 3.6 中，字典有序是一个 implementation detail，在 3.7 才正式成为语言特性，因此 3.6 中无法 100% 确保其有序性），而 3.6 之前是无序的，其长度大小可变，元素可以任意地删减和改变。\n",
    "\n",
    "相比于列表和元组，字典的性能更优，特别是对于查找、添加和删除操作，字典都能在常数时间复杂度内完成。\n",
    "\n",
    "而集合和字典基本相同，唯一的区别，就是集合没有键和值的配对，是一系列无序的、唯一的元素组合。"
   ]
  },
  {
   "cell_type": "code",
   "execution_count": 2,
   "metadata": {},
   "outputs": [
    {
     "data": {
      "text/plain": [
       "True"
      ]
     },
     "execution_count": 2,
     "metadata": {},
     "output_type": "execute_result"
    }
   ],
   "source": [
    "#首先我们来看字典和集合的创建，通常有下面这几种方式：\n",
    "d1 = {'name': 'jason', 'age': 20, 'gender': 'male'}\n",
    "d2 = dict({'name': 'jason', 'age': 20, 'gender': 'male'})\n",
    "d3 = dict([('name', 'jason'), ('age', 20), ('gender', 'male')])\n",
    "d4 = dict(name='jason', age=20, gender='male') \n",
    "d1 == d2 == d3 ==d4\n",
    "\n",
    "s1 = {1, 2, 3}\n",
    "s2 = set([1, 2, 3])\n",
    "s1 == s2"
   ]
  },
  {
   "cell_type": "code",
   "execution_count": null,
   "metadata": {},
   "outputs": [],
   "source": [
    "#这里注意，Python 中字典和集合，无论是键还是值，都可以是混合类型。比如下面这个例子，我创建了一个元素为1，'hello'，5.0的集合：\n",
    "s = {1, 'hello', 5.0}"
   ]
  },
  {
   "cell_type": "code",
   "execution_count": 5,
   "metadata": {},
   "outputs": [
    {
     "data": {
      "text/plain": [
       "'jason'"
      ]
     },
     "execution_count": 5,
     "metadata": {},
     "output_type": "execute_result"
    }
   ],
   "source": [
    "# 再来看元素访问的问题。字典访问可以直接索引键，如果不存在，就会抛出异常：\n",
    "d = {'name': 'jason', 'age': 20}\n",
    "d['name']\n",
    "d['location']\n",
    "#Traceback (most recent call last):\n",
    "#  File \"<stdin>\", line 1, in <module>\n",
    "#KeyError: 'location'"
   ]
  },
  {
   "cell_type": "code",
   "execution_count": 9,
   "metadata": {},
   "outputs": [
    {
     "data": {
      "text/plain": [
       "'null'"
      ]
     },
     "execution_count": 9,
     "metadata": {},
     "output_type": "execute_result"
    }
   ],
   "source": [
    "#也可以使用 get(key, default) 函数来进行索引。如果键不存在，调用 get() 函数可以返回一个默认值。比如下面这个示例，返回了'null'。\n",
    "d = {'name': 'jason', 'age': 20}\n",
    "d.get('name')\n",
    "d.get('location', 'null')\n",
    "\n"
   ]
  },
  {
   "cell_type": "markdown",
   "metadata": {},
   "source": [
    "首先我要强调的是，集合并不支持索引操作，因为集合本质上是一个哈希表，和列表不一样。所以，下面这样的操作是错误的，Python 会抛出异常："
   ]
  },
  {
   "cell_type": "code",
   "execution_count": 10,
   "metadata": {},
   "outputs": [
    {
     "ename": "TypeError",
     "evalue": "'set' object does not support indexing",
     "output_type": "error",
     "traceback": [
      "\u001b[0;31m---------------------------------------------------------------------------\u001b[0m",
      "\u001b[0;31mTypeError\u001b[0m                                 Traceback (most recent call last)",
      "\u001b[0;32m<ipython-input-10-78ad603678a3>\u001b[0m in \u001b[0;36m<module>\u001b[0;34m\u001b[0m\n\u001b[1;32m      1\u001b[0m \u001b[0ms\u001b[0m \u001b[0;34m=\u001b[0m \u001b[0;34m{\u001b[0m\u001b[0;36m1\u001b[0m\u001b[0;34m,\u001b[0m \u001b[0;36m2\u001b[0m\u001b[0;34m,\u001b[0m \u001b[0;36m3\u001b[0m\u001b[0;34m}\u001b[0m\u001b[0;34m\u001b[0m\u001b[0;34m\u001b[0m\u001b[0m\n\u001b[0;32m----> 2\u001b[0;31m \u001b[0ms\u001b[0m\u001b[0;34m[\u001b[0m\u001b[0;36m0\u001b[0m\u001b[0;34m]\u001b[0m\u001b[0;34m\u001b[0m\u001b[0;34m\u001b[0m\u001b[0m\n\u001b[0m\u001b[1;32m      3\u001b[0m \u001b[0;31m#Traceback (most recent call last):\u001b[0m\u001b[0;34m\u001b[0m\u001b[0;34m\u001b[0m\u001b[0;34m\u001b[0m\u001b[0m\n\u001b[1;32m      4\u001b[0m \u001b[0;31m#  File \"<stdin>\", line 1, in <module>\u001b[0m\u001b[0;34m\u001b[0m\u001b[0;34m\u001b[0m\u001b[0;34m\u001b[0m\u001b[0m\n\u001b[1;32m      5\u001b[0m \u001b[0;31m#TypeError: 'set' object does not support indexing\u001b[0m\u001b[0;34m\u001b[0m\u001b[0;34m\u001b[0m\u001b[0;34m\u001b[0m\u001b[0m\n",
      "\u001b[0;31mTypeError\u001b[0m: 'set' object does not support indexing"
     ]
    }
   ],
   "source": [
    "s = {1, 2, 3}\n",
    "s[0]\n",
    "#Traceback (most recent call last):\n",
    "#  File \"<stdin>\", line 1, in <module>\n",
    "#TypeError: 'set' object does not support indexing\n"
   ]
  },
  {
   "cell_type": "markdown",
   "metadata": {},
   "source": [
    "想要判断一个元素在不在字典或集合内，我们可以用 value in dict/set 来判断。\n",
    "* dict in 判断是key是否.value判断不了.\n"
   ]
  },
  {
   "cell_type": "code",
   "execution_count": 18,
   "metadata": {},
   "outputs": [
    {
     "name": "stdout",
     "output_type": "stream",
     "text": [
      "True\n",
      "False\n",
      "True\n",
      "False\n"
     ]
    },
    {
     "data": {
      "text/plain": [
       "False"
      ]
     },
     "execution_count": 18,
     "metadata": {},
     "output_type": "execute_result"
    }
   ],
   "source": [
    "s = {1, 2, 3}\n",
    "print(1 in s)\n",
    "print(10 in s)\n",
    "d = {'name': 'jason', 'age': 20}\n",
    "print('name' in d)\n",
    "print('location' in d)"
   ]
  },
  {
   "cell_type": "markdown",
   "metadata": {},
   "source": [
    "当然，除了创建和访问，字典和集合也同样支持增加、删除、更新等操作。"
   ]
  },
  {
   "cell_type": "code",
   "execution_count": 28,
   "metadata": {},
   "outputs": [
    {
     "data": {
      "text/plain": [
       "{2, 3}"
      ]
     },
     "execution_count": 28,
     "metadata": {},
     "output_type": "execute_result"
    }
   ],
   "source": [
    "d = {'name': 'jason', 'age': 20}\n",
    "d['gender'] = 'male' # 增加元素对'gender': 'male'\n",
    "d['dob'] = '1999-02-01' # 增加元素对'dob': '1999-02-01'\n",
    "d['dob'] = '1998-01-01' # 更新键'dob'对应的值 \n",
    "d.pop('dob') # 删除键为'dob'的元素对\n",
    "{'name': 'jason', 'age': 20, 'gender': 'male'}\n",
    " \n",
    "s = {1, 2, 3}\n",
    "s.add(4) # 增加元素 4 到集合\n",
    "s.remove(4) # 从集合中删除元素 4\n",
    "s.pop()\n",
    "s"
   ]
  },
  {
   "cell_type": "markdown",
   "metadata": {},
   "source": [
    "不过要注意，集合的 pop() 操作是删除集合中最后一个元素，可是集合本身是无序的，你无法知道会删除哪个元素，因此这个操作得谨慎使用。\n",
    "\n",
    "实际应用中，很多情况下，我们需要对字典或集合进行排序，比如，取出值最大的 50 对。\n",
    "\n",
    "对于字典，我们通常会根据键或值，进行升序或降序排序："
   ]
  },
  {
   "cell_type": "code",
   "execution_count": 29,
   "metadata": {},
   "outputs": [
    {
     "data": {
      "text/plain": [
       "[('b', 1), ('a', 2), ('c', 10)]"
      ]
     },
     "execution_count": 29,
     "metadata": {},
     "output_type": "execute_result"
    }
   ],
   "source": [
    "d = {'b': 1, 'a': 2, 'c': 10}\n",
    "d_sorted_by_key = sorted(d.items(), key=lambda x: x[0]) # 根据字典键的升序排序\n",
    "d_sorted_by_value = sorted(d.items(), key=lambda x: x[1]) # 根据字典值的升序排序\n",
    "[('a', 2), ('b', 1), ('c', 10)]\n",
    "[('b', 1), ('a', 2), ('c', 10)]"
   ]
  },
  {
   "cell_type": "markdown",
   "metadata": {},
   "source": [
    "这里返回了一个列表。列表中的每个元素，是由原字典的键和值组成的元组。\n",
    "\n",
    "而对于集合，其排序和前面讲过的列表、元组很类似，直接调用 sorted(set) 即可，结果会返回一个排好序的列表。"
   ]
  },
  {
   "cell_type": "code",
   "execution_count": 30,
   "metadata": {},
   "outputs": [
    {
     "data": {
      "text/plain": [
       "[1, 2, 3, 4]"
      ]
     },
     "execution_count": 30,
     "metadata": {},
     "output_type": "execute_result"
    }
   ],
   "source": [
    "s = {3, 4, 2, 1}\n",
    "sorted(s) # 对集合的元素进行升序排序"
   ]
  },
  {
   "cell_type": "markdown",
   "metadata": {},
   "source": [
    "### 字典和集合性能\n",
    "文章开头我就说到了，字典和集合是进行过性能高度优化的数据结构，特别是对于查找、添加和删除操作。那接下来，我们就来看看，它们在具体场景下的性能表现，以及与列表等其他数据结构的对比。\n",
    "\n",
    "比如电商企业的后台，存储了每件产品的 ID、名称和价格。现在的需求是，给定某件商品的 ID，我们要找出其价格。\n",
    "\n",
    "如果我们用列表来存储这些数据结构，并进行查找，相应的代码如下："
   ]
  },
  {
   "cell_type": "code",
   "execution_count": 31,
   "metadata": {},
   "outputs": [
    {
     "name": "stdout",
     "output_type": "stream",
     "text": [
      "The price of product 432314553 is 30\n"
     ]
    }
   ],
   "source": [
    "def find_product_price(products, product_id):\n",
    "    for id, price in products:\n",
    "        if id == product_id:\n",
    "            return price\n",
    "    return None \n",
    "     \n",
    "products = [\n",
    "    (143121312, 100), \n",
    "    (432314553, 30),\n",
    "    (32421912367, 150) \n",
    "]\n",
    " \n",
    "print('The price of product 432314553 is {}'.format(find_product_price(products, 432314553)))\n",
    " \n",
    "# 输出\n",
    "#The price of product 432314553 is 30"
   ]
  },
  {
   "cell_type": "markdown",
   "metadata": {},
   "source": [
    "假设列表有 n 个元素，而查找的过程要遍历列表，那么时间复杂度就为 O(n)。即使我们先对列表进行排序，然后使用二分查找，也会需要 O(logn) 的时间复杂度，更何况，列表的排序还需要 O(nlogn) 的时间。\n",
    "\n",
    "但如果我们用字典来存储这些数据，那么查找就会非常便捷高效，只需 O(1) 的时间复杂度就可以完成。原因也很简单，刚刚提到过的，字典的内部组成是一张哈希表，你可以直接通过键的哈希值，找到其对应的值。"
   ]
  },
  {
   "cell_type": "code",
   "execution_count": null,
   "metadata": {},
   "outputs": [],
   "source": [
    "products = {\n",
    "  143121312: 100,\n",
    "  432314553: 30,\n",
    "  32421912367: 150\n",
    "}\n",
    "print('The price of product 432314553 is {}'.format(products[432314553])) \n",
    " \n",
    "# 输出\n",
    "#The price of product 432314553 is 30"
   ]
  },
  {
   "cell_type": "markdown",
   "metadata": {},
   "source": [
    "类似的，现在需求变成，要找出这些商品有多少种不同的价格。我们还用同样的方法来比较一下。\n",
    "\n",
    "如果还是选择使用列表，对应的代码如下，其中，A 和 B 是两层循环。同样假设原始列表有 n 个元素，那么，在最差情况下，需要 O(n^2) 的时间复杂度。"
   ]
  },
  {
   "cell_type": "code",
   "execution_count": 32,
   "metadata": {},
   "outputs": [
    {
     "name": "stdout",
     "output_type": "stream",
     "text": [
      "number of unique price is: 3\n"
     ]
    }
   ],
   "source": [
    "# list version\n",
    "def find_unique_price_using_list(products):\n",
    "    unique_price_list = []\n",
    "    for _, price in products: # A\n",
    "        if price not in unique_price_list: #B\n",
    "            unique_price_list.append(price)\n",
    "    return len(unique_price_list)\n",
    " \n",
    "products = [\n",
    "    (143121312, 100), \n",
    "    (432314553, 30),\n",
    "    (32421912367, 150),\n",
    "    (937153201, 30)\n",
    "]\n",
    "print('number of unique price is: {}'.format(find_unique_price_using_list(products)))\n",
    " \n",
    "# 输出\n",
    "#number of unique price is: 3"
   ]
  },
  {
   "cell_type": "markdown",
   "metadata": {},
   "source": [
    "但如果我们选择使用集合这个数据结构，由于集合是高度优化的哈希表，里面元素不能重复，并且其添加和查找操作只需 O(1) 的复杂度，那么，总的时间复杂度就只有 O(n)。"
   ]
  },
  {
   "cell_type": "code",
   "execution_count": 33,
   "metadata": {},
   "outputs": [
    {
     "name": "stdout",
     "output_type": "stream",
     "text": [
      "number of unique price is: 3\n"
     ]
    }
   ],
   "source": [
    "# set version\n",
    "def find_unique_price_using_set(products):\n",
    "    unique_price_set = set()\n",
    "    for _, price in products:\n",
    "        unique_price_set.add(price)\n",
    "    return len(unique_price_set)        \n",
    " \n",
    "products = [\n",
    "    (143121312, 100), \n",
    "    (432314553, 30),\n",
    "    (32421912367, 150),\n",
    "    (937153201, 30)\n",
    "]\n",
    "print('number of unique price is: {}'.format(find_unique_price_using_set(products)))\n",
    " \n",
    "# 输出\n",
    "#number of unique price is: 3"
   ]
  },
  {
   "cell_type": "markdown",
   "metadata": {},
   "source": [
    "可能你对这些时间复杂度没有直观的认识，我可以举一个实际工作场景中的例子，让你来感受一下。\n",
    "\n",
    "下面的代码，初始化了含有 100,000 个元素的产品，并分别计算了使用列表和集合来统计产品价格数量的运行时间："
   ]
  },
  {
   "cell_type": "code",
   "execution_count": 48,
   "metadata": {},
   "outputs": [
    {
     "name": "stdout",
     "output_type": "stream",
     "text": [
      "time elapse using list: 63.849736968993966\n",
      "time elapse using set: 0.015473385996301658\n"
     ]
    }
   ],
   "source": [
    "import time\n",
    "\n",
    "def find_unique_price_using_set(products):\n",
    "    unique_price_set = set()\n",
    "    for _, price in products:\n",
    "        unique_price_set.add(price)\n",
    "    return len(unique_price_set)\n",
    "\n",
    "def find_unique_price_using_list(products):\n",
    "    unique_price_list = []\n",
    "    for _, price in products: # A\n",
    "        if price not in unique_price_list: #B\n",
    "            unique_price_list.append(price)\n",
    "    return len(unique_price_list)\n",
    "\n",
    "id = [x for x in range(0, 100000)]\n",
    "price = [x for x in range(200000, 300000)]\n",
    "products = list(zip(id, price))\n",
    " \n",
    "# 计算列表版本的时间\n",
    "start_using_list = time.perf_counter()\n",
    "find_unique_price_using_list(products)\n",
    "end_using_list = time.perf_counter()\n",
    "print(\"time elapse using list: {}\".format(end_using_list - start_using_list))\n",
    "## 输出\n",
    "#time elapse using list: 41.61519479751587\n",
    " \n",
    "# 计算集合版本的时间\n",
    "start_using_set = time.perf_counter()\n",
    "find_unique_price_using_set(products)\n",
    "end_using_set = time.perf_counter()\n",
    "print(\"time elapse using set: {}\".format(end_using_set - start_using_set))\n",
    "# 输出\n",
    "#time elapse using set: 0.008238077163696289"
   ]
  },
  {
   "cell_type": "markdown",
   "metadata": {},
   "source": [
    "### 字典和集合的工作原理\n",
    "我们通过举例以及与列表的对比，看到了字典和集合操作的高效性。不过，字典和集合为什么能够如此高效，特别是查找、插入和删除操作？\n",
    "\n",
    "这当然和字典、集合内部的数据结构密不可分。不同于其他数据结构，字典和集合的内部结构都是一张哈希表。\n",
    "\n",
    "* 对于字典而言，这张表存储了哈希值（hash）、键和值这 3 个元素。\n",
    "\n",
    "* 而对集合来说，区别就是哈希表内没有键和值的配对，只有单一的元素了。\n",
    "\n",
    "我们来看，老版本 Python 的哈希表结构如下所示："
   ]
  },
  {
   "cell_type": "code",
   "execution_count": 49,
   "metadata": {},
   "outputs": [
    {
     "ename": "SyntaxError",
     "evalue": "invalid syntax (<ipython-input-49-5b39457a5c8c>, line 1)",
     "output_type": "error",
     "traceback": [
      "\u001b[0;36m  File \u001b[0;32m\"<ipython-input-49-5b39457a5c8c>\"\u001b[0;36m, line \u001b[0;32m1\u001b[0m\n\u001b[0;31m    --+-------------------------------+\u001b[0m\n\u001b[0m                                       ^\u001b[0m\n\u001b[0;31mSyntaxError\u001b[0m\u001b[0;31m:\u001b[0m invalid syntax\n"
     ]
    }
   ],
   "source": [
    "--+-------------------------------+\n",
    "  | 哈希值 (hash)  键 (key)  值 (value)\n",
    "--+-------------------------------+\n",
    "0 |    hash0      key0    value0\n",
    "--+-------------------------------+\n",
    "1 |    hash1      key1    value1\n",
    "--+-------------------------------+\n",
    "2 |    hash2      key2    value2\n",
    "--+-------------------------------+\n",
    ". |           ...\n",
    "__+_______________________________+\n"
   ]
  },
  {
   "cell_type": "markdown",
   "metadata": {},
   "source": [
    "不难想象，随着哈希表的扩张，它会变得越来越稀疏。举个例子，比如我有这样一个字典："
   ]
  },
  {
   "cell_type": "code",
   "execution_count": null,
   "metadata": {},
   "outputs": [],
   "source": [
    "{'name': 'mike', 'dob': '1999-01-01', 'gender': 'male'}\n"
   ]
  },
  {
   "cell_type": "markdown",
   "metadata": {},
   "source": [
    "那么它会存储为类似下面的形式："
   ]
  },
  {
   "cell_type": "code",
   "execution_count": null,
   "metadata": {},
   "outputs": [],
   "source": [
    "entries = [\n",
    "['--', '--', '--']\n",
    "[-230273521, 'dob', '1999-01-01'],\n",
    "['--', '--', '--'],\n",
    "['--', '--', '--'],\n",
    "[1231236123, 'name', 'mike'],\n",
    "['--', '--', '--'],\n",
    "[9371539127, 'gender', 'male']\n",
    "]"
   ]
  },
  {
   "cell_type": "markdown",
   "metadata": {},
   "source": [
    "这样的设计结构显然非常浪费存储空间。为了提高存储空间的利用率，现在的哈希表除了字典本身的结构，会把索引和哈希值、键、值单独分开，也就是下面这样新的结构："
   ]
  },
  {
   "cell_type": "code",
   "execution_count": null,
   "metadata": {},
   "outputs": [],
   "source": [
    "Indices\n",
    "----------------------------------------------------\n",
    "None | index | None | None | index | None | index ...\n",
    "----------------------------------------------------\n",
    " \n",
    "Entries\n",
    "--------------------\n",
    "hash0   key0  value0\n",
    "---------------------\n",
    "hash1   key1  value1\n",
    "---------------------\n",
    "hash2   key2  value2\n",
    "---------------------\n",
    "        ...\n",
    "---------------------"
   ]
  },
  {
   "cell_type": "markdown",
   "metadata": {},
   "source": [
    "那么，刚刚的这个例子，在新的哈希表结构下的存储形式，就会变成下面这样："
   ]
  },
  {
   "cell_type": "code",
   "execution_count": null,
   "metadata": {},
   "outputs": [],
   "source": [
    "indices = [None, 1, None, None, 0, None, 2]\n",
    "entries = [\n",
    "[1231236123, 'name', 'mike'],\n",
    "[-230273521, 'dob', '1999-01-01'],\n",
    "[9371539127, 'gender', 'male']\n",
    "]"
   ]
  },
  {
   "cell_type": "markdown",
   "metadata": {},
   "source": [
    "* 这段我开始看也很迷惑, 重点是如果知道哈希表,散列表是有大概三分之一是空的.所以后来的优化方式就是在空的地方只有index,不存空的实体了.很好理解."
   ]
  },
  {
   "cell_type": "markdown",
   "metadata": {},
   "source": [
    "### 插入操作\n",
    "每次向字典或集合插入一个元素时，Python 会首先计算键的哈希值（hash(key)），再和 mask = PyDicMinSize - 1 做与操作，计算这个元素应该插入哈希表的位置 index = hash(key) & mask。如果哈希表中此位置是空的，那么这个元素就会被插入其中。\n",
    "\n",
    "* 这个插入的计算方式,我真的好迷惑.\n",
    "\n",
    "\n",
    "而如果此位置已被占用，Python 便会比较两个元素的哈希值和键是否相等。\n",
    "\n",
    "* 若两者都相等，则表明这个元素已经存在，如果值不同，则更新值。\n",
    "\n",
    "* 若两者中有一个不相等，这种情况我们通常称为哈希冲突（hash collision），意思是两个元素的键不相等，但是哈希值相等。这种情况下，Python 便会继续寻找表中空余的位置，直到找到位置为止。\n",
    "\n",
    "值得一提的是，通常来说，遇到这种情况，最简单的方式是线性寻找，即从这个位置开始，挨个往后寻找空位。当然，Python 内部对此进行了优化（这一点无需深入了解，你有兴趣可以查看源码，我就不再赘述），让这个步骤更加高效。\n",
    "\n",
    "### 查找操作\n",
    "和前面的插入操作类似，Python 会根据哈希值，找到其应该处于的位置；然后，比较哈希表这个位置中元素的哈希值和键，与需要查找的元素是否相等。如果相等，则直接返回；如果不等，则继续查找，直到找到空位或者抛出异常为止。\n",
    "### 删除操作\n",
    "对于删除操作，Python 会暂时对这个位置的元素，赋于一个特殊的值，等到重新调整哈希表的大小时，再将其删除。\n",
    "\n",
    "不难理解，哈希冲突的发生，往往会降低字典和集合操作的速度。因此，为了保证其高效性，字典和集合内的哈希表，通常会保证其至少留有 1/3 的剩余空间。随着元素的不停插入，当剩余空间小于 1/3 时，Python 会重新获取更大的内存空间，扩充哈希表。不过，这种情况下，表内所有的元素位置都会被重新排放。\n",
    "\n",
    "虽然哈希冲突和哈希表大小的调整，都会导致速度减缓，但是这种情况发生的次数极少。所以，平均情况下，这仍能保证插入、查找和删除的时间复杂度为 O(1)。\n",
    "### 总结\n",
    "这节课，我们一起学习了字典和集合的基本操作，并对它们的高性能和内部存储结构进行了讲解。\n",
    "\n",
    "字典在 Python3.7+ 是有序的数据结构，而集合是无序的，其内部的哈希表存储结构，保证了其查找、插入、删除操作的高效性。所以，字典和集合通常运用在对元素的高效查找、去重等场景。"
   ]
  },
  {
   "cell_type": "markdown",
   "metadata": {},
   "source": [
    "## 思考题"
   ]
  },
  {
   "cell_type": "code",
   "execution_count": null,
   "metadata": {},
   "outputs": [],
   "source": [
    "# Option A\n",
    "d = {'name': 'jason', 'age': 20, 'gender': 'male'}\n",
    " \n",
    "# Option B\n",
    "d = dict({'name': 'jason', 'age': 20, 'gender': 'male'})\n"
   ]
  },
  {
   "cell_type": "markdown",
   "metadata": {},
   "source": [
    "2. 字典的键可以是一个列表吗？下面这段代码中，字典的初始化是否正确呢？如果不正确，可以说出你的原因吗？"
   ]
  },
  {
   "cell_type": "code",
   "execution_count": null,
   "metadata": {},
   "outputs": [],
   "source": [
    "d = {'name': 'jason', ['education']: ['Tsinghua University', 'Stanford University']}\n"
   ]
  },
  {
   "cell_type": "markdown",
   "metadata": {},
   "source": []
  }
 ],
 "metadata": {
  "kernelspec": {
   "display_name": "Python 3",
   "language": "python",
   "name": "python3"
  },
  "language_info": {
   "codemirror_mode": {
    "name": "ipython",
    "version": 3
   },
   "file_extension": ".py",
   "mimetype": "text/x-python",
   "name": "python",
   "nbconvert_exporter": "python",
   "pygments_lexer": "ipython3",
   "version": "3.7.1"
  }
 },
 "nbformat": 4,
 "nbformat_minor": 2
}
