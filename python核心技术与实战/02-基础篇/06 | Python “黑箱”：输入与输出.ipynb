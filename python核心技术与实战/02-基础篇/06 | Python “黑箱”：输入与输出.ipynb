{
 "cells": [
  {
   "cell_type": "markdown",
   "metadata": {},
   "source": [
    "Python 程序也是一个黑箱：通过输入流将数据送达，通过输出流将处理后的数据送出，可能 Python 解释器后面藏了一个人，还是一个史莱哲林？No one cares。"
   ]
  },
  {
   "cell_type": "markdown",
   "metadata": {},
   "source": [
    "### 输入输出基础\n",
    "最简单直接的输入来自键盘操作，比如下面这个例子。"
   ]
  },
  {
   "cell_type": "code",
   "execution_count": 2,
   "metadata": {},
   "outputs": [
    {
     "name": "stdout",
     "output_type": "stream",
     "text": [
      "your name:lv\n",
      "you are a boy?(y/n)y\n",
      "authorizing...\n",
      "Welcome to the matrix Mr. lv.\n"
     ]
    }
   ],
   "source": [
    "name = input('your name:')\n",
    "gender = input('you are a boy?(y/n)')\n",
    "welcome_str = 'Welcome to the matrix {prefix} {name}.'\n",
    "welcome_dic = {\n",
    "    'prefix': 'Mr.' if gender == 'y' else 'Mrs',\n",
    "    'name': name\n",
    "}\n",
    "print('authorizing...')\n",
    "print(welcome_str.format(**welcome_dic))"
   ]
  },
  {
   "cell_type": "markdown",
   "metadata": {},
   "source": [
    "input() 函数暂停程序运行，同时等待键盘输入；直到回车被按下，函数的参数即为提示语，输入的类型永远是字符串型（str）。注意，初学者在这里很容易犯错，下面的例子我会讲到。print() 函数则接受字符串、数字、字典、列表甚至一些自定义类的输出。\n",
    "\n",
    "我们再来看下面这个例子。\n",
    "\n"
   ]
  },
  {
   "cell_type": "code",
   "execution_count": 5,
   "metadata": {},
   "outputs": [
    {
     "name": "stdout",
     "output_type": "stream",
     "text": [
      "1\n",
      "1\n",
      "a + b = 11\n",
      "type of a is <class 'str'>, type of b is <class 'str'>\n",
      "a + b = 2\n"
     ]
    }
   ],
   "source": [
    "a = input()\n",
    "b = input()\n",
    "print('a + b = {}'.format(a + b))\n",
    "print('type of a is {}, type of b is {}'.format(type(a), type(b)))\n",
    "print('a + b = {}'.format(int(a) + int(b)))\n",
    "\n",
    "#如果输入1和1\n",
    "#1\n",
    "#1\n",
    "#a + b = 11\n",
    "#type of a is <class 'str'>, type of b is <class 'str'>\n",
    "#a + b = 2"
   ]
  },
  {
   "cell_type": "markdown",
   "metadata": {},
   "source": [
    "这里注意，把 str 强制转换为 int 请用 int()，转为浮点数请用 float()。而在生产环境中使用强制转换时，请记得加上 try except（即错误和异常处理，专栏后面文章会讲到）。\n",
    "\n",
    "Python 对 `int 类型没有最大限制`（相比之下， C++ 的 int 最大为 2147483647，超过这个数字会产生溢出），但是对 float 类型依然有精度限制。这些特点，除了在一些算法竞赛中要注意，在生产环境中也要时刻提防，避免因为对边界条件判断不清而造成 bug 甚至 0day（危重安全漏洞）。\n",
    "\n",
    "我们回望一下币圈。2018 年 4 月 23 日中午 11 点 30 分左右，BEC 代币智能合约被黑客攻击。黑客利用数据溢出的漏洞，攻击与美图合作的公司美链 BEC 的智能合约，成功地向两个地址转出了天量级别的 BEC 代币，导致市场上的海量 BEC 被抛售，该数字货币的价值也几近归零，给 BEC 市场交易带来了毁灭性的打击。\n",
    "\n",
    "由此可见，虽然输入输出和类型处理事情简单，但我们一定要慎之又慎。毕竟相当比例的安全漏洞，都来自随意的 I/O 处理。"
   ]
  },
  {
   "cell_type": "markdown",
   "metadata": {},
   "source": [
    "### 文件输入输出\n",
    "命令行的输入输出，只是 Python 交互的最基本方式，适用一些简单小程序的交互。而生产级别的 Python 代码，大部分 I/O 则来自于文件、网络、其他进程的消息等等。\n",
    "\n",
    "接下来，我们来详细分析一个文本文件读写。假设我们有一个文本文件 in.txt，内容如下："
   ]
  },
  {
   "cell_type": "code",
   "execution_count": null,
   "metadata": {},
   "outputs": [],
   "source": [
    "I have a dream that my four little children will one day live in a nation where they will not be judged by the color of their skin but by the content of their character. I have a dream today.\n",
    " \n",
    "I have a dream that one day down in Alabama, with its vicious racists, . . . one day right there in Alabama little black boys and black girls will be able to join hands with little white boys and white girls as sisters and brothers. I have a dream today.\n",
    " \n",
    "I have a dream that one day every valley shall be exalted, every hill and mountain shall be made low, the rough places will be made plain, and the crooked places will be made straight, and the glory of the Lord shall be revealed, and all flesh shall see it together.\n",
    " \n",
    "This is our hope. . . With this faith we will be able to hew out of the mountain of despair a stone of hope. With this faith we will be able to transform the jangling discords of our nation into a beautiful symphony of brotherhood. With this faith we will be able to work together, to pray together, to struggle together, to go to jail together, to stand up for freedom together, knowing that we will be free one day. . . .\n",
    " \n",
    "And when this happens, and when we allow freedom ring, when we let it ring from every village and every hamlet, from every state and every city, we will be able to speed up that day when all of God's children, black men and white men, Jews and Gentiles, Protestants and Catholics, will be able to join hands and sing in the words of the old Negro spiritual: \"Free at last! Free at last! Thank God Almighty, we are free at last!\""
   ]
  },
  {
   "cell_type": "markdown",
   "metadata": {},
   "source": [
    "好，让我们来做一个简单的 NLP（自然语言处理）任务。如果你对此不太了解也没有影响，我会带你一步步完成这个任务。\n",
    "\n",
    "首先，我们要清楚 NLP 任务的基本步骤，也就是下面的四步：\n",
    "\n",
    "1. 读取文件；\n",
    "\n",
    "2. 去除所有标点符号和换行符，并把所有大写变成小写；\n",
    "\n",
    "3. 合并相同的词，统计每个词出现的频率，并按照词频从大到小排序；\n",
    "\n",
    "4. 将结果按行输出到文件 out.txt。\n",
    "\n",
    "你可以自己先思考一下，用 Python 如何解决这个问题。这里，我也给出了我的代码，并附有详细的注释。我们一起来看下这段代码。"
   ]
  },
  {
   "cell_type": "code",
   "execution_count": 7,
   "metadata": {},
   "outputs": [
    {
     "name": "stdout",
     "output_type": "stream",
     "text": [
      "and 15\n",
      "be 13\n",
      "will 11\n",
      "to 11\n",
      "the 10\n",
      "of 10\n",
      "a 8\n",
      "we 8\n",
      "day 6\n",
      "able 6\n",
      "every 6\n",
      "together 6\n",
      "i 5\n",
      "have 5\n",
      "dream 5\n",
      "that 5\n",
      "one 5\n",
      "with 5\n",
      "this 5\n",
      "in 4\n",
      "shall 4\n",
      "free 4\n",
      "when 4\n",
      "little 3\n",
      "black 3\n",
      "white 3\n",
      "made 3\n",
      "faith 3\n",
      "at 3\n",
      "last 3\n",
      "children 2\n",
      "nation 2\n",
      "by 2\n",
      "their 2\n",
      "today 2\n",
      "alabama 2\n",
      "boys 2\n",
      "girls 2\n",
      "join 2\n",
      "hands 2\n",
      "mountain 2\n",
      "places 2\n",
      "all 2\n",
      "it 2\n",
      "our 2\n",
      "hope 2\n",
      "up 2\n",
      "freedom 2\n",
      "ring 2\n",
      "from 2\n",
      "god 2\n",
      "men 2\n",
      "my 1\n",
      "four 1\n",
      "live 1\n",
      "where 1\n",
      "they 1\n",
      "not 1\n",
      "judged 1\n",
      "color 1\n",
      "skin 1\n",
      "but 1\n",
      "content 1\n",
      "character 1\n",
      "down 1\n",
      "its 1\n",
      "vicious 1\n",
      "racists 1\n",
      "right 1\n",
      "there 1\n",
      "as 1\n",
      "sisters 1\n",
      "brothers 1\n",
      "valley 1\n",
      "exalted 1\n",
      "hill 1\n",
      "low 1\n",
      "rough 1\n",
      "plain 1\n",
      "crooked 1\n",
      "straight 1\n",
      "glory 1\n",
      "lord 1\n",
      "revealed 1\n",
      "flesh 1\n",
      "see 1\n",
      "is 1\n",
      "hew 1\n",
      "out 1\n",
      "despair 1\n",
      "stone 1\n",
      "transform 1\n",
      "jangling 1\n",
      "discords 1\n",
      "into 1\n",
      "beautiful 1\n",
      "symphony 1\n",
      "brotherhood 1\n",
      "work 1\n",
      "pray 1\n",
      "struggle 1\n",
      "go 1\n",
      "jail 1\n",
      "stand 1\n",
      "for 1\n",
      "knowing 1\n",
      "happens 1\n",
      "allow 1\n",
      "let 1\n",
      "village 1\n",
      "hamlet 1\n",
      "state 1\n",
      "city 1\n",
      "speed 1\n",
      "s 1\n",
      "jews 1\n",
      "gentiles 1\n",
      "protestants 1\n",
      "catholics 1\n",
      "sing 1\n",
      "words 1\n",
      "old 1\n",
      "negro 1\n",
      "spiritual 1\n",
      "thank 1\n",
      "almighty 1\n",
      "are 1\n"
     ]
    }
   ],
   "source": [
    "text = \"\"\"\n",
    "I have a dream that my four little children will one day live in a nation where they will not be judged by the color of their skin but by the content of their character. I have a dream today.\n",
    " \n",
    "I have a dream that one day down in Alabama, with its vicious racists, . . . one day right there in Alabama little black boys and black girls will be able to join hands with little white boys and white girls as sisters and brothers. I have a dream today.\n",
    " \n",
    "I have a dream that one day every valley shall be exalted, every hill and mountain shall be made low, the rough places will be made plain, and the crooked places will be made straight, and the glory of the Lord shall be revealed, and all flesh shall see it together.\n",
    " \n",
    "This is our hope. . . With this faith we will be able to hew out of the mountain of despair a stone of hope. With this faith we will be able to transform the jangling discords of our nation into a beautiful symphony of brotherhood. With this faith we will be able to work together, to pray together, to struggle together, to go to jail together, to stand up for freedom together, knowing that we will be free one day. . . .\n",
    " \n",
    "And when this happens, and when we allow freedom ring, when we let it ring from every village and every hamlet, from every state and every city, we will be able to speed up that day when all of God's children, black men and white men, Jews and Gentiles, Protestants and Catholics, will be able to join hands and sing in the words of the old Negro spiritual: \"Free at last! Free at last! Thank God Almighty, we are free at last!\"\n",
    "\"\"\"\n",
    "\n",
    "import re\n",
    " \n",
    "# 你不用太关心这个函数\n",
    "def parse(text):\n",
    "    # 使用正则表达式去除标点符号和换行符\n",
    "    text = re.sub(r'[^\\w ]', ' ', text)\n",
    " \n",
    "    # 转为小写\n",
    "    text = text.lower()\n",
    "    \n",
    "    # 生成所有单词的列表\n",
    "    word_list = text.split(' ')\n",
    "    \n",
    "    # 去除空白单词\n",
    "    word_list = filter(None, word_list)\n",
    "    \n",
    "    # 生成单词和词频的字典\n",
    "    word_cnt = {}\n",
    "    for word in word_list:\n",
    "        if word not in word_cnt:\n",
    "            word_cnt[word] = 0\n",
    "        word_cnt[word] += 1\n",
    "    \n",
    "    # 按照词频排序\n",
    "    sorted_word_cnt = sorted(word_cnt.items(), key=lambda kv: kv[1], reverse=True)\n",
    "    \n",
    "    return sorted_word_cnt\n",
    " \n",
    "# with open('in.txt', 'r') as fin:\n",
    "#     text = fin.read()\n",
    " \n",
    "# word_and_freq = parse(text)\n",
    " \n",
    "# with open('out.txt', 'w') as fout:\n",
    "#     for word, freq in word_and_freq:\n",
    "#         fout.write('{} {}\\n'.format(word, freq))\n",
    "\n",
    "\n",
    "word_and_freq = parse(text)\n",
    "for word, freq in word_and_freq:\n",
    "    print(word, freq)\n"
   ]
  },
  {
   "cell_type": "markdown",
   "metadata": {},
   "source": [
    "你不用太关心 parse() 函数的具体实现，你只需要知道，它做的事情是把输入的 text 字符串，转化为我们需要的排序后的词频统计。而 sorted_word_cnt 则是一个二元组的列表（list of tuples）。\n",
    "\n",
    "首先我们需要先了解一下，计算机中文件访问的基础知识。事实上，计算机内核（kernel）对文件的处理相对比较复杂，涉及到内核模式、虚拟文件系统、锁和指针等一系列概念，这些内容我不会深入讲解，我只说一些基础但足够使用的知识。\n",
    "\n",
    "我们先要用 open() 函数拿到文件的指针。其中，第一个参数指定文件位置（相对位置或者绝对位置）；第二个参数，如果是 'r'表示读取，如果是'w' 则表示写入，当然也可以用 'rw' ，表示读写都要。a 则是一个不太常用（但也很有用）的参数，表示追加（append），这样打开的文件，如果需要写入，会从原始文件的最末尾开始写入。\n",
    "\n",
    "这里我插一句，在 Facebook 的工作中，代码权限管理非常重要。如果你只需要读取文件，就不要请求写入权限。这样在某种程度上可以降低 bug 对整个系统带来的风险。\n",
    "\n",
    "好，回到我们的话题。在拿到指针后，我们可以通过 read() 函数，来读取文件的全部内容。代码 text = fin.read() ，即表示把文件所有内容读取到内存中，并赋值给变量 text。这么做自然也是有利有弊：\n",
    "\n",
    "* 优点是方便，接下来我们可以很方便地调用 parse 函数进行分析；\n",
    "\n",
    "* 缺点是如果文件过大，一次性读取可能造成内存崩溃。\n",
    "\n",
    "这时，我们可以给 read 指定参数 size ，用来表示读取的最大长度。还可以通过 readline() 函数，每次读取一行，这种做法常用于数据挖掘（Data Mining）中的数据清洗，在写一些小的程序时非常轻便。如果每行之间没有关联，这种做法也可以降低内存的压力。而 write() 函数，可以把参数中的字符串输出到文件中，也很容易理解。\n",
    "\n",
    "这里我需要简单提一下 with 语句（后文会详细讲到）。open() 函数对应于 close() 函数，也就是说，如果你打开了文件，在完成读取任务后，就应该立刻关掉它。而如果你使用了 with 语句，就不需要显式调用 close()。在 with 的语境下任务执行完毕后，close() 函数会被自动调用，代码也简洁很多。\n",
    "\n",
    "最后需要注意的是，所有 I/O 都应该进行错误处理。因为 I/O 操作可能会有各种各样的情况出现，而一个健壮（robust）的程序，需要能应对各种情况的发生，而不应该崩溃（故意设计的情况除外）。"
   ]
  },
  {
   "cell_type": "markdown",
   "metadata": {},
   "source": [
    "### JSON 序列化与实战\n",
    "最后，我来讲一个和实际应用很贴近的知识点。\n",
    "\n",
    "JSON（JavaScript Object Notation）是一种轻量级的数据交换格式，它的设计意图是把所有事情都用设计的字符串来表示，这样既方便在互联网上传递信息，也方便人进行阅读（相比一些 binary 的协议）。JSON 在当今互联网中应用非常广泛，也是每一个用 Python 程序员应当熟练掌握的技能点。\n",
    "\n",
    "设想一个情景，你要向交易所购买一定数额的股票。那么，你需要提交股票代码、方向（买入 / 卖出）、订单类型（市价 / 限价）、价格（如果是限价单）、数量等一系列参数，而这些数据里，有字符串，有整数，有浮点数，甚至还有布尔型变量，全部混在一起并不方便交易所解包。\n",
    "\n",
    "那该怎么办呢？\n",
    "\n",
    "其实，我们要讲的 JSON ，正能解决这个场景。你可以把它简单地理解为两种黑箱：\n",
    "\n",
    "* 第一种，输入这些杂七杂八的信息，比如 Python 字典，输出一个字符串；\n",
    "\n",
    "* 第二种，输入这个字符串，可以输出包含原始信息的 Python 字典。\n",
    "\n",
    "具体代码如下："
   ]
  },
  {
   "cell_type": "code",
   "execution_count": 11,
   "metadata": {},
   "outputs": [
    {
     "name": "stdout",
     "output_type": "stream",
     "text": [
      "after json serialization\n",
      "type of params_str = <class 'str'>,type of params = <class 'dict'>, params_str = {'symbol': '123456', 'type': 'limit', 'price': 123.4, 'amount': 23}\n",
      "after json deserialization\n",
      "type of original_params = <class 'dict'>, original_params = {'symbol': '123456', 'type': 'limit', 'price': 123.4, 'amount': 23}\n"
     ]
    }
   ],
   "source": [
    "import json\n",
    " \n",
    "params = {\n",
    "    'symbol': '123456',\n",
    "    'type': 'limit',\n",
    "    'price': 123.4,\n",
    "    'amount': 23\n",
    "}\n",
    " \n",
    "params_str = json.dumps(params)\n",
    " \n",
    "print('after json serialization')\n",
    "print('type of params_str = {},type of params = {}, params_str = {}'.format(type(params_str),type(params), params))\n",
    " \n",
    "original_params = json.loads(params_str)\n",
    " \n",
    "print('after json deserialization')\n",
    "print('type of original_params = {}, original_params = {}'.format(type(original_params), original_params))"
   ]
  },
  {
   "cell_type": "markdown",
   "metadata": {},
   "source": [
    "其中，\n",
    "\n",
    "* json.dumps() 这个函数，接受 Python 的基本数据类型，然后将其序列化为 string；\n",
    "\n",
    "* 而 json.loads() 这个函数，接受一个合法字符串，然后将其反序列化为 Python 的基本数据类型。\n",
    "\n",
    "是不是很简单呢？\n",
    "\n",
    "不过还是那句话，请记得加上错误处理。不然，哪怕只是给 json.loads() 发送了一个非法字符串，而你没有 catch 到，程序就会崩溃了。\n",
    "\n",
    "到这一步，你可能会想，如果我要输出字符串到文件，或者从文件中读取 JSON 字符串，又该怎么办呢？\n",
    "\n",
    "是的，你仍然可以使用上面提到的 open() 和 read()/write() ，先将字符串读取 / 输出到内存，再进行 JSON 编码 / 解码，当然这有点麻烦。"
   ]
  },
  {
   "cell_type": "code",
   "execution_count": 12,
   "metadata": {},
   "outputs": [
    {
     "name": "stdout",
     "output_type": "stream",
     "text": [
      "after json deserialization\n",
      "type of original_params = <class 'dict'>, original_params = {'symbol': '123456', 'type': 'limit', 'price': 123.4, 'amount': 23}\n"
     ]
    }
   ],
   "source": [
    "import json\n",
    " \n",
    "params = {\n",
    "    'symbol': '123456',\n",
    "    'type': 'limit',\n",
    "    'price': 123.4,\n",
    "    'amount': 23\n",
    "}\n",
    " \n",
    "with open('params.json', 'w') as fout:\n",
    "    params_str = json.dump(params, fout)\n",
    " \n",
    "with open('params.json', 'r') as fin:\n",
    "    original_params = json.load(fin)\n",
    " \n",
    "print('after json deserialization')\n",
    "print('type of original_params = {}, original_params = {}'.format(type(original_params), original_params))"
   ]
  },
  {
   "cell_type": "markdown",
   "metadata": {},
   "source": [
    "这样，我们就简单清晰地实现了读写 JSON 字符串的过程。当开发一个第三方应用程序时，你可以通过 JSON 将用户的个人配置输出到文件，方便下次程序启动时自动读取。这也是现在普遍运用的成熟做法。\n",
    "\n",
    "那么 JSON 是唯一的选择吗？显然不是，它只是轻量级应用中最方便的选择之一。据我所知，在 Google，有类似的工具叫做 Protocol Buffer，当然，Google 已经完全开源了这个工具，你可以自己了解一下使用方法。\n",
    "\n",
    "相比于 JSON，它的优点是生成优化后的二进制文件，因此性能更好。但与此同时，生成的二进制序列，是不能直接阅读的。它在 TensorFlow 等很多对性能有要求的系统中都有广泛的应用。"
   ]
  },
  {
   "cell_type": "markdown",
   "metadata": {},
   "source": [
    "### 总结\n",
    "这节课，我们主要学习了 Python 的普通 I/O 和文件 I/O，同时了解了 JSON 序列化的基本知识，并通过具体的例子进一步掌握。再次强调一下需要注意的几点：\n",
    "\n",
    "* I/O 操作需谨慎，一定要进行充分的错误处理，并细心编码，防止出现编码漏洞；\n",
    "\n",
    "* 编码时，对内存占用和磁盘占用要有充分的估计，这样在出错时可以更容易找到原因；\n",
    "\n",
    "* JSON 序列化是很方便的工具，要结合实战多多练习；\n",
    "\n",
    "* 代码尽量简洁、清晰，哪怕是初学阶段，也要有一颗当元帅的心。"
   ]
  },
  {
   "cell_type": "markdown",
   "metadata": {},
   "source": [
    "### 思考题\n",
    "最后，我给你留了两道思考题。\n",
    "\n",
    "第一问：你能否把 NLP 例子中的 word count 实现一遍？不过这次，in.txt 可能非常非常大（意味着你不能一次读取到内存中），而 output.txt 不会很大（意味着重复的单词数量很多）。\n",
    "\n",
    "提示：你可能需要每次读取一定长度的字符串，进行处理，然后再读取下一次的。但是如果单纯按照长度划分，你可能会把一个单词隔断开，所以需要细心处理这种边界情况。\n",
    "\n",
    "第二问：你应该使用过类似百度网盘、Dropbox 等网盘，但是它们可能空间有限（比如 5GB）。如果有一天，你计划把家里的 100GB 数据传送到公司，可惜你没带 U 盘，于是你想了一个主意：\n",
    "\n",
    "每次从家里向 Dropbox 网盘写入不超过 5GB 的数据，而公司电脑一旦侦测到新数据，就立即拷贝到本地，然后删除网盘上的数据。等家里电脑侦测到本次数据全部传入公司电脑后，再进行下一次写入，直到所有数据都传输过去。\n",
    "\n",
    "根据这个想法，你计划在家写一个 server.py，在公司写一个 client.py 来实现这个需求。\n",
    "\n",
    "提示：我们假设每个文件都不超过 5GB。\n",
    "\n",
    "* 你可以通过写入一个控制文件（config.json）来同步状态。不过，要小心设计状态，这里有可能产生 race condition。\n",
    "\n",
    "* 你也可以通过直接侦测文件是否产生，或者是否被删除来同步状态，这是最简单的做法。\n",
    "\n",
    "不要担心难度问题，尽情写下你的思考，最终代码我也会为你准备好。"
   ]
  },
  {
   "cell_type": "code",
   "execution_count": null,
   "metadata": {},
   "outputs": [],
   "source": [
    "# 我们假设 server 电脑上的所有的文件都在 BASR_DIR 中，为了简化不考虑文件夹结构，网盘的路径在 NET_DIR\n",
    "import os\n",
    "from shutil import copyfile\n",
    "import time\n",
    "\n",
    "BASE_DIR = 'server/'\n",
    "NET_DIR = 'net/'\n",
    "\n",
    "def main():\n",
    "    filenames = os.listdir(BASE_DIR)\n",
    "    for i, filename in enumerate(filenames):\n",
    "        print('copying {} into net drive... {}/{}'.format(filename, i + 1, len(filenames)))\n",
    "        copyfile(BASE_DIR + filename, NET_DIR + filename)\n",
    "        print('copied {} into net drive, waiting client complete... {}/{}'.format(filename, i + 1, len(filenames)))\n",
    "        while os.path.exists(NET_DIR + filename):\n",
    "            time.sleep(3)\n",
    "    print('transferred {} into client. {}/{}'.format(filename, i + 1, len(filenames)))\n",
    "\n",
    "if __name__ == \"__main__\":\n",
    "    main()"
   ]
  },
  {
   "cell_type": "code",
   "execution_count": null,
   "metadata": {},
   "outputs": [],
   "source": [
    "# 我们假设 client 电脑上要输出的文件夹在 BASR_DIR ，网盘的路径在 NET_DIR\n",
    "import os\n",
    "from shutil import copyfile\n",
    "import time\n",
    "\n",
    "BASE_DIR = 'client/'\n",
    "NET_DIR = 'net/'\n",
    "\n",
    "def main():\n",
    "    while True:\n",
    "        filenames = os.listdir(NET_DIR)\n",
    "        for filename in filenames:\n",
    "            print('downloading {} into local disk...'.format(filename))\n",
    "            copyfile(NET_DIR + filename, BASE_DIR + filename)\n",
    "            os.remove(NET_DIR + filename) # 我们需要删除这个文件，网盘会提我们同步这个操作，从而 server 知晓已完成\n",
    "            print('downloaded {} into local disk.'.format(filename))\n",
    "        time.sleep(3)\n",
    "\n",
    "if __name__ == \"__main__\":\n",
    "    main()"
   ]
  },
  {
   "cell_type": "markdown",
   "metadata": {},
   "source": [
    "### 知识点"
   ]
  },
  {
   "cell_type": "markdown",
   "metadata": {},
   "source": [
    "json.dumps()--- json dict转字符串str\n",
    "json.loads()--- str 转dict"
   ]
  }
 ],
 "metadata": {
  "kernelspec": {
   "display_name": "Python 3",
   "language": "python",
   "name": "python3"
  },
  "language_info": {
   "codemirror_mode": {
    "name": "ipython",
    "version": 3
   },
   "file_extension": ".py",
   "mimetype": "text/x-python",
   "name": "python",
   "nbconvert_exporter": "python",
   "pygments_lexer": "ipython3",
   "version": "3.7.1"
  }
 },
 "nbformat": 4,
 "nbformat_minor": 2
}
