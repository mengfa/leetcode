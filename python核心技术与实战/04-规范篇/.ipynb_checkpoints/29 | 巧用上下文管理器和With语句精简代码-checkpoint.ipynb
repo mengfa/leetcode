{
 "cells": [
  {
   "cell_type": "markdown",
   "metadata": {},
   "source": [
    "---\n",
    "title: 29 | 巧用上下文管理器和With语句精简代码\n",
    "date: 2019-12-24 20:10:07\n",
    "tags:\n",
    "- python\n",
    "- 极客时间\n",
    "categories:\n",
    "- python核心技术与实战\n",
    "---"
   ]
  },
  {
   "cell_type": "markdown",
   "metadata": {},
   "source": [
    "我想你对 Python 中的 with 语句一定不陌生，在专栏里它也曾多次出现，尤其是在文件的输入输出操作中，不过我想，大部分人可能习惯了它的使用，却并不知道隐藏在其背后的“秘密”。\n",
    "\n",
    "那么，究竟 with 语句要怎么用，与之相关的上下文管理器（context manager）是什么，它们之间又有着怎样的联系呢？这节课，我就带你一起揭开它们的神秘面纱。\n",
    "\n",
    "### 什么是上下文管理器？\n",
    "在任何一门编程语言中，文件的输入输出、数据库的连接断开等，都是很常见的资源管理操作。但资源都是有限的，在写程序时，我们必须保证这些资源在使用过后得到释放，不然就容易造成资源泄露，轻者使得系统处理缓慢，重则会使系统崩溃。\n",
    "\n",
    "光说这些概念，你可能体会不到这一点，我们可以看看下面的例子："
   ]
  },
  {
   "cell_type": "code",
   "execution_count": null,
   "metadata": {},
   "outputs": [],
   "source": [
    "for x in range(10000000): \n",
    "    f = open('test.txt', 'w')\n",
    "    f.write('hello') "
   ]
  },
  {
   "cell_type": "markdown",
   "metadata": {},
   "source": [
    "这里我们一共打开了 10000000 个文件，但是用完以后都没有关闭它们，如果你运行该段代码，便会报错："
   ]
  },
  {
   "cell_type": "markdown",
   "metadata": {},
   "source": [
    "这就是一个典型的资源泄露的例子。因为程序中同时打开了太多的文件，占据了太多的资源，造成系统崩溃。\n",
    "\n",
    "为了解决这个问题，不同的编程语言都引入了不同的机制。而在 Python 中，对应的解决方式便是上下文管理器（context manager）。上下文管理器，能够帮助你自动分配并且释放资源，其中最典型的应用便是 with 语句。所以，上面代码的正确写法应该如下所示："
   ]
  },
  {
   "cell_type": "code",
   "execution_count": null,
   "metadata": {},
   "outputs": [],
   "source": [
    "for x in range(10000000):\n",
    "    with open('test.txt', 'w') as f:\n",
    "        f.write('hello')"
   ]
  },
  {
   "cell_type": "markdown",
   "metadata": {},
   "source": [
    "这样，我们每次打开文件“test.txt”，并写入‘hello’之后，这个文件便会自动关闭，相应的资源也可以得到释放，防止资源泄露。当然，with 语句的代码，也可以用下面的形式表示："
   ]
  },
  {
   "cell_type": "code",
   "execution_count": null,
   "metadata": {},
   "outputs": [],
   "source": [
    "f = open('test.txt', 'w')\n",
    "try:\n",
    "    f.write('hello')\n",
    "finally:\n",
    "    f.close()"
   ]
  },
  {
   "cell_type": "markdown",
   "metadata": {},
   "source": [
    "要注意的是，最后的 finally block 尤其重要，哪怕在写入文件时发生错误异常，它也可以保证该文件最终被关闭。不过与 with 语句相比，这样的代码就显得冗余了，并且还容易漏写，因此我们一般更倾向于使用 with 语句。\n",
    "\n",
    "另外一个典型的例子，是 Python 中的 threading.lock 类。举个例子，比如我想要获取一个锁，执行相应的操作，完成后再释放，那么代码就可以写成下面这样："
   ]
  },
  {
   "cell_type": "code",
   "execution_count": null,
   "metadata": {},
   "outputs": [],
   "source": [
    "some_lock = threading.Lock()\n",
    "some_lock.acquire()\n",
    "try:\n",
    "    ...\n",
    "finally:\n",
    "    some_lock.release()"
   ]
  },
  {
   "cell_type": "markdown",
   "metadata": {},
   "source": [
    "而对应的 with 语句，同样非常简洁："
   ]
  },
  {
   "cell_type": "code",
   "execution_count": null,
   "metadata": {},
   "outputs": [],
   "source": [
    "some_lock = threading.Lock()\n",
    "with somelock:\n",
    "    ..."
   ]
  },
  {
   "cell_type": "markdown",
   "metadata": {},
   "source": [
    "我们可以从这两个例子中看到，with 语句的使用，可以简化了代码，有效避免资源泄露的发生。\n",
    "\n",
    "### 上下文管理器的实现\n",
    "### 基于类的上下文管理器\n",
    "了解了上下文管理的概念和优点后，下面我们就通过具体的例子，一起来看看上下文管理器的原理，搞清楚它的内部实现。这里，我自定义了一个上下文管理类 FileManager，模拟 Python 的打开、关闭文件操作："
   ]
  },
  {
   "cell_type": "code",
   "execution_count": null,
   "metadata": {},
   "outputs": [],
   "source": [
    "class FileManager:\n",
    "    def __init__(self, name, mode):\n",
    "        print('calling __init__ method')\n",
    "        self.name = name\n",
    "        self.mode = mode \n",
    "        self.file = None\n",
    "        \n",
    "    def __enter__(self):\n",
    "        print('calling __enter__ method')\n",
    "        self.file = open(self.name, self.mode)\n",
    "        return self.file\n",
    " \n",
    " \n",
    "    def __exit__(self, exc_type, exc_val, exc_tb):\n",
    "        print('calling __exit__ method')\n",
    "        if self.file:\n",
    "            self.file.close()\n",
    "            \n",
    "with FileManager('test.txt', 'w') as f:\n",
    "    print('ready to write to file')\n",
    "    f.write('hello world')"
   ]
  },
  {
   "cell_type": "markdown",
   "metadata": {},
   "source": [
    "需要注意的是，当我们用类来创建上下文管理器时，必须保证这个类包括方法”__enter__()”和方法“__exit__()”。其中，方法“__enter__()”返回需要被管理的资源，方法“__exit__()”里通常会存在一些释放、清理资源的操作，比如这个例子中的关闭文件等等。\n",
    "\n",
    "而当我们用 with 语句，执行这个上下文管理器时："
   ]
  },
  {
   "cell_type": "code",
   "execution_count": null,
   "metadata": {},
   "outputs": [],
   "source": [
    "with FileManager('test.txt', 'w') as f:\n",
    "    f.write('hello world')"
   ]
  },
  {
   "cell_type": "markdown",
   "metadata": {},
   "source": [
    "下面这四步操作会依次发生：\n",
    "\n",
    "1. 方法“__init__()”被调用，程序初始化对象 FileManager，使得文件名（name）是\"test.txt\"，文件模式 (mode) 是'w'；\n",
    "2. 方法“__enter__()”被调用，文件“test.txt”以写入的模式被打开，并且返回 FileManager 对象赋予变量 f；\n",
    "3. 字符串“hello world”被写入文件“test.txt”；\n",
    "4. 方法“__exit__()”被调用，负责关闭之前打开的文件流。\n",
    "\n",
    "因此，这个程序的输出是："
   ]
  },
  {
   "cell_type": "code",
   "execution_count": null,
   "metadata": {},
   "outputs": [],
   "source": [
    "calling __init__ method\n",
    "calling __enter__ method\n",
    "ready to write to file\n",
    "calling __exit__ meth\n"
   ]
  },
  {
   "cell_type": "markdown",
   "metadata": {},
   "source": [
    "另外，值得一提的是，方法“__exit__()”中的参数“exc_type, exc_val, exc_tb”，分别表示 exception_type、exception_value 和 traceback。当我们执行含有上下文管理器的 with 语句时，如果有异常抛出，异常的信息就会包含在这三个变量中，传入方法“__exit__()”。\n",
    "\n",
    "因此，如果你需要处理可能发生的异常，可以在“__exit__()”添加相应的代码，比如下面这样来写："
   ]
  },
  {
   "cell_type": "code",
   "execution_count": null,
   "metadata": {},
   "outputs": [],
   "source": [
    "class Foo:\n",
    "    def __init__(self):\n",
    "        print('__init__ called')        \n",
    " \n",
    "    def __enter__(self):\n",
    "        print('__enter__ called')\n",
    "        return self\n",
    "    \n",
    "    def __exit__(self, exc_type, exc_value, exc_tb):\n",
    "        print('__exit__ called')\n",
    "        if exc_type:\n",
    "            print(f'exc_type: {exc_type}')\n",
    "            print(f'exc_value: {exc_value}')\n",
    "            print(f'exc_traceback: {exc_tb}')\n",
    "            print('exception handled')\n",
    "        return True\n",
    "    \n",
    "with Foo() as obj:\n",
    "    raise Exception('exception raised').with_traceback(None)"
   ]
  },
  {
   "cell_type": "markdown",
   "metadata": {},
   "source": [
    "这里，我们在 with 语句中手动抛出了异常“exception raised”，你可以看到，“__exit__()”方法中异常，被顺利捕捉并进行了处理。不过需要注意的是，如果方法“__exit__()”没有返回 True，异常仍然会被抛出。因此，如果你确定异常已经被处理了，请在“__exit__()”的最后，加上“return True”这条语句。\n",
    "\n",
    "同样的，数据库的连接操作，也常常用上下文管理器来表示，这里我给出了比较简化的代码："
   ]
  },
  {
   "cell_type": "code",
   "execution_count": null,
   "metadata": {},
   "outputs": [],
   "source": [
    "class DBConnectionManager: \n",
    "    def __init__(self, hostname, port): \n",
    "        self.hostname = hostname \n",
    "        self.port = port \n",
    "        self.connection = None\n",
    "  \n",
    "    def __enter__(self): \n",
    "        self.connection = DBClient(self.hostname, self.port) \n",
    "        return self\n",
    "  \n",
    "    def __exit__(self, exc_type, exc_val, exc_tb): \n",
    "        self.connection.close() \n",
    "  \n",
    "with DBConnectionManager('localhost', '8080') as db_client: \n"
   ]
  },
  {
   "cell_type": "markdown",
   "metadata": {},
   "source": [
    "与前面 FileManager 的例子类似：\n",
    "\n",
    "* 方法“__init__()”负责对数据库进行初始化，也就是将主机名、接口（这里是 localhost 和 8080）分别赋予变量 hostname 和 port；\n",
    "* 方法“__enter__()”连接数据库，并且返回对象 DBConnectionManager；\n",
    "* 方法“__exit__()”则负责关闭数据库的连接。\n",
    "这样一来，只要你写完了 DBconnectionManager 这个类，那么在程序每次连接数据库时，我们都只需要简单地调用 with 语句即可，并不需要关心数据库的关闭、异常等等，显然大大提高了开发的效率。\n",
    "\n",
    "### 基于生成器的上下文管理器\n",
    "诚然，基于类的上下文管理器，在 Python 中应用广泛，也是我们经常看到的形式，不过 Python 中的上下文管理器并不局限于此。除了基于类，它还可以基于生成器实现。接下来我们来看一个例子。\n",
    "\n",
    "比如，你可以使用装饰器 contextlib.contextmanager，来定义自己所需的基于生成器的上下文管理器，用以支持 with 语句。还是拿前面的类上下文管理器 FileManager 来说，我们也可以用下面形式来表示："
   ]
  },
  {
   "cell_type": "code",
   "execution_count": null,
   "metadata": {},
   "outputs": [],
   "source": [
    "from contextlib import contextmanager\n",
    " \n",
    "@contextmanager\n",
    "def file_manager(name, mode):\n",
    "    try:\n",
    "        f = open(name, mode)\n",
    "        yield f\n",
    "    finally:\n",
    "        f.close()\n",
    "        \n",
    "with file_manager('test.txt', 'w') as f:\n",
    "    f.write('hello world')\n"
   ]
  },
  {
   "cell_type": "markdown",
   "metadata": {},
   "source": [
    "这段代码中，函数 file_manager() 是一个生成器，当我们执行 with 语句时，便会打开文件，并返回文件对象 f；当 with 语句执行完后，finally block 中的关闭文件操作便会执行。\n",
    "\n",
    "你可以看到，使用基于生成器的上下文管理器时，我们不再用定义“__enter__()”和“__exit__()”方法，但请务必加上装饰器 @contextmanager，这一点新手很容易疏忽。\n",
    "\n",
    "讲完这两种不同原理的上下文管理器后，还需要强调的是，基于类的上下文管理器和基于生成器的上下文管理器，这两者在功能上是一致的。只不过，\n",
    "\n",
    "* 基于类的上下文管理器更加 flexible，适用于大型的系统开发；\n",
    "* 而基于生成器的上下文管理器更加方便、简洁，适用于中小型程序。\n",
    "无论你使用哪一种，请不用忘记在方法“__exit__()”或者是 finally block 中释放资源，这一点尤其重要。\n",
    "\n",
    "### 总结\n",
    "这节课，我们先通过一个简单的例子，了解了资源泄露的易发生性，和其带来的严重后果，从而引入了应对方案——即上下文管理器的概念。上下文管理器，通常应用在文件的打开关闭和数据库的连接关闭等场景中，可以确保用过的资源得到迅速释放，有效提高了程序的安全性，\n",
    "\n",
    "接着，我们通过自定义上下文管理的实例，了解了上下文管理工作的原理，并一起学习了基于类的上下文管理器和基于生成器的上下文管理器，这两者的功能相同，具体用哪个，取决于你的具体使用场景。\n",
    "\n",
    "另外，上下文管理器通常和 with 语句一起使用，大大提高了程序的简洁度。需要注意的是，当我们用 with 语句执行上下文管理器的操作时，一旦有异常抛出，异常的类型、值等具体信息，都会通过参数传入“__exit__()”函数中。你可以自行定义相关的操作对异常进行处理，而处理完异常后，也别忘了加上“return True”这条语句，否则仍然会抛出异常。"
   ]
  }
 ],
 "metadata": {
  "kernelspec": {
   "display_name": "Python 3",
   "language": "python",
   "name": "python3"
  },
  "language_info": {
   "codemirror_mode": {
    "name": "ipython",
    "version": 3
   },
   "file_extension": ".py",
   "mimetype": "text/x-python",
   "name": "python",
   "nbconvert_exporter": "python",
   "pygments_lexer": "ipython3",
   "version": "3.7.1"
  }
 },
 "nbformat": 4,
 "nbformat_minor": 2
}
