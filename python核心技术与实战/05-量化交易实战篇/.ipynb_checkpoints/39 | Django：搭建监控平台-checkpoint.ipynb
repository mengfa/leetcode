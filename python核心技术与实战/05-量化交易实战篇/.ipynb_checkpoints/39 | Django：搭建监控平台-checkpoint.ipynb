{
 "cells": [
  {
   "cell_type": "markdown",
   "metadata": {},
   "source": [
    "---\n",
    "title: 39 | Django：搭建监控平台\n",
    "date: 2020-01-10 20:10:07\n",
    "tags:\n",
    "- python\n",
    "- 极客时间\n",
    "categories:\n",
    "- python核心技术与实战\n",
    "---"
   ]
  },
  {
   "cell_type": "markdown",
   "metadata": {},
   "source": [
    "### Django 简介和安装\n",
    "Django 是用 Python 开发的一个免费开源的 Web 框架，可以用来快速搭建优雅的高性能网站。它采用的是“MVC”的框架模式，即模型 M、视图 V 和控制器 C。\n",
    "\n",
    "Django 最大的特色，在于将网页和数据库中复杂的关系，转化为 Python 中对应的简单关系。它的设计目的，是使常见的 Web 开发任务变得快速而简单。Django 是开源的，不是商业项目或者科研项目，并且集中力量解决 Web 开发中遇到的一系列问题。所以，Django 每天都会在现有的基础上进步，以适应不断更迭的开发需求。这样既节省了开发时间，也提高了后期维护的效率。\n",
    "\n",
    "说了这么多，接下来，我们通过上手使用进一步来了解。先来看一下，如何安装和使用 Django。你可以先按照下面代码块的内容来操作，安装 Django ："
   ]
  },
  {
   "cell_type": "code",
   "execution_count": null,
   "metadata": {},
   "outputs": [],
   "source": [
    "pip3 install Django\n",
    "django-admin --version"
   ]
  },
  {
   "cell_type": "markdown",
   "metadata": {},
   "source": [
    "接着，我们来创建一个新的 Django 项目："
   ]
  },
  {
   "cell_type": "code",
   "execution_count": null,
   "metadata": {},
   "outputs": [],
   "source": [
    "django-admin startproject TradingMonitor\n",
    "cd TradingMonitor/\n",
    "python3 manage.py migrate\n",
    " "
   ]
  },
  {
   "cell_type": "markdown",
   "metadata": {},
   "source": [
    "这时，你能看到文件系统大概是下面这样的：\n",
    "```\n",
    "TradingMonitor/\n",
    "├── TradingMonitor\n",
    "│   ├── __init__.py\n",
    "│   ├── settings.py\n",
    "│   ├── urls.py\n",
    "│   └── wsgi.py\n",
    "├── db.sqlite3\n",
    "└── manage.py\n",
    "\n",
    "```\n",
    "我简单解释一下它的意思：\n",
    "\n",
    "* TradingMonitor/TradingMonitor，表示项目最初的 Python 包；\n",
    "* TradingMonitor/init.py，表示一个空文件，声明所在目录的包为一个 Python 包；\n",
    "* TradingMonitor/settings.py，管理项目的配置信息；\n",
    "* TradingMonitor/urls.py，声明请求 URL 的映射关系；\n",
    "* TradingMonitor/wsgi.py，表示 Python 程序和 Web 服务器的通信协议；\n",
    "* manage.py，表示一个命令行工具，用来和 Django 项目进行交互；\n",
    "* Db.sqlite3，表示默认的数据库，可以在设置中替换成其他数据库。\n",
    "\n",
    "另外，你可能注意到了上述命令中的python3 manage.py migrate，这个命令表示创建或更新数据库模式。每当 model 源代码被改变后，如果我们要将其应用到数据库上，就需要执行一次这个命令。\n",
    "\n",
    "接下来，我们为这个系统添加管理员账户：\n"
   ]
  },
  {
   "cell_type": "code",
   "execution_count": null,
   "metadata": {},
   "outputs": [],
   "source": [
    "python3 manage.py createsuperuser"
   ]
  },
  {
   "cell_type": "markdown",
   "metadata": {},
   "source": [
    "然后，我们来启动 Django 的 debugging 模式："
   ]
  },
  {
   "cell_type": "code",
   "execution_count": null,
   "metadata": {},
   "outputs": [],
   "source": [
    "python3 manage.py runserver\n"
   ]
  },
  {
   "cell_type": "markdown",
   "metadata": {},
   "source": [
    "最后，打开浏览器输入：http://127.0.0.1:8000。如果你能看到下面这个画面，就说明 Django 已经部署成功了。\n",
    "\n"
   ]
  },
  {
   "cell_type": "markdown",
   "metadata": {},
   "source": [
    "Django 的安装是不是非常简单呢？这其实也是 Python 一贯的理念，简洁，并简化入门的门槛。\n",
    "\n",
    "OK，现在我们再定位到 http://127.0.0.1:8000/admin，你会看到 Django 的后台管理网页，这里我就不过多介绍了。\n",
    "到此，Django 就已经成功安装，并且正常启动啦。\n",
    "\n",
    "### MVC 架构\n",
    "刚刚我说过，MVC 架构是 Django 设计模式的精髓。接下来，我们就来具体看一下这个架构，并通过 Django 动手搭建一个服务端。\n",
    "\n",
    "### 设计模型 Model\n",
    "在之前的日志和存储系统这节课中，我介绍过 peewee 这个库，它能避开通过繁琐的 SQL 语句来操作 MySQL，直接使用 Python 的 class 来进行转换。事实上，这也是 Django 采取的方式。\n",
    "\n",
    "Django 无需数据库就可以使用，它通过对象关系映射器（object-relational mapping），仅使用 Python 代码就可以描述数据结构。\n",
    "\n",
    "我们先来看下面这段 Model 代码：\n"
   ]
  },
  {
   "cell_type": "code",
   "execution_count": null,
   "metadata": {},
   "outputs": [],
   "source": [
    "#  TradingMonitor/models.py\n",
    " \n",
    "from django.db import models\n",
    " \n",
    " \n",
    "class Position(models.Model):\n",
    "    asset = models.CharField(max_length=10)\n",
    "    timestamp = models.DateTimeField()\n",
    "    amount = models.DecimalField(max_digits=10, decimal_places=3)\n"
   ]
  },
  {
   "cell_type": "markdown",
   "metadata": {},
   "source": [
    "models.py 文件主要用一个 Python 类来描述数据表，称为模型 。运用这个类，你可以通过简单的 Python 代码来创建、检索、更新、删除数据库中的记录，而不用写一条又一条的 SQL 语句，这也是我们之前所说的避免通过 SQL 操作数据库。\n",
    "\n",
    "在这里，我们创建了一个 Position 模型，用来表示我们的交易仓位信息。其中，\n",
    "\n",
    "* asset 表示当前持有资产的代码，例如 btc；\n",
    "* timestamp 表示时间戳；\n",
    "* amount 则表示时间戳时刻的持仓信息。\n",
    "\n",
    "### 设计视图 Views\n",
    "\n",
    "在模型被定义之后，我们便可以在视图中引用模型了。通常，视图会根据参数检索数据，加载一个模板，并使用检索到的数据呈现模板。\n",
    "\n",
    "设计视图，则是我们用来实现业务逻辑的地方。我们来看 render_positions 这个代码，它接受 request 和 asset 两个参数，我们先不用管 request。这里的 asset 表示指定一个资产名称，例如 btc，然后这个函数返回一个渲染页面。"
   ]
  },
  {
   "cell_type": "code",
   "execution_count": null,
   "metadata": {},
   "outputs": [],
   "source": [
    "#  TradingMonitor/views.py\n",
    " \n",
    "from django.shortcuts import render\n",
    "from .models import Position\n",
    " \n",
    "def render_positions(request, asset):\n",
    "    positions = Position.objects.filter(asset = asset)\n",
    "    context = {'asset': asset, 'positions': positions}\n",
    "    return render(request, 'positions.html', context)\n"
   ]
  },
  {
   "cell_type": "markdown",
   "metadata": {},
   "source": [
    "不过，这个函数具体是怎么工作的呢？我们一行行来看。\n",
    "\n",
    "positions = Position.objects.filter(asset = asset)，这行代码向数据库中执行一个查询操作，其中， filter 表示筛选，意思是从数据库中选出所有我们需要的 asset 的信息。不过，这里我只是为你举例做示范；真正做监控的时候，我们一般会更有针对性地从数据库中筛选读取信息，而不是一口气读取出所有的信息。\n",
    "\n",
    "context = {'asset': asset, 'positions': positions}，这行代码没什么好说的，封装一个字典。至于这个字典的用处，下面的内容中可以体现。\n",
    "\n",
    "return render(request, 'positions.html', context)，最后这行代码返回一个页面。这里我们采用的模板设计，这也是 Django 非常推荐的开发方式，也就是让模板和数据分离，这样，数据只需要向其中填充即可。\n",
    "\n",
    "最后的模板文件是 position.html，你应该注意到了， context 作为变量传给了模板，下面我们就来看一下设计模板的内容。\n",
    "\n",
    "### 设计模板 Templates\n",
    "\n",
    "模板文件，其实就是 HTML 文件和部分代码的综合。你可以想象成，这个 HTML 在最终送给用户之前，需要被我们预先处理一下，而预先处理的方式就是找到对应的地方进行替换。\n",
    "\n",
    "我们来看下面这段示例代码："
   ]
  },
  {
   "cell_type": "code",
   "execution_count": null,
   "metadata": {},
   "outputs": [],
   "source": [
    "#  TradingMonitor/templates/positions.html\n",
    " \n",
    "<!DOCTYPE html>\n",
    "<html lang=\"en-US\">\n",
    "<head>\n",
    "<title>Positions for {{asset}}</title>\n",
    "</head>\n",
    " \n",
    "<body>\n",
    "<h1>Positions for {{asset}}</h1>\n",
    " \n",
    "<table>\n",
    "<tr>\n",
    "    <th>Time</th>\n",
    "    <th>Amount</th>\n",
    "</tr>\n",
    "{% for position in positions %}\n",
    "<tr>\n",
    "    <th>{{position.timestamp}}</th>\n",
    "    <th>{{position.amount}}</th>\n",
    "</tr>\n",
    "{% endfor %}\n",
    "</table>\n",
    "</body>"
   ]
  },
  {
   "cell_type": "markdown",
   "metadata": {},
   "source": [
    "我重点说一下几个地方。首先是<title>Positions for {{asset}}</title>，这里双大括号括住 asset 这个变量，这个变量对应的正是前面 context 字典中的 asset key。Django 的渲染引擎会将 asset ，替换成 context 中 asset 对应的内容，此处是替换成了 btc。\n",
    "\n",
    "再来看{% for position in positions %}，这是个很关键的地方。我们需要处理一个列表的情况，用 for 对 positions 进行迭代就行了。这里的 positions ，同样对应的是 context 中的 positions。\n",
    "\n",
    "末尾的{% endfor %}，自然就表示结束了。这样，我们就将数据封装到了一个列表之中。\n",
    "\n",
    "### 设计链接 Urls\n",
    "最后，我们需要为我们的操作提供 URL 接口，具体操作我放在了下面的代码中，内容比较简单，我就不详细展开讲解了。"
   ]
  },
  {
   "cell_type": "code",
   "execution_count": null,
   "metadata": {},
   "outputs": [],
   "source": [
    "#  TradingMonitor/urls.py\n",
    " \n",
    "from django.contrib import admin\n",
    "from django.urls import path\n",
    "from . import views\n",
    " \n",
    "urlpatterns = [\n",
    "    path('admin/', admin.site.urls),\n",
    "    path('positions/<str:asset>', views.render_positions),\n",
    "]"
   ]
  },
  {
   "cell_type": "markdown",
   "metadata": {},
   "source": [
    "到这里，我们就可以通过 http://127.0.0.1:8000/positions/btc 来访问啦！\n",
    "\n",
    "### 测试\n",
    "当然，除了主要流程外，我还需要强调几个很简单但非常关键的细节，不然，我们这些改变就不能被真正地应用。\n",
    "\n",
    "第一步，在 TradingMonitor/TradingMonitor 下，新建一个文件夹 migrations；并在这个文件夹中，新建一个空文件 __init__.py。"
   ]
  },
  {
   "cell_type": "code",
   "execution_count": null,
   "metadata": {},
   "outputs": [],
   "source": [
    "mkdir TradingMonitor/migrations\n",
    "touch TradingMonitor/migrations/__init__.py\n"
   ]
  },
  {
   "cell_type": "markdown",
   "metadata": {},
   "source": [
    "此时，你的目录结构应该长成下面这样：\n",
    "```\n",
    "TradingMonitor/\n",
    "├── TradingMonitor\n",
    "│   ├── migrations\n",
    "│       └── __init__.py\n",
    "│   ├── templates\n",
    "│       └── positions.html\n",
    "│   ├── __init__.py\n",
    "│   ├── settings.py\n",
    "│   ├── urls.py\n",
    "│   ├── models.py\n",
    "│   ├── views.py\n",
    "│   └── wsgi.py\n",
    "├── db.sqlite3\n",
    "└── manage.py\n",
    "```\n",
    "第二步，修改 TradingMonitor/settings.py："
   ]
  },
  {
   "cell_type": "code",
   "execution_count": null,
   "metadata": {},
   "outputs": [],
   "source": [
    "INSTALLED_APPS = [\n",
    "    'django.contrib.admin',\n",
    "    'django.contrib.auth',\n",
    "    'django.contrib.contenttypes',\n",
    "    'django.contrib.sessions',\n",
    "    'django.contrib.messages',\n",
    "    'django.contrib.staticfiles',\n",
    "    'TradingMonitor',  # 这里把我们的 app 加上\n",
    "]"
   ]
  },
  {
   "cell_type": "code",
   "execution_count": null,
   "metadata": {},
   "outputs": [],
   "source": [
    "TEMPLATES = [\n",
    "    {\n",
    "        'BACKEND': 'django.template.backends.django.DjangoTemplates',\n",
    "        'DIRS': [os.path.join(BASE_DIR, 'TradingMonitor/templates')],  # 这里把 templates 的目录加上\n",
    "        'APP_DIRS': True,\n",
    "        'OPTIONS': {\n",
    "            'context_processors': [\n",
    "                'django.template.context_processors.debug',\n",
    "                'django.template.context_processors.request',\n",
    "                'django.contrib.auth.context_processors.auth',\n",
    "                'django.contrib.messages.context_processors.messages',\n",
    "            ],\n",
    "        },\n",
    "    },\n",
    "]"
   ]
  },
  {
   "cell_type": "markdown",
   "metadata": {},
   "source": [
    "第三步，运行 python manage.py makemigrations："
   ]
  },
  {
   "cell_type": "code",
   "execution_count": null,
   "metadata": {},
   "outputs": [],
   "source": [
    "python manage.py makemigrations"
   ]
  },
  {
   "cell_type": "markdown",
   "metadata": {},
   "source": [
    "第四步，运行 python manage.py migrate："
   ]
  },
  {
   "cell_type": "code",
   "execution_count": null,
   "metadata": {},
   "outputs": [],
   "source": [
    "python manage.py migrate"
   ]
  },
  {
   "cell_type": "markdown",
   "metadata": {},
   "source": [
    "这几步的具体操作，我都用代码和注释表示了出来，你完全可以同步进行操作。操作完成后，现在，我们的数据结构就已经被成功同步到数据库中了。\n",
    "\n",
    "最后，输入 python manage.py runserver，然后打开浏览器输入http://127.0.0.1:8000/positions/btc，你就能看到效果啦。"
   ]
  },
  {
   "cell_type": "markdown",
   "metadata": {},
   "source": [
    "现在，我们再回过头来看一下 MVC 模式，通过我画的这张图，你可以看到，M、V、C 这三者，以一种插件似的、松耦合的方式连接在一起："
   ]
  },
  {
   "cell_type": "markdown",
   "metadata": {},
   "source": [
    "当然，我带你写的只是一个简单的 Django 应用程序，对于真正的量化平台监控系统而言，这还只是一个简单的开始。\n",
    "\n",
    "除此之外，对于监控系统来说，其实还有着非常多的开源插件可以使用。有一些界面非常酷炫，有一些可以做到很高的稳定性和易用性，它们很多都可以结合 Django 做出很好的效果来。比较典型的有：\n",
    "\n",
    "* Graphite 是一款存储时间序列数据，并通过 Django Web 应用程序在图形中显示的插件；\n",
    "* Vimeo 则是一个基于 Graphite 的仪表板，具有附加功能和平滑的设计；\n",
    "* Scout 监控 Django 和 Flask 应用程序的性能，提供自动检测视图、SQL 查询、模板等。\n",
    "\n",
    "### 总结\n",
    "这一节课的内容更靠近上游应用层，我们以 Django 这个 Python 后端为例，讲解了搭建一个服务端的过程。你应该发现了，使用 RESTful Framework 搭建服务器，是一个如此简单的过程，你可以去开一个自己的交易所了（笑）。相比起具体的技术，今天我所讲的 MVC 框架和 Django 的思想，更值得你去深入学习和领会。"
   ]
  }
 ],
 "metadata": {
  "kernelspec": {
   "display_name": "Python 3",
   "language": "python",
   "name": "python3"
  },
  "language_info": {
   "codemirror_mode": {
    "name": "ipython",
    "version": 3
   },
   "file_extension": ".py",
   "mimetype": "text/x-python",
   "name": "python",
   "nbconvert_exporter": "python",
   "pygments_lexer": "ipython3",
   "version": "3.7.1"
  }
 },
 "nbformat": 4,
 "nbformat_minor": 2
}
