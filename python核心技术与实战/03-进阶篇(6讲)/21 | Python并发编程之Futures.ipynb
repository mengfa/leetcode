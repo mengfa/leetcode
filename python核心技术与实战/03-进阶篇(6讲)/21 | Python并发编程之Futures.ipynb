{
 "cells": [
  {
   "cell_type": "markdown",
   "metadata": {},
   "source": [
    "---\n",
    "title: 21 | Python并发编程之Futures\n",
    "date: 2019-12-13 20:50:07\n",
    "tags:\n",
    "- python\n",
    "- 极客时间\n",
    "categories:\n",
    "- python核心技术与实战\n",
    "---"
   ]
  },
  {
   "cell_type": "markdown",
   "metadata": {},
   "source": [
    "Python 中的并发编程——Futures。\n",
    "\n",
    "### 区分并发和并行\n",
    "在我们学习并发编程时，常常同时听到并发（Concurrency）和并行（Parallelism）这两个术语，这两者经常一起使用，导致很多人以为它们是一个意思，其实不然。\n",
    "\n",
    "首先你要辨别一个误区，在 Python 中，并发并不是指同一时刻有多个操作（thread、task）同时进行。相反，某个特定的时刻，它只允许有一个操作发生，只不过线程 / 任务之间会互相切换，直到完成。我们来看下面这张图："
   ]
  },
  {
   "cell_type": "markdown",
   "metadata": {},
   "source": [
    "图中出现了 thread 和 task 两种切换顺序的不同方式，分别对应 Python 中并发的两种形式——threading 和 asyncio。\n",
    "\n",
    "对于 threading，操作系统知道每个线程的所有信息，因此它会做主在适当的时候做线程切换。很显然，这样的好处是代码容易书写，因为程序员不需要做任何切换操作的处理；但是切换线程的操作，也有可能出现在一个语句执行的过程中（比如 x += 1），这样就容易出现 race condition 的情况。\n",
    "\n",
    "而对于 asyncio，主程序想要切换任务时，必须得到此任务可以被切换的通知，这样一来也就可以避免刚刚提到的 race condition 的情况。\n",
    "\n",
    "至于所谓的并行，指的才是同一时刻、同时发生。Python 中的 multi-processing 便是这个意思，对于 multi-processing，你可以简单地这么理解：比如你的电脑是 6 核处理器，那么在运行程序时，就可以强制 Python 开 6 个进程，同时执行，以加快运行速度，它的原理示意图如下："
   ]
  },
  {
   "cell_type": "markdown",
   "metadata": {},
   "source": [
    "对比来看，\n",
    "\n",
    "* 并发通常应用于 I/O 操作频繁的场景，比如你要从网站上下载多个文件，I/O 操作的时间可能会比 CPU 运行处理的时间长得多。\n",
    "* 而并行则更多应用于 CPU heavy 的场景，比如 MapReduce 中的并行计算，为了加快运行速度，一般会用多台机器、多个处理器来完成。\n",
    "### 并发编程之 Futures\n",
    "### 单线程与多线程性能比较\n",
    "\n",
    "接下来，我们一起通过具体的实例，从代码的角度来理解并发编程中的 Futures，并进一步来比较其与单线程的性能区别。\n",
    "\n",
    "假设我们有一个任务，是下载一些网站的内容并打印。如果用单线程的方式，它的代码实现如下所示（为了简化代码，突出主题，此处我忽略了异常处理）："
   ]
  },
  {
   "cell_type": "code",
   "execution_count": 1,
   "metadata": {},
   "outputs": [
    {
     "name": "stdout",
     "output_type": "stream",
     "text": [
      "Read 129166 from https://en.wikipedia.org/wiki/Portal:Arts\n",
      "Read 196790 from https://en.wikipedia.org/wiki/Portal:History\n",
      "Read 227218 from https://en.wikipedia.org/wiki/Portal:Society\n",
      "Read 315517 from https://en.wikipedia.org/wiki/Portal:Biography\n",
      "Read 139637 from https://en.wikipedia.org/wiki/Portal:Mathematics\n",
      "Read 148720 from https://en.wikipedia.org/wiki/Portal:Technology\n",
      "Read 158254 from https://en.wikipedia.org/wiki/Portal:Geography\n",
      "Read 96941 from https://en.wikipedia.org/wiki/Portal:Science\n",
      "Read 330734 from https://en.wikipedia.org/wiki/Computer_science\n",
      "Read 408460 from https://en.wikipedia.org/wiki/Python_(programming_language)\n",
      "Read 322431 from https://en.wikipedia.org/wiki/Java_(programming_language)\n",
      "Read 482127 from https://en.wikipedia.org/wiki/PHP\n",
      "Read 177540 from https://en.wikipedia.org/wiki/Node.js\n",
      "Read 56570 from https://en.wikipedia.org/wiki/The_C_Programming_Language\n",
      "Read 329485 from https://en.wikipedia.org/wiki/Go_(programming_language)\n",
      "Download 15 sites in 15.883507495999993 seconds\n"
     ]
    }
   ],
   "source": [
    "import requests\n",
    "import time\n",
    " \n",
    "def download_one(url):\n",
    "    resp = requests.get(url)\n",
    "    print('Read {} from {}'.format(len(resp.content), url))\n",
    "    \n",
    "def download_all(sites):\n",
    "    for site in sites:\n",
    "        download_one(site)\n",
    " \n",
    "def main():\n",
    "    sites = [\n",
    "        'https://en.wikipedia.org/wiki/Portal:Arts',\n",
    "        'https://en.wikipedia.org/wiki/Portal:History',\n",
    "        'https://en.wikipedia.org/wiki/Portal:Society',\n",
    "        'https://en.wikipedia.org/wiki/Portal:Biography',\n",
    "        'https://en.wikipedia.org/wiki/Portal:Mathematics',\n",
    "        'https://en.wikipedia.org/wiki/Portal:Technology',\n",
    "        'https://en.wikipedia.org/wiki/Portal:Geography',\n",
    "        'https://en.wikipedia.org/wiki/Portal:Science',\n",
    "        'https://en.wikipedia.org/wiki/Computer_science',\n",
    "        'https://en.wikipedia.org/wiki/Python_(programming_language)',\n",
    "        'https://en.wikipedia.org/wiki/Java_(programming_language)',\n",
    "        'https://en.wikipedia.org/wiki/PHP',\n",
    "        'https://en.wikipedia.org/wiki/Node.js',\n",
    "        'https://en.wikipedia.org/wiki/The_C_Programming_Language',\n",
    "        'https://en.wikipedia.org/wiki/Go_(programming_language)'\n",
    "    ]\n",
    "    start_time = time.perf_counter()\n",
    "    download_all(sites)\n",
    "    end_time = time.perf_counter()\n",
    "    print('Download {} sites in {} seconds'.format(len(sites), end_time - start_time))\n",
    "    \n",
    "if __name__ == '__main__':\n",
    "    main()"
   ]
  },
  {
   "cell_type": "markdown",
   "metadata": {},
   "source": [
    "这种方式应该是最直接也最简单的：\n",
    "\n",
    "* 先是遍历存储网站的列表；\n",
    "* 然后对当前网站执行下载操作；\n",
    "* 等到当前操作完成后，再对下一个网站进行同样的操作，一直到结束。\n",
    "\n",
    "我们可以看到总共耗时约 2.4s。单线程的优点是简单明了，但是明显效率低下，因为上述程序的绝大多数时间，都浪费在了 I/O 等待上。程序每次对一个网站执行下载操作，都必须等到前一个网站下载完成后才能开始。如果放在实际生产环境中，我们需要下载的网站数量至少是以万为单位的，不难想象，这种方案根本行不通。\n",
    "\n",
    "接着我们再来看，多线程版本的代码实现："
   ]
  },
  {
   "cell_type": "code",
   "execution_count": 2,
   "metadata": {},
   "outputs": [
    {
     "name": "stdout",
     "output_type": "stream",
     "text": [
      "Read 129166 from https://en.wikipedia.org/wiki/Portal:Arts\n",
      "Read 227218 from https://en.wikipedia.org/wiki/Portal:Society\n",
      "Read 196790 from https://en.wikipedia.org/wiki/Portal:History\n",
      "Read 315517 from https://en.wikipedia.org/wiki/Portal:Biography\n",
      "Read 139005 from https://en.wikipedia.org/wiki/Portal:Mathematics\n",
      "Read 96941 from https://en.wikipedia.org/wiki/Portal:Science\n",
      "Read 148720 from https://en.wikipedia.org/wiki/Portal:Technology\n",
      "Read 158254 from https://en.wikipedia.org/wiki/Portal:Geography\n",
      "Read 408460 from https://en.wikipedia.org/wiki/Python_(programming_language)\n",
      "Read 330734 from https://en.wikipedia.org/wiki/Computer_science\n",
      "Read 177540 from https://en.wikipedia.org/wiki/Node.js\n",
      "Read 482127 from https://en.wikipedia.org/wiki/PHP\n",
      "Read 322431 from https://en.wikipedia.org/wiki/Java_(programming_language)\n",
      "Read 329485 from https://en.wikipedia.org/wiki/Go_(programming_language)\n",
      "Read 56570 from https://en.wikipedia.org/wiki/The_C_Programming_Language\n",
      "Download 15 sites in 4.299461989000065 seconds\n"
     ]
    }
   ],
   "source": [
    "import concurrent.futures\n",
    "import requests\n",
    "import threading\n",
    "import time\n",
    " \n",
    "def download_one(url):\n",
    "    resp = requests.get(url)\n",
    "    print('Read {} from {}'.format(len(resp.content), url))\n",
    " \n",
    " \n",
    "def download_all(sites):\n",
    "    with concurrent.futures.ThreadPoolExecutor(max_workers=5) as executor:\n",
    "        executor.map(download_one, sites)\n",
    " \n",
    "def main():\n",
    "    sites = [\n",
    "        'https://en.wikipedia.org/wiki/Portal:Arts',\n",
    "        'https://en.wikipedia.org/wiki/Portal:History',\n",
    "        'https://en.wikipedia.org/wiki/Portal:Society',\n",
    "        'https://en.wikipedia.org/wiki/Portal:Biography',\n",
    "        'https://en.wikipedia.org/wiki/Portal:Mathematics',\n",
    "        'https://en.wikipedia.org/wiki/Portal:Technology',\n",
    "        'https://en.wikipedia.org/wiki/Portal:Geography',\n",
    "        'https://en.wikipedia.org/wiki/Portal:Science',\n",
    "        'https://en.wikipedia.org/wiki/Computer_science',\n",
    "        'https://en.wikipedia.org/wiki/Python_(programming_language)',\n",
    "        'https://en.wikipedia.org/wiki/Java_(programming_language)',\n",
    "        'https://en.wikipedia.org/wiki/PHP',\n",
    "        'https://en.wikipedia.org/wiki/Node.js',\n",
    "        'https://en.wikipedia.org/wiki/The_C_Programming_Language',\n",
    "        'https://en.wikipedia.org/wiki/Go_(programming_language)'\n",
    "    ]\n",
    "    start_time = time.perf_counter()\n",
    "    download_all(sites)\n",
    "    end_time = time.perf_counter()\n",
    "    print('Download {} sites in {} seconds'.format(len(sites), end_time - start_time))\n",
    " \n",
    "if __name__ == '__main__':\n",
    "    main()"
   ]
  },
  {
   "cell_type": "markdown",
   "metadata": {},
   "source": [
    "非常明显，总耗时是 0.2s 左右，效率一下子提升了 10 倍多。\n",
    "\n",
    "我们具体来看这段代码，它是多线程版本和单线程版的主要区别所在："
   ]
  },
  {
   "cell_type": "code",
   "execution_count": null,
   "metadata": {},
   "outputs": [],
   "source": [
    "   with concurrent.futures.ThreadPoolExecutor(max_workers=5) as executor:\n",
    "        executor.map(download_one, sites)"
   ]
  },
  {
   "cell_type": "markdown",
   "metadata": {},
   "source": [
    "这里我们创建了一个线程池，总共有 5 个线程可以分配使用。executer.map() 与前面所讲的 Python 内置的 map() 函数类似，表示对 sites 中的每一个元素，并发地调用函数 download_one()。\n",
    "\n",
    "顺便提一下，在 download_one() 函数中，我们使用的 requests.get() 方法是线程安全的（thread-safe），因此在多线程的环境下，它也可以安全使用，并不会出现 race condition 的情况。\n",
    "\n",
    "另外，虽然线程的数量可以自己定义，但是线程数并不是越多越好，因为线程的创建、维护和删除也会有一定的开销。所以如果你设置的很大，反而可能会导致速度变慢。我们往往需要根据实际的需求做一些测试，来寻找最优的线程数量。\n",
    "\n",
    "当然，我们也可以用并行的方式去提高程序运行效率。你只需要在 download_all() 函数中，做出下面的变化即可："
   ]
  },
  {
   "cell_type": "code",
   "execution_count": 3,
   "metadata": {},
   "outputs": [
    {
     "ename": "SyntaxError",
     "evalue": "invalid syntax (<ipython-input-3-5f534bcae088>, line 1)",
     "output_type": "error",
     "traceback": [
      "\u001b[0;36m  File \u001b[0;32m\"<ipython-input-3-5f534bcae088>\"\u001b[0;36m, line \u001b[0;32m1\u001b[0m\n\u001b[0;31m    with futures.ThreadPoolExecutor(workers) as executor\u001b[0m\n\u001b[0m                                                        ^\u001b[0m\n\u001b[0;31mSyntaxError\u001b[0m\u001b[0;31m:\u001b[0m invalid syntax\n"
     ]
    }
   ],
   "source": [
    "with futures.ThreadPoolExecutor(workers) as executor\n",
    "=>\n",
    "with futures.ProcessPoolExecutor() as executor: "
   ]
  },
  {
   "cell_type": "markdown",
   "metadata": {},
   "source": [
    "在需要修改的这部分代码中，函数 ProcessPoolExecutor() 表示创建进程池，使用多个进程并行的执行程序。不过，这里我们通常省略参数 workers，因为系统会自动返回 CPU 的数量作为可以调用的进程数。\n",
    "\n",
    "我刚刚提到过，并行的方式一般用在 CPU heavy 的场景中，因为对于 I/O heavy 的操作，多数时间都会用于等待，相比于多线程，使用多进程并不会提升效率。反而很多时候，因为 CPU 数量的限制，会导致其执行效率不如多线程版本。\n",
    "\n",
    "### 到底什么是 Futures ？\n",
    "Python 中的 Futures 模块，位于 concurrent.futures 和 asyncio 中，它们都表示带有延迟的操作。Futures 会将处于等待状态的操作包裹起来放到队列中，这些操作的状态随时可以查询，当然，它们的结果或是异常，也能够在操作完成后被获取。\n",
    "\n",
    "通常来说，作为用户，我们不用考虑如何去创建 Futures，这些 Futures 底层都会帮我们处理好。我们要做的，实际上是去 schedule 这些 Futures 的执行。\n",
    "\n",
    "比如，Futures 中的 Executor 类，当我们执行 executor.submit(func) 时，它便会安排里面的 func() 函数执行，并返回创建好的 future 实例，以便你之后查询调用。\n",
    "\n",
    "这里再介绍一些常用的函数。Futures 中的方法 done()，表示相对应的操作是否完成——True 表示完成，False 表示没有完成。不过，要注意，done() 是 non-blocking 的，会立即返回结果。相对应的 add_done_callback(fn)，则表示 Futures 完成后，相对应的参数函数 fn，会被通知并执行调用。\n",
    "\n",
    "Futures 中还有一个重要的函数 result()，它表示当 future 完成后，返回其对应的结果或异常。而 as_completed(fs)，则是针对给定的 future 迭代器 fs，在其完成后，返回完成后的迭代器。\n",
    "\n",
    "所以，上述例子也可以写成下面的形式："
   ]
  },
  {
   "cell_type": "code",
   "execution_count": 4,
   "metadata": {},
   "outputs": [
    {
     "name": "stdout",
     "output_type": "stream",
     "text": [
      "Read 139637 from https://en.wikipedia.org/wiki/Portal:Mathematics\n",
      "Read 227218 from https://en.wikipedia.org/wiki/Portal:Society\n",
      "Read 196790 from https://en.wikipedia.org/wiki/Portal:History\n",
      "Read 148720 from https://en.wikipedia.org/wiki/Portal:Technology\n",
      "Read 96941 from https://en.wikipedia.org/wiki/Portal:Science\n",
      "Read 315517 from https://en.wikipedia.org/wiki/Portal:Biography\n",
      "Read 129166 from https://en.wikipedia.org/wiki/Portal:Arts\n",
      "Read 158254 from https://en.wikipedia.org/wiki/Portal:Geography\n",
      "Read 330734 from https://en.wikipedia.org/wiki/Computer_science\n",
      "Read 322431 from https://en.wikipedia.org/wiki/Java_(programming_language)\n",
      "Read 408460 from https://en.wikipedia.org/wiki/Python_(programming_language)\n",
      "Read 482127 from https://en.wikipedia.org/wiki/PHP\n",
      "Read 56570 from https://en.wikipedia.org/wiki/The_C_Programming_Language\n",
      "Read 177540 from https://en.wikipedia.org/wiki/Node.js\n",
      "Read 329485 from https://en.wikipedia.org/wiki/Go_(programming_language)\n",
      "Download 15 sites in 3.3601100109999607 seconds\n"
     ]
    }
   ],
   "source": [
    "import concurrent.futures\n",
    "import requests\n",
    "import time\n",
    " \n",
    "def download_one(url):\n",
    "    resp = requests.get(url)\n",
    "    print('Read {} from {}'.format(len(resp.content), url))\n",
    " \n",
    "def download_all(sites):\n",
    "    with concurrent.futures.ThreadPoolExecutor(max_workers=5) as executor:\n",
    "        to_do = []\n",
    "        for site in sites:\n",
    "            future = executor.submit(download_one, site)\n",
    "            to_do.append(future)\n",
    "            \n",
    "        for future in concurrent.futures.as_completed(to_do):\n",
    "            future.result()\n",
    "def main():\n",
    "    sites = [\n",
    "        'https://en.wikipedia.org/wiki/Portal:Arts',\n",
    "        'https://en.wikipedia.org/wiki/Portal:History',\n",
    "        'https://en.wikipedia.org/wiki/Portal:Society',\n",
    "        'https://en.wikipedia.org/wiki/Portal:Biography',\n",
    "        'https://en.wikipedia.org/wiki/Portal:Mathematics',\n",
    "        'https://en.wikipedia.org/wiki/Portal:Technology',\n",
    "        'https://en.wikipedia.org/wiki/Portal:Geography',\n",
    "        'https://en.wikipedia.org/wiki/Portal:Science',\n",
    "        'https://en.wikipedia.org/wiki/Computer_science',\n",
    "        'https://en.wikipedia.org/wiki/Python_(programming_language)',\n",
    "        'https://en.wikipedia.org/wiki/Java_(programming_language)',\n",
    "        'https://en.wikipedia.org/wiki/PHP',\n",
    "        'https://en.wikipedia.org/wiki/Node.js',\n",
    "        'https://en.wikipedia.org/wiki/The_C_Programming_Language',\n",
    "        'https://en.wikipedia.org/wiki/Go_(programming_language)'\n",
    "    ]\n",
    "    start_time = time.perf_counter()\n",
    "    download_all(sites)\n",
    "    end_time = time.perf_counter()\n",
    "    print('Download {} sites in {} seconds'.format(len(sites), end_time - start_time))\n",
    " \n",
    "if __name__ == '__main__':\n",
    "    main()"
   ]
  },
  {
   "cell_type": "markdown",
   "metadata": {},
   "source": [
    "这里，我们首先调用 executor.submit()，将下载每一个网站的内容都放进 future 队列 to_do，等待执行。然后是 as_completed() 函数，在 future 完成后，便输出结果。\n",
    "\n",
    "不过，这里要注意，future 列表中每个 future 完成的顺序，和它在列表中的顺序并不一定完全一致。到底哪个先完成、哪个后完成，取决于系统的调度和每个 future 的执行时间。\n",
    "\n",
    "### 为什么多线程每次只能有一个线程执行？\n",
    "前面我说过，同一时刻，Python 主程序只允许有一个线程执行，所以 Python 的并发，是通过多线程的切换完成的。你可能会疑惑这到底是为什么呢？\n",
    "\n",
    "这里我简单提一下全局解释器锁的概念，具体内容后面会讲到。\n",
    "\n",
    "事实上，Python 的解释器并不是线程安全的，为了解决由此带来的 race condition 等问题，Python 便引入了全局解释器锁，也就是同一时刻，只允许一个线程执行。当然，在执行 I/O 操作时，如果一个线程被 block 了，全局解释器锁便会被释放，从而让另一个线程能够继续执行。\n",
    "\n",
    "### 总结\n",
    "这节课，我们首先学习了 Python 中并发和并行的概念与区别。\n",
    "\n",
    "* 并发，通过线程和任务之间互相切换的方式实现，但同一时刻，只允许有一个线程或任务执行。\n",
    "* 而并行，则是指多个进程完全同步同时的执行。\n",
    "并发通常用于 I/O 操作频繁的场景，而并行则适用于 CPU heavy 的场景。\n",
    "\n",
    "随后，我们通过下载网站内容的例子，比较了单线程和运用 Futures 的多线程版本的性能差异。显而易见，合理地运用多线程，能够极大地提高程序运行效率。\n",
    "\n",
    "我们还一起学习了 Futures 的具体原理，介绍了一些常用函数比如 done()、result()、as_completed() 等的用法，并辅以实例加以理解。\n",
    "\n",
    "要注意，Python 中之所以同一时刻只允许一个线程运行，其实是由于全局解释器锁的存在。但是对 I/O 操作而言，当其被 block 的时候，全局解释器锁便会被释放，使其他线程继续执行。\n",
    "\n",
    "### 思考题\n",
    "最后给你留一道思考题。你能否通过查阅相关文档，为今天所讲的这个下载网站内容的例子，加上合理的异常处理，让程序更加稳定健壮呢？"
   ]
  }
 ],
 "metadata": {
  "kernelspec": {
   "display_name": "Python 3",
   "language": "python",
   "name": "python3"
  },
  "language_info": {
   "codemirror_mode": {
    "name": "ipython",
    "version": 3
   },
   "file_extension": ".py",
   "mimetype": "text/x-python",
   "name": "python",
   "nbconvert_exporter": "python",
   "pygments_lexer": "ipython3",
   "version": "3.7.1"
  }
 },
 "nbformat": 4,
 "nbformat_minor": 2
}
