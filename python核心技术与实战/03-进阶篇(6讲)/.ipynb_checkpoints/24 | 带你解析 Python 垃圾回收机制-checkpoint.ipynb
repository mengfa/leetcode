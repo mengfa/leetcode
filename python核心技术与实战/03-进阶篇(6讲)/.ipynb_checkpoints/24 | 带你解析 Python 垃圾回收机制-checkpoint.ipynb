{
 "cells": [
  {
   "cell_type": "markdown",
   "metadata": {},
   "source": [
    "---\n",
    "title: 24 | 带你解析 Python 垃圾回收机制\n",
    "date: 2019-12-17 20:10:07\n",
    "tags:\n",
    "- python\n",
    "- 极客时间\n",
    "categories:\n",
    "- python核心技术与实战\n",
    "---"
   ]
  },
  {
   "cell_type": "markdown",
   "metadata": {},
   "source": [
    "众所周知，我们当代的计算机都是图灵机架构。图灵机架构的本质，就是一条无限长的纸带，对应着我们今天的存储器。在工程学的演化中，逐渐出现了寄存器、易失性存储器（内存）和永久性存储器（硬盘）等产品。其实，这本身来自一个矛盾：速度越快的存储器，单位价格也越昂贵。因此，妥善利用好每一寸高速存储器的空间，永远是系统设计的一个核心。\n",
    "\n",
    "回到 Python 应用层。\n",
    "\n",
    "我们知道，Python 程序在运行的时候，需要在内存中开辟出一块空间，用于存放运行时产生的临时变量；计算完成后，再将结果输出到永久性存储器中。如果数据量过大，内存空间管理不善就很容易出现 OOM（out of memory），俗称爆内存，程序可能被操作系统中止。\n",
    "\n",
    "而对于服务器，这种设计为永不中断的系统来说，内存管理则显得更为重要，不然很容易引发内存泄漏。什么是内存泄漏呢？\n",
    "\n",
    "* 这里的泄漏，并不是说你的内存出现了信息安全问题，被恶意程序利用了，而是指程序本身没有设计好，导致程序未能释放已不再使用的内存。\n",
    "* 内存泄漏也不是指你的内存在物理上消失了，而是意味着代码在分配了某段内存后，因为设计错误，失去了对这段内存的控制，从而造成了内存的浪费。\n",
    "那么，Python 又是怎么解决这些问题的？换句话说，对于不会再用到的内存空间，Python 是通过什么机制来回收这些空间的呢？\n",
    "\n",
    "### 计数引用\n",
    "我们反复提过好几次， Python 中一切皆对象。因此，你所看到的一切变量，本质上都是对象的一个指针。\n",
    "\n",
    "那么，怎么知道一个对象，是否永远都不能被调用了呢？\n",
    "\n",
    "我们上节课提到过的，也是非常直观的一个想法，就是当这个对象的引用计数（指针数）为 0 的时候，说明这个对象永不可达，自然它也就成为了垃圾，需要被回收。\n",
    "\n",
    "我们来看一个例子："
   ]
  },
  {
   "cell_type": "code",
   "execution_count": 2,
   "metadata": {},
   "outputs": [
    {
     "name": "stdout",
     "output_type": "stream",
     "text": [
      "initial memory used: 34.12890625 MB\n",
      "after a created memory used: 425.38671875 MB\n",
      "finished memory used: 38.30859375 MB\n"
     ]
    }
   ],
   "source": [
    "import os\n",
    "import psutil\n",
    " \n",
    "# 显示当前 python 程序占用的内存大小\n",
    "def show_memory_info(hint):\n",
    "    pid = os.getpid()\n",
    "    p = psutil.Process(pid)\n",
    "    \n",
    "    info = p.memory_full_info()\n",
    "    memory = info.uss / 1024. / 1024\n",
    "    print('{} memory used: {} MB'.format(hint, memory))\n",
    "\n",
    "def func():\n",
    "    show_memory_info('initial')\n",
    "    a = [i for i in range(10000000)]\n",
    "    show_memory_info('after a created')\n",
    " \n",
    "func()\n",
    "show_memory_info('finished')\n"
   ]
  },
  {
   "cell_type": "markdown",
   "metadata": {},
   "source": [
    "通过这个示例，你可以看到，调用函数 func()，在列表 a 被创建之后，内存占用迅速增加到了 433 MB：而在函数调用结束后，内存则返回正常。\n",
    "\n",
    "这是因为，函数内部声明的列表 a 是局部变量，在函数返回后，局部变量的引用会注销掉；此时，列表 a 所指代对象的引用数为 0，Python 便会执行垃圾回收，因此之前占用的大量内存就又回来了。\n",
    "\n",
    "明白了这个原理后，我们稍微修改一下代码："
   ]
  },
  {
   "cell_type": "code",
   "execution_count": 3,
   "metadata": {},
   "outputs": [
    {
     "name": "stdout",
     "output_type": "stream",
     "text": [
      "initial memory used: 38.06640625 MB\n",
      "after a created memory used: 424.90625 MB\n",
      "finished memory used: 424.91015625 MB\n"
     ]
    }
   ],
   "source": [
    "def func():\n",
    "    show_memory_info('initial')\n",
    "    global a\n",
    "    a = [i for i in range(10000000)]\n",
    "    show_memory_info('after a created')\n",
    " \n",
    "func()\n",
    "show_memory_info('finished')"
   ]
  },
  {
   "cell_type": "markdown",
   "metadata": {},
   "source": [
    "新的这段代码中，global a 表示将 a 声明为全局变量。那么，即使函数返回后，列表的引用依然存在，于是对象就不会被垃圾回收掉，依然占用大量内存。\n",
    "\n",
    "同样，如果我们把生成的列表返回，然后在主程序中接收，那么引用依然存在，垃圾回收就不会被触发，大量内存仍然被占用着："
   ]
  },
  {
   "cell_type": "code",
   "execution_count": 6,
   "metadata": {},
   "outputs": [
    {
     "name": "stdout",
     "output_type": "stream",
     "text": [
      "initial memory used: 425.5390625 MB\n",
      "after a created memory used: 812.56640625 MB\n",
      "finished memory used: 425.96875 MB\n"
     ]
    }
   ],
   "source": [
    "def func():\n",
    "    show_memory_info('initial')\n",
    "    a = [i for i in range(10000000)]\n",
    "    show_memory_info('after a created')\n",
    "    return a\n",
    " \n",
    "a = func()\n",
    "show_memory_info('finished')"
   ]
  },
  {
   "cell_type": "markdown",
   "metadata": {},
   "source": [
    "这是最常见的几种情况。由表及里，下面，我们深入看一下 Python 内部的引用计数机制。老规矩，先来看代码："
   ]
  },
  {
   "cell_type": "code",
   "execution_count": 7,
   "metadata": {},
   "outputs": [
    {
     "name": "stdout",
     "output_type": "stream",
     "text": [
      "2\n",
      "4\n",
      "2\n"
     ]
    }
   ],
   "source": [
    "import sys\n",
    " \n",
    "a = []\n",
    " \n",
    "# 两次引用，一次来自 a，一次来自 getrefcount\n",
    "print(sys.getrefcount(a))\n",
    " \n",
    "def func(a):\n",
    "    # 四次引用，a，python 的函数调用栈，函数参数，和 getrefcount\n",
    "    print(sys.getrefcount(a))\n",
    " \n",
    "func(a)\n",
    " \n",
    "# 两次引用，一次来自 a，一次来自 getrefcount，函数 func 调用已经不存在\n",
    "print(sys.getrefcount(a))"
   ]
  },
  {
   "cell_type": "code",
   "execution_count": 9,
   "metadata": {},
   "outputs": [
    {
     "name": "stdout",
     "output_type": "stream",
     "text": [
      "2\n",
      "3\n",
      "8\n",
      "8\n"
     ]
    }
   ],
   "source": [
    "import sys\n",
    " \n",
    "a = []\n",
    " \n",
    "print(sys.getrefcount(a)) # 两次\n",
    " \n",
    "b = a\n",
    " \n",
    "print(sys.getrefcount(a)) # 三次\n",
    " \n",
    "c = b\n",
    "d = b\n",
    "e = c\n",
    "f = e\n",
    "g = d\n",
    " \n",
    "print(sys.getrefcount(a)) # 八次\n",
    "print(sys.getrefcount(b)) # 八次"
   ]
  },
  {
   "cell_type": "markdown",
   "metadata": {},
   "source": [
    "看到这段代码，需要你稍微注意一下，a、b、c、d、e、f、g 这些变量全部指代的是同一个对象，而 sys.getrefcount() 函数并不是统计一个指针，而是要统计一个对象被引用的次数，所以最后一共会有八次引用。\n",
    "\n",
    "理解引用这个概念后，引用释放是一种非常自然和清晰的思想。相比 C 语言里，你需要使用 free 去手动释放内存，Python 的垃圾回收在这里可以说是省心省力了。\n",
    "\n",
    "不过，我想还是会有人问，如果我偏偏想手动释放内存，应该怎么做呢？\n",
    "\n",
    "方法同样很简单。你只需要先调用 del a 来删除一个对象；然后强制调用 gc.collect()，即可手动启动垃圾回收。"
   ]
  },
  {
   "cell_type": "code",
   "execution_count": 10,
   "metadata": {},
   "outputs": [
    {
     "name": "stdout",
     "output_type": "stream",
     "text": [
      "initial memory used: 34.25390625 MB\n",
      "after a created memory used: 421.50390625 MB\n",
      "finish memory used: 36.76953125 MB\n"
     ]
    },
    {
     "ename": "NameError",
     "evalue": "name 'a' is not defined",
     "output_type": "error",
     "traceback": [
      "\u001b[0;31m---------------------------------------------------------------------------\u001b[0m",
      "\u001b[0;31mNameError\u001b[0m                                 Traceback (most recent call last)",
      "\u001b[0;32m<ipython-input-10-d0af83fbc251>\u001b[0m in \u001b[0;36m<module>\u001b[0;34m\u001b[0m\n\u001b[1;32m     11\u001b[0m \u001b[0;34m\u001b[0m\u001b[0m\n\u001b[1;32m     12\u001b[0m \u001b[0mshow_memory_info\u001b[0m\u001b[0;34m(\u001b[0m\u001b[0;34m'finish'\u001b[0m\u001b[0;34m)\u001b[0m\u001b[0;34m\u001b[0m\u001b[0;34m\u001b[0m\u001b[0m\n\u001b[0;32m---> 13\u001b[0;31m \u001b[0mprint\u001b[0m\u001b[0;34m(\u001b[0m\u001b[0ma\u001b[0m\u001b[0;34m)\u001b[0m\u001b[0;34m\u001b[0m\u001b[0;34m\u001b[0m\u001b[0m\n\u001b[0m",
      "\u001b[0;31mNameError\u001b[0m: name 'a' is not defined"
     ]
    }
   ],
   "source": [
    "import gc\n",
    " \n",
    "show_memory_info('initial')\n",
    " \n",
    "a = [i for i in range(10000000)]\n",
    " \n",
    "show_memory_info('after a created')\n",
    " \n",
    "del a\n",
    "gc.collect()\n",
    " \n",
    "show_memory_info('finish')\n",
    "print(a)"
   ]
  },
  {
   "cell_type": "markdown",
   "metadata": {},
   "source": [
    "到这里，是不是觉得垃圾回收非常简单呀？\n",
    "\n",
    "我想，肯定有人觉得自己都懂了，那么，如果此时有面试官问：引用次数为 0 是垃圾回收启动的充要条件吗？还有没有其他可能性呢？\n",
    "\n",
    "这个问题，你能回答的上来吗？\n",
    "\n",
    "### 循环引用\n",
    "如果你也被困住了，别急。我们不妨小步设问，先来思考这么一个问题：如果有两个对象，它们互相引用，并且不再被别的对象所引用，那么它们应该被垃圾回收吗？\n",
    "\n",
    "请仔细观察下面这段代码："
   ]
  },
  {
   "cell_type": "code",
   "execution_count": 21,
   "metadata": {},
   "outputs": [
    {
     "name": "stdout",
     "output_type": "stream",
     "text": [
      "initial memory used: 30.015625 MB\n",
      "after a, b created memory used: 566.953125 MB\n",
      "finished memory used: 566.95703125 MB\n"
     ]
    }
   ],
   "source": [
    "def func():\n",
    "    show_memory_info('initial')\n",
    "    a = [i for i in range(10000000)]\n",
    "    b = [i for i in range(10000000)]\n",
    "    show_memory_info('after a, b created')\n",
    "    a.append(b)\n",
    "    b.append(a)\n",
    " \n",
    "func()\n",
    "show_memory_info('finished')\n"
   ]
  },
  {
   "cell_type": "markdown",
   "metadata": {},
   "source": [
    "这里，a 和 b 互相引用，并且，作为局部变量，在函数 func 调用结束后，a 和 b 这两个指针从程序意义上已经不存在了。但是，很明显，依然有内存占用！为什么呢？因为互相引用，导致它们的引用数都不为 0。\n",
    "\n",
    "试想一下，如果这段代码出现在生产环境中，哪怕 a 和 b 一开始占用的空间不是很大，但经过长时间运行后，Python 所占用的内存一定会变得越来越大，最终撑爆服务器，后果不堪设想。\n",
    "\n",
    "当然，有人可能会说，互相引用还是很容易被发现的呀，问题不大。可是，更隐蔽的情况是出现一个引用环，在工程代码比较复杂的情况下，引用环还真不一定能被轻易发现。\n",
    "\n",
    "那么，我们应该怎么做呢？\n",
    "\n",
    "事实上，Python 本身能够处理这种情况，我们刚刚讲过的，可以显式调用 gc.collect() ，来启动垃圾回收。"
   ]
  },
  {
   "cell_type": "code",
   "execution_count": 15,
   "metadata": {},
   "outputs": [
    {
     "name": "stdout",
     "output_type": "stream",
     "text": [
      "initial memory used: 792.0390625 MB\n",
      "after a, b created memory used: 1547.546875 MB\n",
      "finished memory used: 36.73046875 MB\n"
     ]
    }
   ],
   "source": [
    "import gc\n",
    " \n",
    "def func():\n",
    "    show_memory_info('initial')\n",
    "    a = [i for i in range(10000000)]\n",
    "    b = [i for i in range(10000000)]\n",
    "    show_memory_info('after a, b created')\n",
    "    a.append(b)\n",
    "    b.append(a)\n",
    " \n",
    "func()\n",
    "gc.collect()\n",
    "show_memory_info('finished')"
   ]
  },
  {
   "cell_type": "markdown",
   "metadata": {},
   "source": [
    "所以你看，Python 的垃圾回收机制并没有那么弱。\n",
    "\n",
    "Python 使用标记清除（mark-sweep）算法和分代收集（generational），来启用针对循环引用的自动垃圾回收。你可能不太熟悉这两个词，这里我简单介绍一下。\n",
    "\n",
    "先来看标记清除算法。我们先用图论来理解不可达的概念。对于一个有向图，如果从一个节点出发进行遍历，并标记其经过的所有节点；那么，在遍历结束后，所有没有被标记的节点，我们就称之为不可达节点。显而易见，这些节点的存在是没有任何意义的，自然的，我们就需要对它们进行垃圾回收。\n",
    "\n",
    "当然，每次都遍历全图，对于 Python 而言是一种巨大的性能浪费。所以，在 Python 的垃圾回收实现中，mark-sweep 使用双向链表维护了一个数据结构，并且只考虑容器类的对象（只有容器类对象才有可能产生循环引用）。具体算法这里我就不再多讲了，毕竟我们的重点是关注应用。\n",
    "\n",
    "而分代收集算法，则是另一个优化手段。\n",
    "\n",
    "Python 将所有对象分为三代。刚刚创立的对象是第 0 代；经过一次垃圾回收后，依然存在的对象，便会依次从上一代挪到下一代。而每一代启动自动垃圾回收的阈值，则是可以单独指定的。当垃圾回收器中新增对象减去删除对象达到相应的阈值时，就会对这一代对象启动垃圾回收。\n",
    "\n",
    "事实上，分代收集基于的思想是，新生的对象更有可能被垃圾回收，而存活更久的对象也有更高的概率继续存活。因此，通过这种做法，可以节约不少计算量，从而提高 Python 的性能。\n",
    "\n",
    "学了这么多，刚刚面试官的问题，你应该能回答得上来了吧！没错，引用计数是其中最简单的实现，不过切记，引用计数并非充要条件，它只能算作充分非必要条件；至于其他的可能性，我们所讲的循环引用正是其中一种。\n",
    "\n",
    "### 调试内存泄漏\n",
    "不过，虽然有了自动回收机制，但这也不是万能的，难免还是会有漏网之鱼。内存泄漏是我们不想见到的，而且还会严重影响性能。有没有什么好的调试手段呢？\n",
    "\n",
    "答案当然是肯定的，接下来我就为你介绍一个“得力助手”。\n",
    "\n",
    "它就是 objgraph，一个非常好用的可视化引用关系的包。在这个包中，我主要推荐两个函数，第一个是 show_refs()，它可以生成清晰的引用关系图。\n",
    "\n",
    "通过下面这段代码和生成的引用调用图，你能非常直观地发现，有两个 list 互相引用，说明这里极有可能引起内存泄露。这样一来，再去代码层排查就容易多了。"
   ]
  },
  {
   "cell_type": "code",
   "execution_count": 19,
   "metadata": {},
   "outputs": [
    {
     "data": {
      "image/svg+xml": [
       "<?xml version=\"1.0\" encoding=\"UTF-8\" standalone=\"no\"?>\n",
       "<!DOCTYPE svg PUBLIC \"-//W3C//DTD SVG 1.1//EN\"\n",
       " \"http://www.w3.org/Graphics/SVG/1.1/DTD/svg11.dtd\">\n",
       "<!-- Generated by graphviz version 2.40.1 (20161225.0304)\n",
       " -->\n",
       "<!-- Title: ObjectGraph Pages: 1 -->\n",
       "<svg width=\"351pt\" height=\"188pt\"\n",
       " viewBox=\"0.00 0.00 351.00 188.00\" xmlns=\"http://www.w3.org/2000/svg\" xmlns:xlink=\"http://www.w3.org/1999/xlink\">\n",
       "<g id=\"graph0\" class=\"graph\" transform=\"scale(1 1) rotate(0) translate(4 184)\">\n",
       "<title>ObjectGraph</title>\n",
       "<polygon fill=\"#ffffff\" stroke=\"transparent\" points=\"-4,4 -4,-184 347,-184 347,4 -4,4\"/>\n",
       "<!-- o4937650120 -->\n",
       "<g id=\"node1\" class=\"node\">\n",
       "<title>o4937650120</title>\n",
       "<polygon fill=\"#ffffff\" stroke=\"#000000\" points=\"200.3313,-180 143.6687,-180 143.6687,-144 200.3313,-144 200.3313,-180\"/>\n",
       "<text text-anchor=\"middle\" x=\"172\" y=\"-164.8\" font-family=\"Times,serif\" font-size=\"14.00\" fill=\"#ff0000\">list</text>\n",
       "<text text-anchor=\"middle\" x=\"172\" y=\"-150.8\" font-family=\"Times,serif\" font-size=\"14.00\" fill=\"#ff0000\">4 items</text>\n",
       "</g>\n",
       "<!-- o4937644104 -->\n",
       "<g id=\"node2\" class=\"node\">\n",
       "<title>o4937644104</title>\n",
       "<polygon fill=\"#c3c3c3\" stroke=\"#000000\" points=\"127.3313,-108 70.6687,-108 70.6687,-72 127.3313,-72 127.3313,-108\"/>\n",
       "<text text-anchor=\"middle\" x=\"99\" y=\"-92.8\" font-family=\"Times,serif\" font-size=\"14.00\" fill=\"#000000\">list</text>\n",
       "<text text-anchor=\"middle\" x=\"99\" y=\"-78.8\" font-family=\"Times,serif\" font-size=\"14.00\" fill=\"#000000\">4 items</text>\n",
       "</g>\n",
       "<!-- o4937650120&#45;&gt;o4937644104 -->\n",
       "<g id=\"edge1\" class=\"edge\">\n",
       "<title>o4937650120&#45;&gt;o4937644104</title>\n",
       "<path fill=\"none\" stroke=\"#000000\" d=\"M147.6266,-143.8314C138.2225,-135.3694 127.6749,-125.1489 118.7488,-115.8971\"/>\n",
       "<polygon fill=\"#000000\" stroke=\"#000000\" points=\"121.0996,-113.2884 111.693,-108.4133 116.0063,-118.0904 121.0996,-113.2884\"/>\n",
       "</g>\n",
       "<!-- o4560028848 -->\n",
       "<g id=\"node3\" class=\"node\">\n",
       "<title>o4560028848</title>\n",
       "<polygon fill=\"#c3c3c3\" stroke=\"#000000\" points=\"199,-108 145,-108 145,-72 199,-72 199,-108\"/>\n",
       "<text text-anchor=\"middle\" x=\"172\" y=\"-92.8\" font-family=\"Times,serif\" font-size=\"14.00\" fill=\"#000000\">int</text>\n",
       "<text text-anchor=\"middle\" x=\"172\" y=\"-78.8\" font-family=\"Times,serif\" font-size=\"14.00\" fill=\"#000000\">3</text>\n",
       "</g>\n",
       "<!-- o4937650120&#45;&gt;o4560028848 -->\n",
       "<g id=\"edge2\" class=\"edge\">\n",
       "<title>o4937650120&#45;&gt;o4560028848</title>\n",
       "<path fill=\"none\" stroke=\"#000000\" d=\"M172,-143.8314C172,-136.131 172,-126.9743 172,-118.4166\"/>\n",
       "<polygon fill=\"#000000\" stroke=\"#000000\" points=\"175.5001,-118.4132 172,-108.4133 168.5001,-118.4133 175.5001,-118.4132\"/>\n",
       "</g>\n",
       "<!-- o4560028816 -->\n",
       "<g id=\"node4\" class=\"node\">\n",
       "<title>o4560028816</title>\n",
       "<polygon fill=\"#c3c3c3\" stroke=\"#000000\" points=\"271,-108 217,-108 217,-72 271,-72 271,-108\"/>\n",
       "<text text-anchor=\"middle\" x=\"244\" y=\"-92.8\" font-family=\"Times,serif\" font-size=\"14.00\" fill=\"#000000\">int</text>\n",
       "<text text-anchor=\"middle\" x=\"244\" y=\"-78.8\" font-family=\"Times,serif\" font-size=\"14.00\" fill=\"#000000\">2</text>\n",
       "</g>\n",
       "<!-- o4937650120&#45;&gt;o4560028816 -->\n",
       "<g id=\"edge3\" class=\"edge\">\n",
       "<title>o4937650120&#45;&gt;o4560028816</title>\n",
       "<path fill=\"none\" stroke=\"#000000\" d=\"M190.1686,-143.8314C198.7152,-135.2848 209.0557,-124.9443 218.3802,-115.6198\"/>\n",
       "<polygon fill=\"#000000\" stroke=\"#000000\" points=\"220.9905,-117.9592 225.5867,-108.4133 216.0408,-113.0095 220.9905,-117.9592\"/>\n",
       "</g>\n",
       "<!-- o4560028784 -->\n",
       "<g id=\"node5\" class=\"node\">\n",
       "<title>o4560028784</title>\n",
       "<polygon fill=\"#c3c3c3\" stroke=\"#000000\" points=\"343,-108 289,-108 289,-72 343,-72 343,-108\"/>\n",
       "<text text-anchor=\"middle\" x=\"316\" y=\"-92.8\" font-family=\"Times,serif\" font-size=\"14.00\" fill=\"#000000\">int</text>\n",
       "<text text-anchor=\"middle\" x=\"316\" y=\"-78.8\" font-family=\"Times,serif\" font-size=\"14.00\" fill=\"#000000\">1</text>\n",
       "</g>\n",
       "<!-- o4937650120&#45;&gt;o4560028784 -->\n",
       "<g id=\"edge4\" class=\"edge\">\n",
       "<title>o4937650120&#45;&gt;o4560028784</title>\n",
       "<path fill=\"none\" stroke=\"#000000\" d=\"M200.4498,-147.7751C223.1259,-136.4371 255.0336,-120.4832 279.5756,-108.2122\"/>\n",
       "<polygon fill=\"#000000\" stroke=\"#000000\" points=\"281.2074,-111.3095 288.5864,-103.7068 278.0768,-105.0485 281.2074,-111.3095\"/>\n",
       "</g>\n",
       "<!-- o4937644104&#45;&gt;o4937650120 -->\n",
       "<g id=\"edge5\" class=\"edge\">\n",
       "<title>o4937644104&#45;&gt;o4937650120</title>\n",
       "<path fill=\"none\" stroke=\"#000000\" d=\"M123.3669,-108.1628C132.8429,-116.6891 143.4806,-127.0016 152.4508,-136.3099\"/>\n",
       "<polygon fill=\"#000000\" stroke=\"#000000\" points=\"150.1285,-138.9492 159.5314,-143.8314 155.2254,-134.151 150.1285,-138.9492\"/>\n",
       "</g>\n",
       "<!-- o4560028944 -->\n",
       "<g id=\"node6\" class=\"node\">\n",
       "<title>o4560028944</title>\n",
       "<polygon fill=\"#878787\" stroke=\"#000000\" points=\"54,-36 0,-36 0,0 54,0 54,-36\"/>\n",
       "<text text-anchor=\"middle\" x=\"27\" y=\"-20.8\" font-family=\"Times,serif\" font-size=\"14.00\" fill=\"#000000\">int</text>\n",
       "<text text-anchor=\"middle\" x=\"27\" y=\"-6.8\" font-family=\"Times,serif\" font-size=\"14.00\" fill=\"#000000\">6</text>\n",
       "</g>\n",
       "<!-- o4937644104&#45;&gt;o4560028944 -->\n",
       "<g id=\"edge6\" class=\"edge\">\n",
       "<title>o4937644104&#45;&gt;o4560028944</title>\n",
       "<path fill=\"none\" stroke=\"#000000\" d=\"M80.8314,-71.8314C72.2848,-63.2848 61.9443,-52.9443 52.6198,-43.6198\"/>\n",
       "<polygon fill=\"#000000\" stroke=\"#000000\" points=\"54.9592,-41.0095 45.4133,-36.4133 50.0095,-45.9592 54.9592,-41.0095\"/>\n",
       "</g>\n",
       "<!-- o4560028912 -->\n",
       "<g id=\"node7\" class=\"node\">\n",
       "<title>o4560028912</title>\n",
       "<polygon fill=\"#878787\" stroke=\"#000000\" points=\"126,-36 72,-36 72,0 126,0 126,-36\"/>\n",
       "<text text-anchor=\"middle\" x=\"99\" y=\"-20.8\" font-family=\"Times,serif\" font-size=\"14.00\" fill=\"#000000\">int</text>\n",
       "<text text-anchor=\"middle\" x=\"99\" y=\"-6.8\" font-family=\"Times,serif\" font-size=\"14.00\" fill=\"#000000\">5</text>\n",
       "</g>\n",
       "<!-- o4937644104&#45;&gt;o4560028912 -->\n",
       "<g id=\"edge7\" class=\"edge\">\n",
       "<title>o4937644104&#45;&gt;o4560028912</title>\n",
       "<path fill=\"none\" stroke=\"#000000\" d=\"M99,-71.8314C99,-64.131 99,-54.9743 99,-46.4166\"/>\n",
       "<polygon fill=\"#000000\" stroke=\"#000000\" points=\"102.5001,-46.4132 99,-36.4133 95.5001,-46.4133 102.5001,-46.4132\"/>\n",
       "</g>\n",
       "<!-- o4560028880 -->\n",
       "<g id=\"node8\" class=\"node\">\n",
       "<title>o4560028880</title>\n",
       "<polygon fill=\"#878787\" stroke=\"#000000\" points=\"198,-36 144,-36 144,0 198,0 198,-36\"/>\n",
       "<text text-anchor=\"middle\" x=\"171\" y=\"-20.8\" font-family=\"Times,serif\" font-size=\"14.00\" fill=\"#000000\">int</text>\n",
       "<text text-anchor=\"middle\" x=\"171\" y=\"-6.8\" font-family=\"Times,serif\" font-size=\"14.00\" fill=\"#000000\">4</text>\n",
       "</g>\n",
       "<!-- o4937644104&#45;&gt;o4560028880 -->\n",
       "<g id=\"edge8\" class=\"edge\">\n",
       "<title>o4937644104&#45;&gt;o4560028880</title>\n",
       "<path fill=\"none\" stroke=\"#000000\" d=\"M117.1686,-71.8314C125.7152,-63.2848 136.0557,-52.9443 145.3802,-43.6198\"/>\n",
       "<polygon fill=\"#000000\" stroke=\"#000000\" points=\"147.9905,-45.9592 152.5867,-36.4133 143.0408,-41.0095 147.9905,-45.9592\"/>\n",
       "</g>\n",
       "</g>\n",
       "</svg>\n"
      ],
      "text/plain": [
       "<graphviz.files.Source at 0x1121ffac8>"
      ]
     },
     "execution_count": 19,
     "metadata": {},
     "output_type": "execute_result"
    }
   ],
   "source": [
    "import objgraph\n",
    " \n",
    "a = [1, 2, 3]\n",
    "b = [4, 5, 6]\n",
    " \n",
    "a.append(b)\n",
    "b.append(a)\n",
    " \n",
    "objgraph.show_refs([a])"
   ]
  },
  {
   "cell_type": "markdown",
   "metadata": {},
   "source": [
    "而另一个非常有用的函数，是 show_backrefs()。下面同样为示例代码和生成图，你可以自己先阅读一下："
   ]
  },
  {
   "cell_type": "code",
   "execution_count": 20,
   "metadata": {},
   "outputs": [
    {
     "data": {
      "image/svg+xml": [
       "<?xml version=\"1.0\" encoding=\"UTF-8\" standalone=\"no\"?>\n",
       "<!DOCTYPE svg PUBLIC \"-//W3C//DTD SVG 1.1//EN\"\n",
       " \"http://www.w3.org/Graphics/SVG/1.1/DTD/svg11.dtd\">\n",
       "<!-- Generated by graphviz version 2.40.1 (20161225.0304)\n",
       " -->\n",
       "<!-- Title: ObjectGraph Pages: 1 -->\n",
       "<svg width=\"773pt\" height=\"461pt\"\n",
       " viewBox=\"0.00 0.00 772.63 461.00\" xmlns=\"http://www.w3.org/2000/svg\" xmlns:xlink=\"http://www.w3.org/1999/xlink\">\n",
       "<g id=\"graph0\" class=\"graph\" transform=\"scale(1 1) rotate(0) translate(4 457)\">\n",
       "<title>ObjectGraph</title>\n",
       "<polygon fill=\"#ffffff\" stroke=\"transparent\" points=\"-4,4 -4,-457 768.6338,-457 768.6338,4 -4,4\"/>\n",
       "<!-- o4937648712 -->\n",
       "<g id=\"node1\" class=\"node\">\n",
       "<title>o4937648712</title>\n",
       "<polygon fill=\"#ffffff\" stroke=\"#000000\" points=\"56.7468,-109 .0842,-109 .0842,-73 56.7468,-73 56.7468,-109\"/>\n",
       "<text text-anchor=\"middle\" x=\"28.4155\" y=\"-93.8\" font-family=\"Times,serif\" font-size=\"14.00\" fill=\"#ff0000\">list</text>\n",
       "<text text-anchor=\"middle\" x=\"28.4155\" y=\"-79.8\" font-family=\"Times,serif\" font-size=\"14.00\" fill=\"#ff0000\">4 items</text>\n",
       "</g>\n",
       "<!-- o4598361928 -->\n",
       "<g id=\"node3\" class=\"node\">\n",
       "<title>o4598361928</title>\n",
       "<polygon fill=\"#c3c3c3\" stroke=\"#000000\" points=\"88.7468,-36 32.0842,-36 32.0842,0 88.7468,0 88.7468,-36\"/>\n",
       "<text text-anchor=\"middle\" x=\"60.4155\" y=\"-20.8\" font-family=\"Times,serif\" font-size=\"14.00\" fill=\"#000000\">list</text>\n",
       "<text text-anchor=\"middle\" x=\"60.4155\" y=\"-6.8\" font-family=\"Times,serif\" font-size=\"14.00\" fill=\"#000000\">4 items</text>\n",
       "</g>\n",
       "<!-- o4937648712&#45;&gt;o4598361928 -->\n",
       "<g id=\"edge11\" class=\"edge\">\n",
       "<title>o4937648712&#45;&gt;o4598361928</title>\n",
       "<path fill=\"none\" stroke=\"#000000\" d=\"M30.4099,-72.9551C33.2691,-64.5319 37.5324,-54.3292 42.0312,-45.0128\"/>\n",
       "<polygon fill=\"#000000\" stroke=\"#000000\" points=\"45.1552,-46.5909 46.5653,-36.0904 38.9147,-43.4197 45.1552,-46.5909\"/>\n",
       "</g>\n",
       "<!-- o4597043992 -->\n",
       "<g id=\"node2\" class=\"node\">\n",
       "<title>o4597043992</title>\n",
       "<polygon fill=\"#c3c3c3\" stroke=\"#000000\" points=\"347.2468,-195 283.5842,-195 283.5842,-159 347.2468,-159 347.2468,-195\"/>\n",
       "<text text-anchor=\"middle\" x=\"315.4155\" y=\"-179.8\" font-family=\"Times,serif\" font-size=\"14.00\" fill=\"#000000\">dict</text>\n",
       "<text text-anchor=\"middle\" x=\"315.4155\" y=\"-165.8\" font-family=\"Times,serif\" font-size=\"14.00\" fill=\"#000000\">56 items</text>\n",
       "</g>\n",
       "<!-- o4597043992&#45;&gt;o4937648712 -->\n",
       "<g id=\"edge1\" class=\"edge\">\n",
       "<title>o4597043992&#45;&gt;o4937648712</title>\n",
       "<path fill=\"none\" stroke=\"#000000\" d=\"M283.2606,-174.9906C225.7618,-170.9504 107.9899,-160.5165 72.2017,-141 61.8087,-135.3324 52.7136,-126.1771 45.5451,-117.2399\"/>\n",
       "<polygon fill=\"#000000\" stroke=\"#000000\" points=\"48.3186,-115.1044 39.5216,-109.1998 42.7164,-119.3015 48.3186,-115.1044\"/>\n",
       "<text text-anchor=\"middle\" x=\"75.5225\" y=\"-129.8\" font-family=\"Times,serif\" font-size=\"14.00\" fill=\"#000000\">a</text>\n",
       "</g>\n",
       "<!-- o4597043992&#45;&gt;o4598361928 -->\n",
       "<g id=\"edge10\" class=\"edge\">\n",
       "<title>o4597043992&#45;&gt;o4598361928</title>\n",
       "<path fill=\"none\" stroke=\"#000000\" d=\"M283.5787,-170.6851C230.4784,-159.5516 127.1119,-135.1247 101.4155,-109 84.2388,-91.5369 73.5303,-65.6129 67.384,-45.8966\"/>\n",
       "<polygon fill=\"#000000\" stroke=\"#000000\" points=\"70.7266,-44.8563 64.5757,-36.2297 64.0045,-46.8092 70.7266,-44.8563\"/>\n",
       "<text text-anchor=\"middle\" x=\"104.9155\" y=\"-86.8\" font-family=\"Times,serif\" font-size=\"14.00\" fill=\"#000000\">b</text>\n",
       "</g>\n",
       "<!-- o4599283784 -->\n",
       "<g id=\"node8\" class=\"node\">\n",
       "<title>o4599283784</title>\n",
       "<polygon fill=\"#878787\" stroke=\"#000000\" points=\"391.3231,-109 117.508,-109 117.508,-73 391.3231,-73 391.3231,-109\"/>\n",
       "<text text-anchor=\"middle\" x=\"254.4155\" y=\"-93.8\" font-family=\"Times,serif\" font-size=\"14.00\" fill=\"#000000\">function</text>\n",
       "<text text-anchor=\"middle\" x=\"254.4155\" y=\"-79.8\" font-family=\"Times,serif\" font-size=\"14.00\" fill=\"#000000\">&lt;function show_memory_info at 0x11223804</text>\n",
       "</g>\n",
       "<!-- o4597043992&#45;&gt;o4599283784 -->\n",
       "<g id=\"edge15\" class=\"edge\">\n",
       "<title>o4597043992&#45;&gt;o4599283784</title>\n",
       "<path fill=\"none\" stroke=\"#000000\" d=\"M283.3393,-173.2064C246.5403,-168.1173 189.5953,-157.7323 176.6499,-141 168.5094,-130.4781 173.7915,-121.5283 184.6581,-114.2355\"/>\n",
       "<polygon fill=\"#000000\" stroke=\"#000000\" points=\"186.4961,-117.2165 193.4456,-109.2193 183.0258,-111.1372 186.4961,-117.2165\"/>\n",
       "<text text-anchor=\"middle\" x=\"233.7983\" y=\"-129.8\" font-family=\"Times,serif\" font-size=\"14.00\" fill=\"#000000\">show_memory_info</text>\n",
       "</g>\n",
       "<!-- o4598634832 -->\n",
       "<g id=\"node9\" class=\"node\">\n",
       "<title>o4598634832</title>\n",
       "<polygon fill=\"#878787\" stroke=\"#000000\" points=\"609.829,-109 409.002,-109 409.002,-73 609.829,-73 609.829,-109\"/>\n",
       "<text text-anchor=\"middle\" x=\"509.4155\" y=\"-93.8\" font-family=\"Times,serif\" font-size=\"14.00\" fill=\"#000000\">function</text>\n",
       "<text text-anchor=\"middle\" x=\"509.4155\" y=\"-79.8\" font-family=\"Times,serif\" font-size=\"14.00\" fill=\"#000000\">&lt;function func at 0x112199950&gt;</text>\n",
       "</g>\n",
       "<!-- o4597043992&#45;&gt;o4598634832 -->\n",
       "<g id=\"edge16\" class=\"edge\">\n",
       "<title>o4597043992&#45;&gt;o4598634832</title>\n",
       "<path fill=\"none\" stroke=\"#000000\" d=\"M347.4507,-162.7988C377.8786,-149.3102 424.0908,-128.8244 459.376,-113.1825\"/>\n",
       "<polygon fill=\"#000000\" stroke=\"#000000\" points=\"460.831,-116.366 468.5546,-109.1136 457.9941,-109.9666 460.831,-116.366\"/>\n",
       "<text text-anchor=\"middle\" x=\"436.8535\" y=\"-129.8\" font-family=\"Times,serif\" font-size=\"14.00\" fill=\"#000000\">func</text>\n",
       "</g>\n",
       "<!-- o4598361928&#45;&gt;o4937648712 -->\n",
       "<g id=\"edge2\" class=\"edge\">\n",
       "<title>o4598361928&#45;&gt;o4937648712</title>\n",
       "<path fill=\"none\" stroke=\"#000000\" d=\"M58.4057,-36.0904C55.5415,-44.5199 51.2753,-54.7241 46.7756,-64.0374\"/>\n",
       "<polygon fill=\"#000000\" stroke=\"#000000\" points=\"43.6539,-62.4548 42.2414,-72.9551 49.8936,-65.6275 43.6539,-62.4548\"/>\n",
       "</g>\n",
       "<!-- o4596796656 -->\n",
       "<g id=\"node4\" class=\"node\">\n",
       "<title>o4596796656</title>\n",
       "<polygon fill=\"#878787\" stroke=\"#000000\" points=\"215.2468,-367 151.5842,-367 151.5842,-331 215.2468,-331 215.2468,-367\"/>\n",
       "<text text-anchor=\"middle\" x=\"183.4155\" y=\"-351.8\" font-family=\"Times,serif\" font-size=\"14.00\" fill=\"#000000\">dict</text>\n",
       "<text text-anchor=\"middle\" x=\"183.4155\" y=\"-337.8\" font-family=\"Times,serif\" font-size=\"14.00\" fill=\"#000000\">44 items</text>\n",
       "</g>\n",
       "<!-- o4596796656&#45;&gt;o4597043992 -->\n",
       "<g id=\"edge3\" class=\"edge\">\n",
       "<title>o4596796656&#45;&gt;o4597043992</title>\n",
       "<path fill=\"none\" stroke=\"#000000\" d=\"M168.7457,-330.7308C153.0705,-308.8325 132.7461,-271.747 150.6431,-245 177.8157,-204.3906 234.1486,-188.007 273.3358,-181.4137\"/>\n",
       "<polygon fill=\"#000000\" stroke=\"#000000\" points=\"274.0437,-184.8461 283.3975,-179.8704 272.9824,-177.927 274.0437,-184.8461\"/>\n",
       "<text text-anchor=\"middle\" x=\"172.8018\" y=\"-258.8\" font-family=\"Times,serif\" font-size=\"14.00\" fill=\"#000000\">user_ns</text>\n",
       "</g>\n",
       "<!-- o4597044280 -->\n",
       "<g id=\"node6\" class=\"node\">\n",
       "<title>o4597044280</title>\n",
       "<polygon fill=\"#878787\" stroke=\"#000000\" points=\"258.7468,-281 202.0842,-281 202.0842,-245 258.7468,-245 258.7468,-281\"/>\n",
       "<text text-anchor=\"middle\" x=\"230.4155\" y=\"-265.8\" font-family=\"Times,serif\" font-size=\"14.00\" fill=\"#000000\">dict</text>\n",
       "<text text-anchor=\"middle\" x=\"230.4155\" y=\"-251.8\" font-family=\"Times,serif\" font-size=\"14.00\" fill=\"#000000\">3 items</text>\n",
       "</g>\n",
       "<!-- o4596796656&#45;&gt;o4597044280 -->\n",
       "<g id=\"edge13\" class=\"edge\">\n",
       "<title>o4596796656&#45;&gt;o4597044280</title>\n",
       "<path fill=\"none\" stroke=\"#000000\" d=\"M193.383,-330.7616C199.8013,-319.0176 208.2624,-303.5355 215.4767,-290.3349\"/>\n",
       "<polygon fill=\"#000000\" stroke=\"#000000\" points=\"218.738,-291.6657 220.4624,-281.2121 212.5954,-288.3087 218.738,-291.6657\"/>\n",
       "<text text-anchor=\"middle\" x=\"233.7432\" y=\"-301.8\" font-family=\"Times,serif\" font-size=\"14.00\" fill=\"#000000\">ns_table</text>\n",
       "</g>\n",
       "<!-- o4574265160 -->\n",
       "<g id=\"node5\" class=\"node\">\n",
       "<title>o4574265160</title>\n",
       "<polygon fill=\"#1b8700\" stroke=\"#000000\" points=\"351.4087,-281 279.4224,-281 279.4224,-245 351.4087,-245 351.4087,-281\"/>\n",
       "<text text-anchor=\"middle\" x=\"315.4155\" y=\"-265.8\" font-family=\"Times,serif\" font-size=\"14.00\" fill=\"#000000\">module</text>\n",
       "<text text-anchor=\"middle\" x=\"315.4155\" y=\"-251.8\" font-family=\"Times,serif\" font-size=\"14.00\" fill=\"#000000\">__main__</text>\n",
       "</g>\n",
       "<!-- o4574265160&#45;&gt;o4597043992 -->\n",
       "<g id=\"edge4\" class=\"edge\">\n",
       "<title>o4574265160&#45;&gt;o4597043992</title>\n",
       "<path fill=\"none\" stroke=\"#000000\" d=\"M315.4155,-244.7616C315.4155,-233.3597 315.4155,-218.4342 315.4155,-205.494\"/>\n",
       "<polygon fill=\"#000000\" stroke=\"#000000\" points=\"318.9156,-205.2121 315.4155,-195.2121 311.9156,-205.2121 318.9156,-205.2121\"/>\n",
       "<text text-anchor=\"middle\" x=\"339.9121\" y=\"-215.8\" font-family=\"Times,serif\" font-size=\"14.00\" fill=\"#000000\">__dict__</text>\n",
       "</g>\n",
       "<!-- o4597044280&#45;&gt;o4597043992 -->\n",
       "<g id=\"edge5\" class=\"edge\">\n",
       "<title>o4597044280&#45;&gt;o4597043992</title>\n",
       "<path fill=\"none\" stroke=\"#000000\" d=\"M232.6448,-244.6919C234.6947,-234.4225 238.6154,-221.9225 246.0981,-213 253.6464,-203.9994 264.0231,-196.9681 274.4499,-191.6038\"/>\n",
       "<polygon fill=\"#000000\" stroke=\"#000000\" points=\"276.0029,-194.7411 283.5559,-187.3113 273.0181,-188.4094 276.0029,-194.7411\"/>\n",
       "<text text-anchor=\"middle\" x=\"279.0742\" y=\"-215.8\" font-family=\"Times,serif\" font-size=\"14.00\" fill=\"#000000\">user_global</text>\n",
       "</g>\n",
       "<!-- o4597226592 -->\n",
       "<g id=\"node7\" class=\"node\">\n",
       "<title>o4597226592</title>\n",
       "<polygon fill=\"#878787\" stroke=\"#000000\" points=\"433.2468,-281 369.5842,-281 369.5842,-245 433.2468,-245 433.2468,-281\"/>\n",
       "<text text-anchor=\"middle\" x=\"401.4155\" y=\"-265.8\" font-family=\"Times,serif\" font-size=\"14.00\" fill=\"#000000\">dict</text>\n",
       "<text text-anchor=\"middle\" x=\"401.4155\" y=\"-251.8\" font-family=\"Times,serif\" font-size=\"14.00\" fill=\"#000000\">19 items</text>\n",
       "</g>\n",
       "<!-- o4597226592&#45;&gt;o4597043992 -->\n",
       "<g id=\"edge6\" class=\"edge\">\n",
       "<title>o4597226592&#45;&gt;o4597043992</title>\n",
       "<path fill=\"none\" stroke=\"#000000\" d=\"M391.6499,-244.6304C385.7584,-234.5861 377.6203,-222.3279 368.4155,-213 364.2612,-208.7901 359.5462,-204.776 354.6826,-201.058\"/>\n",
       "<polygon fill=\"#000000\" stroke=\"#000000\" points=\"356.5861,-198.1154 346.43,-195.0979 352.4877,-203.7902 356.5861,-198.1154\"/>\n",
       "<text text-anchor=\"middle\" x=\"411.1191\" y=\"-215.8\" font-family=\"Times,serif\" font-size=\"14.00\" fill=\"#000000\">namespace</text>\n",
       "</g>\n",
       "<!-- o4599283784&#45;&gt;o4597043992 -->\n",
       "<g id=\"edge7\" class=\"edge\">\n",
       "<title>o4599283784&#45;&gt;o4597043992</title>\n",
       "<path fill=\"none\" stroke=\"#000000\" d=\"M277.0779,-109.0087C282.8995,-114.3711 288.8115,-120.5502 293.4155,-127 298.297,-133.8384 302.4346,-141.9319 305.7586,-149.5928\"/>\n",
       "<polygon fill=\"#000000\" stroke=\"#000000\" points=\"302.5415,-150.9738 309.5286,-158.9382 309.0332,-148.3549 302.5415,-150.9738\"/>\n",
       "<text text-anchor=\"middle\" x=\"335.6362\" y=\"-129.8\" font-family=\"Times,serif\" font-size=\"14.00\" fill=\"#000000\">__globals__</text>\n",
       "</g>\n",
       "<!-- o4598634832&#45;&gt;o4597043992 -->\n",
       "<g id=\"edge8\" class=\"edge\">\n",
       "<title>o4598634832&#45;&gt;o4597043992</title>\n",
       "<path fill=\"none\" stroke=\"#000000\" d=\"M496.5768,-109.2496C488.0693,-120.0281 475.9979,-133.0739 462.4155,-141 430.0994,-159.8584 388.2502,-168.8758 357.473,-173.1652\"/>\n",
       "<polygon fill=\"#000000\" stroke=\"#000000\" points=\"356.9631,-169.7018 347.4898,-174.446 357.8539,-176.6449 356.9631,-169.7018\"/>\n",
       "<text text-anchor=\"middle\" x=\"514.6362\" y=\"-129.8\" font-family=\"Times,serif\" font-size=\"14.00\" fill=\"#000000\">__globals__</text>\n",
       "</g>\n",
       "<!-- o140307327709512 -->\n",
       "<g id=\"node10\" class=\"node\">\n",
       "<title>o140307327709512</title>\n",
       "<polygon fill=\"#878787\" stroke=\"#000000\" points=\"675.5691,-281 451.2619,-281 451.2619,-245 675.5691,-245 675.5691,-281\"/>\n",
       "<text text-anchor=\"middle\" x=\"563.4155\" y=\"-265.8\" font-family=\"Times,serif\" font-size=\"14.00\" fill=\"#000000\">frame</text>\n",
       "<text text-anchor=\"middle\" x=\"563.4155\" y=\"-251.8\" font-family=\"Times,serif\" font-size=\"14.00\" fill=\"#000000\">&lt;ipython&#45;input&#45;18&#45;67720c8935a0&gt;:1</text>\n",
       "</g>\n",
       "<!-- o140307327709512&#45;&gt;o4597043992 -->\n",
       "<g id=\"edge9\" class=\"edge\">\n",
       "<title>o140307327709512&#45;&gt;o4597043992</title>\n",
       "<path fill=\"none\" stroke=\"#000000\" d=\"M524.317,-244.9127C501.5767,-234.7782 472.202,-222.3392 445.4155,-213 416.3278,-202.8585 382.81,-193.6344 357.0944,-187.0623\"/>\n",
       "<polygon fill=\"#000000\" stroke=\"#000000\" points=\"357.8471,-183.6426 347.2946,-184.5894 356.1343,-190.4299 357.8471,-183.6426\"/>\n",
       "<text text-anchor=\"middle\" x=\"504.5742\" y=\"-215.8\" font-family=\"Times,serif\" font-size=\"14.00\" fill=\"#000000\">f_locals</text>\n",
       "</g>\n",
       "<!-- o4571645096 -->\n",
       "<g id=\"node11\" class=\"node\">\n",
       "<title>o4571645096</title>\n",
       "<polygon fill=\"#4c4c4c\" stroke=\"#000000\" points=\"311.9638,-453 54.8673,-453 54.8673,-417 311.9638,-417 311.9638,-453\"/>\n",
       "<text text-anchor=\"middle\" x=\"183.4155\" y=\"-437.8\" font-family=\"Times,serif\" font-size=\"14.00\" fill=\"#ffffff\">ZMQInteractiveShell</text>\n",
       "<text text-anchor=\"middle\" x=\"183.4155\" y=\"-423.8\" font-family=\"Times,serif\" font-size=\"14.00\" fill=\"#ffffff\">&lt;ipykernel.zmqshell.ZMQInteractiveShell </text>\n",
       "</g>\n",
       "<!-- o4571645096&#45;&gt;o4596796656 -->\n",
       "<g id=\"edge12\" class=\"edge\">\n",
       "<title>o4571645096&#45;&gt;o4596796656</title>\n",
       "<path fill=\"none\" stroke=\"#000000\" d=\"M183.4155,-416.7616C183.4155,-405.3597 183.4155,-390.4342 183.4155,-377.494\"/>\n",
       "<polygon fill=\"#000000\" stroke=\"#000000\" points=\"186.9156,-377.2121 183.4155,-367.2121 179.9156,-377.2121 186.9156,-377.2121\"/>\n",
       "<text text-anchor=\"middle\" x=\"207.9121\" y=\"-387.8\" font-family=\"Times,serif\" font-size=\"14.00\" fill=\"#000000\">__dict__</text>\n",
       "</g>\n",
       "<!-- o4597264792 -->\n",
       "<g id=\"node12\" class=\"node\">\n",
       "<title>o4597264792</title>\n",
       "<polygon fill=\"#4c4c4c\" stroke=\"#000000\" points=\"530.0943,-367 272.7368,-367 272.7368,-331 530.0943,-331 530.0943,-367\"/>\n",
       "<text text-anchor=\"middle\" x=\"401.4155\" y=\"-351.8\" font-family=\"Times,serif\" font-size=\"14.00\" fill=\"#ffffff\">IPCompleter</text>\n",
       "<text text-anchor=\"middle\" x=\"401.4155\" y=\"-337.8\" font-family=\"Times,serif\" font-size=\"14.00\" fill=\"#ffffff\">&lt;IPython.core.completer.IPCompleter obje</text>\n",
       "</g>\n",
       "<!-- o4597264792&#45;&gt;o4597226592 -->\n",
       "<g id=\"edge14\" class=\"edge\">\n",
       "<title>o4597264792&#45;&gt;o4597226592</title>\n",
       "<path fill=\"none\" stroke=\"#000000\" d=\"M401.4155,-330.7616C401.4155,-319.3597 401.4155,-304.4342 401.4155,-291.494\"/>\n",
       "<polygon fill=\"#000000\" stroke=\"#000000\" points=\"404.9156,-291.2121 401.4155,-281.2121 397.9156,-291.2121 404.9156,-291.2121\"/>\n",
       "<text text-anchor=\"middle\" x=\"425.9121\" y=\"-301.8\" font-family=\"Times,serif\" font-size=\"14.00\" fill=\"#000000\">__dict__</text>\n",
       "</g>\n",
       "<!-- o4937649544 -->\n",
       "<g id=\"node13\" class=\"node\">\n",
       "<title>o4937649544</title>\n",
       "<polygon fill=\"#4c4c4c\" stroke=\"#000000\" points=\"764.8525,-367 547.9786,-367 547.9786,-331 764.8525,-331 764.8525,-367\"/>\n",
       "<text text-anchor=\"middle\" x=\"656.4155\" y=\"-351.8\" font-family=\"Times,serif\" font-size=\"14.00\" fill=\"#ffffff\">traceback</text>\n",
       "<text text-anchor=\"middle\" x=\"656.4155\" y=\"-337.8\" font-family=\"Times,serif\" font-size=\"14.00\" fill=\"#ffffff\">&lt;traceback object at 0x1264e8d88&gt;</text>\n",
       "</g>\n",
       "<!-- o4937649544&#45;&gt;o140307327709512 -->\n",
       "<g id=\"edge17\" class=\"edge\">\n",
       "<title>o4937649544&#45;&gt;o140307327709512</title>\n",
       "<path fill=\"none\" stroke=\"#000000\" d=\"M636.6926,-330.7616C623.2529,-318.3335 605.2861,-301.719 590.5071,-288.0524\"/>\n",
       "<polygon fill=\"#000000\" stroke=\"#000000\" points=\"592.8283,-285.4318 583.11,-281.2121 588.0757,-290.5712 592.8283,-285.4318\"/>\n",
       "</g>\n",
       "</g>\n",
       "</svg>\n"
      ],
      "text/plain": [
       "<graphviz.files.Source at 0x1120d53c8>"
      ]
     },
     "execution_count": 20,
     "metadata": {},
     "output_type": "execute_result"
    }
   ],
   "source": [
    "import objgraph\n",
    " \n",
    "a = [1, 2, 3]\n",
    "b = [4, 5, 6]\n",
    " \n",
    "a.append(b)\n",
    "b.append(a)\n",
    " \n",
    "objgraph.show_backrefs([a])\n"
   ]
  },
  {
   "cell_type": "markdown",
   "metadata": {},
   "source": [
    "相比刚才的引用调用图，这张图显得稍微复杂一些。不过，我仍旧推荐你掌握它，因为这个 API 有很多有用的参数，比如层数限制（max_depth）、宽度限制（too_many）、输出格式控制（filename output）、节点过滤（filter, extra_ignore）等。所以，建议你使用之前，先认真看一下文档。\n",
    "\n",
    "### 总结\n",
    "最后，带你来总结一下。今天这节课，我们深入了解了 Python 的垃圾回收机制，我主要强调下面这几点：\n",
    "\n",
    "1. 垃圾回收是 Python 自带的机制，用于自动释放不会再用到的内存空间；\n",
    "2. 引用计数是其中最简单的实现，不过切记，这只是充分非必要条件，因为循环引用需要通过不可达判定，来确定是否可以回收；\n",
    "3. Python 的自动回收算法包括标记清除和分代收集，主要针对的是循环引用的垃圾收集；\n",
    "4. 调试内存泄漏方面， objgraph 是很好的可视化分析工具。\n",
    "\n",
    "### 思考题\n",
    "最后给你留一道思考题。你能否自己实现一个垃圾回收判定算法呢？我的要求很简单，输入是一个有向图，给定起点，表示程序入口点；给定有向边，输出不可达节点。"
   ]
  }
 ],
 "metadata": {
  "kernelspec": {
   "display_name": "Python 3",
   "language": "python",
   "name": "python3"
  },
  "language_info": {
   "codemirror_mode": {
    "name": "ipython",
    "version": 3
   },
   "file_extension": ".py",
   "mimetype": "text/x-python",
   "name": "python",
   "nbconvert_exporter": "python",
   "pygments_lexer": "ipython3",
   "version": "3.7.1"
  }
 },
 "nbformat": 4,
 "nbformat_minor": 2
}
