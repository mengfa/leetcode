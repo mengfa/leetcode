{
 "cells": [
  {
   "cell_type": "markdown",
   "metadata": {},
   "source": [
    "#### 509. 斐波那契数\n",
    "\n",
    "斐波那契数，通常用 F(n) 表示，形成的序列称为斐波那契数列。该数列由 0 和 1 开始，后面的每一项数字都是前面两项数字的和。也就是：\n",
    "\n",
    "F(0) = 0,   F(1) = 1\n",
    "F(N) = F(N - 1) + F(N - 2), 其中 N > 1.\n",
    "给定 N，计算 F(N)。\n",
    "\n",
    " \n",
    "\n",
    "示例 1：\n",
    "```\n",
    "输入：2\n",
    "输出：1\n",
    "解释：F(2) = F(1) + F(0) = 1 + 0 = 1.\n",
    "```\n",
    "示例 2：\n",
    "```\n",
    "输入：3\n",
    "输出：2\n",
    "解释：F(3) = F(2) + F(1) = 1 + 1 = 2.\n",
    "```\n",
    "示例 3：\n",
    "```\n",
    "输入：4\n",
    "输出：3\n",
    "解释：F(4) = F(3) + F(2) = 2 + 1 = 3.\n",
    "``` \n",
    "\n",
    "提示：\n",
    "\n",
    "0 ≤ N ≤ 30"
   ]
  },
  {
   "cell_type": "code",
   "execution_count": null,
   "metadata": {},
   "outputs": [],
   "source": [
    "执行用时为 16 ms 的范例\n",
    "class Solution:\n",
    "    \n",
    "    \n",
    "    def fib(self, N):\n",
    "        \"\"\"\n",
    "        :type N: int\n",
    "        :rtype: int\n",
    "        \"\"\"\n",
    "        if N == 0:\n",
    "            return 0\n",
    "        if N == 1:\n",
    "            return 1\n",
    "        a, b = 0, 1\n",
    "        for _ in range(N-1):\n",
    "            a, b = b, a+b\n",
    "        return b"
   ]
  },
  {
   "cell_type": "code",
   "execution_count": null,
   "metadata": {},
   "outputs": [],
   "source": [
    "class Solution(object):\n",
    "    \n",
    "    def fib(self, n):\n",
    "        \"\"\"\n",
    "        :type n: int\n",
    "        :rtype: int\n",
    "        \"\"\"\n",
    "        a = 1\n",
    "        b = 1\n",
    "        \n",
    "        if n == 0:\n",
    "            return 0\n",
    "        if n == 1:\n",
    "            return 1\n",
    "        if n == 2:\n",
    "            return 1\n",
    "        \n",
    "        for i in range(3,n+1):\n",
    "            temp = a + b\n",
    "            a = b\n",
    "            b = temp\n",
    "          \n",
    "        \n",
    "        return b"
   ]
  },
  {
   "cell_type": "code",
   "execution_count": null,
   "metadata": {},
   "outputs": [],
   "source": [
    "执行用时为 24 ms 的范例\n",
    "class Solution(object):\n",
    "    def fib(self, N):\n",
    "        \"\"\"\n",
    "        :type N: int\n",
    "        :rtype: int\n",
    "        \"\"\"\n",
    "        res = [0,1]\n",
    "        if N == 0:\n",
    "            return 0\n",
    "        elif N == 1:\n",
    "            return 1\n",
    "        else:\n",
    "            for i in range(2,N+1):\n",
    "                res.append(res[i-1]+ res[i-2])\n",
    "        return res[N]"
   ]
  }
 ],
 "metadata": {
  "kernelspec": {
   "display_name": "Python 3",
   "language": "python",
   "name": "python3"
  },
  "language_info": {
   "codemirror_mode": {
    "name": "ipython",
    "version": 3
   },
   "file_extension": ".py",
   "mimetype": "text/x-python",
   "name": "python",
   "nbconvert_exporter": "python",
   "pygments_lexer": "ipython3",
   "version": "3.7.1"
  }
 },
 "nbformat": 4,
 "nbformat_minor": 2
}
