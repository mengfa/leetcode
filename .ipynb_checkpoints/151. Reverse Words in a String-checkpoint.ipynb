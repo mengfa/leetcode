{
 "cells": [
  {
   "cell_type": "markdown",
   "metadata": {},
   "source": [
    "### 151. 翻转字符串里的单词"
   ]
  },
  {
   "cell_type": "markdown",
   "metadata": {},
   "source": [
    "给定一个字符串，逐个翻转字符串中的每个单词。\n",
    "\n",
    " \n",
    "\n",
    "示例 1：\n",
    "```\n",
    "输入: \"the sky is blue\"\n",
    "输出: \"blue is sky the\"\n",
    "```\n",
    "示例 2：\n",
    "```\n",
    "输入: \"  hello world!  \"\n",
    "输出: \"world! hello\"\n",
    "解释: 输入字符串可以在前面或者后面包含多余的空格，但是反转后的字符不能包括。\n",
    "```\n",
    "示例 3：\n",
    "```\n",
    "输入: \"a good   example\"\n",
    "输出: \"example good a\"\n",
    "解释: 如果两个单词间有多余的空格，将反转后单词间的空格减少到只含一个。\n",
    " ```\n",
    "\n",
    "说明：\n",
    "\n",
    "无空格字符构成一个单词。\n",
    "输入字符串可以在前面或者后面包含多余的空格，但是反转后的字符不能包括。\n",
    "如果两个单词间有多余的空格，将反转后单词间的空格减少到只含一个。\n",
    " \n",
    "\n",
    "进阶：\n",
    "\n",
    "请选用 C 语言的用户尝试使用 O(1) 额外空间复杂度的原地解法。"
   ]
  },
  {
   "cell_type": "code",
   "execution_count": 1,
   "metadata": {},
   "outputs": [],
   "source": [
    "# 执行用时为 16 ms 的范例\n",
    "class Solution(object):\n",
    "    def reverseWords(self, s):\n",
    "        \"\"\"\n",
    "        :type s: str\n",
    "        :rtype: str\n",
    "        \"\"\"\n",
    "        return ' '.join(reversed(s.split()))"
   ]
  },
  {
   "cell_type": "code",
   "execution_count": null,
   "metadata": {},
   "outputs": [],
   "source": []
  }
 ],
 "metadata": {
  "kernelspec": {
   "display_name": "Python 3",
   "language": "python",
   "name": "python3"
  },
  "language_info": {
   "codemirror_mode": {
    "name": "ipython",
    "version": 3
   },
   "file_extension": ".py",
   "mimetype": "text/x-python",
   "name": "python",
   "nbconvert_exporter": "python",
   "pygments_lexer": "ipython3",
   "version": "3.7.1"
  }
 },
 "nbformat": 4,
 "nbformat_minor": 2
}
