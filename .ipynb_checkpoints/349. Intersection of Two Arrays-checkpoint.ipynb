{
 "cells": [
  {
   "cell_type": "markdown",
   "metadata": {},
   "source": [
    "### 349. 两个数组的交集\n",
    "给定两个数组，编写一个函数来计算它们的交集。\n",
    "\n",
    "示例 1:\n",
    "```\n",
    "输入: nums1 = [1,2,2,1], nums2 = [2,2]\n",
    "输出: [2]\n",
    "```\n",
    "示例 2:\n",
    "```\n",
    "输入: nums1 = [4,9,5], nums2 = [9,4,9,8,4]\n",
    "输出: [9,4]\n",
    "```\n",
    "说明:\n",
    "```\n",
    "输出结果中的每个元素一定是唯一的。\n",
    "我们可以不考虑输出结果的顺序。\n",
    "```"
   ]
  },
  {
   "cell_type": "code",
   "execution_count": null,
   "metadata": {},
   "outputs": [],
   "source": [
    "执行用时为 20 ms 的范例\n",
    "class Solution(object):\n",
    "    def intersection(self, nums1, nums2):\n",
    "        \"\"\"\n",
    "        :type nums1: List[int]\n",
    "        :type nums2: List[int]\n",
    "        :rtype: List[int]\n",
    "        \"\"\"\n",
    "        return list(set(nums1) & set(nums2))"
   ]
  },
  {
   "cell_type": "code",
   "execution_count": null,
   "metadata": {},
   "outputs": [],
   "source": [
    "执行用时为 24 ms 的范例\n",
    "class Solution(object):\n",
    "    def intersection(self, nums1, nums2):\n",
    "        \"\"\"\n",
    "        :type nums1: List[int]\n",
    "        :type nums2: List[int]\n",
    "        :rtype: List[int]\n",
    "        \"\"\"\n",
    "        dict1 = {}\n",
    "        dict2 = {}\n",
    "        res = []\n",
    "        for num in nums1:\n",
    "            dict1[num] = 1\n",
    "        for num in nums2:\n",
    "            dict2[num] = 1\n",
    "        for k,v in dict1.items():\n",
    "            if dict2.get(k, 0):\n",
    "                res.append(k)\n",
    "        return res"
   ]
  },
  {
   "cell_type": "code",
   "execution_count": null,
   "metadata": {},
   "outputs": [],
   "source": [
    "执行用时为 28 ms 的范例\n",
    "class Solution(object):\n",
    "    def intersection(self, nums1, nums2):\n",
    "        \"\"\"\n",
    "        :type nums1: List[int]\n",
    "        :type nums2: List[int]\n",
    "        :rtype: List[int]\n",
    "        \"\"\"\n",
    "        return list(set(nums1) & set(nums2))"
   ]
  }
 ],
 "metadata": {
  "kernelspec": {
   "display_name": "Python 3",
   "language": "python",
   "name": "python3"
  },
  "language_info": {
   "codemirror_mode": {
    "name": "ipython",
    "version": 3
   },
   "file_extension": ".py",
   "mimetype": "text/x-python",
   "name": "python",
   "nbconvert_exporter": "python",
   "pygments_lexer": "ipython3",
   "version": "3.7.1"
  }
 },
 "nbformat": 4,
 "nbformat_minor": 2
}
