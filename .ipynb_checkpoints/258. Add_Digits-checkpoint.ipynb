{
 "cells": [
  {
   "cell_type": "markdown",
   "metadata": {},
   "source": [
    "## 258. 各位相加"
   ]
  },
  {
   "cell_type": "markdown",
   "metadata": {},
   "source": [
    "给定一个非负整数 num，反复将各个位上的数字相加，直到结果为一位数。\n",
    "\n",
    "示例:\n",
    "```\n",
    "输入: 38\n",
    "输出: 2 \n",
    "解释: 各位相加的过程为：3 + 8 = 11, 1 + 1 = 2。 由于 2 是一位数，所以返回 2。\n",
    "```\n",
    "进阶:\n",
    "你可以不使用循环或者递归，且在 O(1) 时间复杂度内解决这个问题吗？"
   ]
  },
  {
   "cell_type": "code",
   "execution_count": null,
   "metadata": {},
   "outputs": [],
   "source": [
    "class Solution(object):\n",
    "    def addDigits(self, num):\n",
    "        \"\"\"\n",
    "        :type num: int\n",
    "        :rtype: int\n",
    "        \"\"\"\n",
    "        return num and (num % 9 or 9) \n",
    "        "
   ]
  },
  {
   "cell_type": "markdown",
   "metadata": {},
   "source": [
    "另一个方法比较简单，可以举例说明一下。假设输入的数字是一个5位数字num，\n",
    "\n",
    "则num的各位分别为a、b、c、d、e。有如下关系：num = a * 10000 + b * 1000 + c * 100 + d * 10 + e\n",
    "\n",
    "即：num = (a + b + c + d + e) + (a * 9999 + b * 999 + c * 99 + d * 9)\n",
    "\n",
    "因为 a * 9999 + b * 999 + c * 99 + d * 9 一定可以被9整除，因此num模除9的结果\n",
    "\n",
    "与 a + b + c + d + e 模除9的结果是一样的。对数字 a + b + c + d + e 反复执行同类操作，\n",
    "\n",
    "最后的结果就是一个 1-9 的数字加上一串数字，最左边的数字是 1-9 之间的，右侧的数字永远都\n",
    "\n",
    "是可以被9整除的。\n",
    "\n",
    "注意：\n",
    "\n",
    "要处理特殊情况，当数为 0 时候，请直接返回0\n"
   ]
  },
  {
   "cell_type": "code",
   "execution_count": null,
   "metadata": {},
   "outputs": [],
   "source": []
  }
 ],
 "metadata": {
  "kernelspec": {
   "display_name": "Python 3",
   "language": "python",
   "name": "python3"
  },
  "language_info": {
   "codemirror_mode": {
    "name": "ipython",
    "version": 3
   },
   "file_extension": ".py",
   "mimetype": "text/x-python",
   "name": "python",
   "nbconvert_exporter": "python",
   "pygments_lexer": "ipython3",
   "version": "3.7.1"
  }
 },
 "nbformat": 4,
 "nbformat_minor": 2
}
