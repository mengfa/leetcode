{
 "cells": [
  {
   "cell_type": "markdown",
   "metadata": {},
   "source": [
    "## 167. 两数之和 II - 输入有序数组"
   ]
  },
  {
   "cell_type": "markdown",
   "metadata": {},
   "source": [
    "给定一个已按照升序排列 的有序数组，找到两个数使得它们相加之和等于目标数。\n",
    "\n",
    "函数应该返回这两个下标值 index1 和 index2，其中 index1 必须小于 index2。\n",
    "\n",
    "说明:\n",
    "\n",
    "返回的下标值（index1 和 index2）不是从零开始的。\n",
    "你可以假设每个输入只对应唯一的答案，而且你不可以重复使用相同的元素。\n",
    "示例:\n",
    "```\n",
    "输入: numbers = [2, 7, 11, 15], target = 9\n",
    "输出: [1,2]\n",
    "解释: 2 与 7 之和等于目标数 9 。因此 index1 = 1, index2 = 2 。\n",
    "```"
   ]
  },
  {
   "cell_type": "code",
   "execution_count": null,
   "metadata": {},
   "outputs": [],
   "source": [
    "# 执行用时为 20 ms 的范例\n",
    "class Solution(object):\n",
    "    def twoSum(self, numbers, target):\n",
    "        \"\"\"\n",
    "        :type numbers: List[int]\n",
    "        :type target: int\n",
    "        :rtype: List[int]\n",
    "        \"\"\"\n",
    "        hash = {}\n",
    "        for i,num in enumerate(numbers):\n",
    "            if target-num in hash:\n",
    "                return [hash[target-num]+1, i+1]\n",
    "            hash[num] = i"
   ]
  }
 ],
 "metadata": {
  "kernelspec": {
   "display_name": "Python 3",
   "language": "python",
   "name": "python3"
  },
  "language_info": {
   "codemirror_mode": {
    "name": "ipython",
    "version": 3
   },
   "file_extension": ".py",
   "mimetype": "text/x-python",
   "name": "python",
   "nbconvert_exporter": "python",
   "pygments_lexer": "ipython3",
   "version": "3.7.1"
  }
 },
 "nbformat": 4,
 "nbformat_minor": 2
}
