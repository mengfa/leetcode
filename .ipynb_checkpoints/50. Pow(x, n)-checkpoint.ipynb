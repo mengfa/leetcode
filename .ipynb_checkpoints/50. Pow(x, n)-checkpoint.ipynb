{
 "cells": [
  {
   "cell_type": "markdown",
   "metadata": {},
   "source": [
    "### 50. Pow(x, n)\n",
    "实现 pow(x, n) ，即计算 x 的 n 次幂函数。\n",
    "\n",
    "示例 1:\n",
    "```\n",
    "输入: 2.00000, 10\n",
    "输出: 1024.00000\n",
    "```\n",
    "示例 2:\n",
    "```\n",
    "输入: 2.10000, 3\n",
    "输出: 9.26100\n",
    "```\n",
    "示例 3:\n",
    "```\n",
    "输入: 2.00000, -2\n",
    "输出: 0.25000\n",
    "解释: 2-2 = 1/22 = 1/4 = 0.25\n",
    "```\n",
    "说明:\n",
    "\n",
    "-100.0 < x < 100.0\n",
    "n 是 32 位有符号整数，其数值范围是 [−231, 231 − 1] 。"
   ]
  },
  {
   "cell_type": "code",
   "execution_count": null,
   "metadata": {},
   "outputs": [],
   "source": [
    "执行用时为 32 ms 的范例\n",
    "class Solution(object):\n",
    "    def myPow(self, x, n):\n",
    "        \"\"\"\n",
    "        :type x: float\n",
    "        :type n: int\n",
    "        :rtype: float\n",
    "        \"\"\"\n",
    "        if n < 0:\n",
    "            x = 1 / x\n",
    "            n = -n\n",
    "        pow = 1\n",
    "        while n:\n",
    "            if n & 1:\n",
    "                pow *= x\n",
    "            x *= x\n",
    "            n >>= 1\n",
    "        return pow"
   ]
  },
  {
   "cell_type": "code",
   "execution_count": null,
   "metadata": {},
   "outputs": [],
   "source": [
    "执行用时为 28 ms 的范例\n",
    "class Solution(object):\n",
    "    def myPow(self, x, n):\n",
    "        \"\"\"\n",
    "        :type x: float\n",
    "        :type n: int\n",
    "        :rtype: float\n",
    "        \"\"\"\n",
    "        \n",
    "        if n < 0: return 1/self.myPow(x, -n)\n",
    "        ans = 1\n",
    "        while n > 0:\n",
    "            if n % 2 != 0:\n",
    "                ans *= x\n",
    "            x *= x\n",
    "            n = n // 2\n",
    "        return ans"
   ]
  },
  {
   "cell_type": "code",
   "execution_count": null,
   "metadata": {},
   "outputs": [],
   "source": [
    "class Solution(object):\n",
    "    def myPow(self, x, n):\n",
    "        \"\"\"\n",
    "        :type x: float\n",
    "        :type n: int\n",
    "        :rtype: float\n",
    "        \"\"\"\n",
    "        return pow(x,n)"
   ]
  }
 ],
 "metadata": {
  "kernelspec": {
   "display_name": "Python 3",
   "language": "python",
   "name": "python3"
  },
  "language_info": {
   "codemirror_mode": {
    "name": "ipython",
    "version": 3
   },
   "file_extension": ".py",
   "mimetype": "text/x-python",
   "name": "python",
   "nbconvert_exporter": "python",
   "pygments_lexer": "ipython3",
   "version": "3.7.1"
  }
 },
 "nbformat": 4,
 "nbformat_minor": 2
}
